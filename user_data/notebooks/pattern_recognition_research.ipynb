{
 "cells": [
  {
   "cell_type": "code",
   "execution_count": 24,
   "id": "initial_id",
   "metadata": {
    "collapsed": true,
    "ExecuteTime": {
     "end_time": "2024-11-02T07:56:49.278953Z",
     "start_time": "2024-11-02T07:56:49.247058Z"
    }
   },
   "outputs": [
    {
     "name": "stdout",
     "output_type": "stream",
     "text": [
      "/Users/liuqiaowei/SourceCode/freqtrade\n"
     ]
    }
   ],
   "source": [
    "import os\n",
    "from pathlib import Path\n",
    "\n",
    "# Change directory\n",
    "# Modify this cell to insure that the output shows the correct path.\n",
    "# Define all paths relative to the project root shown in the cell output\n",
    "project_root = \"/Users/liuqiaowei/SourceCode/freqtrade/user_data/notebooks\"\n",
    "i = 0\n",
    "try:\n",
    "    os.chdir(project_root)\n",
    "    if not Path(\"LICENSE\").is_file():\n",
    "        i = 0\n",
    "        while i < 4 and (not Path(\"LICENSE\").is_file()):\n",
    "            os.chdir(Path(Path.cwd(), \"../\"))\n",
    "            i += 1\n",
    "        project_root = Path.cwd()\n",
    "except FileNotFoundError:\n",
    "    print(\"Please define the project root relative to the current directory\")\n",
    "print(Path.cwd())"
   ]
  },
  {
   "cell_type": "code",
   "outputs": [],
   "source": [
    "from freqtrade.configuration import Configuration\n",
    "\n",
    "\n",
    "# Customize these according to your needs.\n",
    "\n",
    "# Initialize empty configuration object\n",
    "config = Configuration.from_files([\"./user_data/config.json\"])\n",
    "# Optionally (recommended), use existing configuration file\n",
    "# config = Configuration.from_files([\"user_data/config.json\"])\n",
    "\n",
    "# Location of the data\n",
    "data_location = config[\"datadir\"]\n",
    "config['timeframe'] = '5m'\n",
    "# Pair to analyze - Only use one pair here\n",
    "# config['exchange']['pair_whitelist']"
   ],
   "metadata": {
    "collapsed": false,
    "ExecuteTime": {
     "end_time": "2024-11-02T07:56:50.138616Z",
     "start_time": "2024-11-02T07:56:50.094757Z"
    }
   },
   "id": "bce7b3a4a663fe92",
   "execution_count": 25
  },
  {
   "cell_type": "code",
   "outputs": [],
   "source": [
    "from freqtrade.data.history import load_pair_history\n",
    "from freqtrade.enums import CandleType\n",
    "from pandas_ta import percent_return\n",
    "import pandas_ta as ta\n",
    "\n",
    "candles_dict = {}\n",
    "for pair in config['exchange']['pair_whitelist']:\n",
    "    candles = load_pair_history(\n",
    "        datadir=data_location,\n",
    "        timeframe=config[\"timeframe\"],\n",
    "        pair=pair,\n",
    "        data_format=\"feather\",  # Make sure to update this to your data\n",
    "        candle_type=CandleType.FUTURES,\n",
    "    )\n",
    "    candles['sym'] = pair\n",
    "    candles.set_index('date', inplace=True)\n",
    "    candles.set_index('sym', append=True, inplace=True)\n",
    "    candles['return'] = percent_return(candles.close, offset=-12)\n",
    "    \n",
    "    \n",
    "    candles_dict[pair] = candles"
   ],
   "metadata": {
    "collapsed": false,
    "ExecuteTime": {
     "end_time": "2024-11-02T07:57:14.891997Z",
     "start_time": "2024-11-02T07:57:12.171280Z"
    }
   },
   "id": "aa1ee0d5b0c8c1a4",
   "execution_count": 28
  },
  {
   "cell_type": "code",
   "outputs": [
    {
     "name": "stdout",
     "output_type": "stream",
     "text": [
      "BTC/USDT:USDT: 3inside long count 75 return mean: -0.00022703968399531593, \n",
      " 3inside short count 77 short mean: -0.00018632761364537604\n",
      "ETH/USDT:USDT: 3inside long count 67 return mean: 5.805998308772816e-05, \n",
      " 3inside short count 85 short mean: -5.5299133018489846e-05\n",
      "BNB/USDT:USDT: 3inside long count 83 return mean: 0.00031933916615152643, \n",
      " 3inside short count 71 short mean: 8.088889856908496e-05\n",
      "XRP/USDT:USDT: 3inside long count 56 return mean: 0.0002690430239366152, \n",
      " 3inside short count 30 short mean: 0.001545259537909486\n",
      "ADA/USDT:USDT: 3inside long count 50 return mean: 7.837453649784942e-05, \n",
      " 3inside short count 22 short mean: 0.00038388489329933953\n",
      "DOGE/USDT:USDT: 3inside long count 68 return mean: -0.00014544741602996, \n",
      " 3inside short count 62 short mean: 9.703338048897809e-06\n",
      "SOL/USDT:USDT: 3inside long count 102 return mean: -3.1229887319961236e-05, \n",
      " 3inside short count 97 short mean: -0.00018814257794873523\n",
      "TRX/USDT:USDT: 3inside long count 67 return mean: -5.76081380968292e-05, \n",
      " 3inside short count 35 short mean: -7.505965403604392e-06\n",
      "DOT/USDT:USDT: 3inside long count 47 return mean: 7.076308573895699e-05, \n",
      " 3inside short count 31 short mean: 0.0008088194109475018\n",
      "LTC/USDT:USDT: 3inside long count 43 return mean: -0.00045025593501721756, \n",
      " 3inside short count 49 short mean: 0.0001285905481574739\n",
      "1000SHIB/USDT:USDT: 3inside long count 91 return mean: 0.00010193429704859461, \n",
      " 3inside short count 67 short mean: -7.435249319608323e-05\n",
      "BCH/USDT:USDT: 3inside long count 97 return mean: 0.0004437154994584383, \n",
      " 3inside short count 96 short mean: 0.00036639880575415246\n",
      "AVAX/USDT:USDT: 3inside long count 89 return mean: -4.2715708631533886e-07, \n",
      " 3inside short count 78 short mean: -0.00034247330396024997\n",
      "XLM/USDT:USDT: 3inside long count 64 return mean: 2.3836325735809155e-05, \n",
      " 3inside short count 62 short mean: 0.00010276221586798296\n",
      "LINK/USDT:USDT: 3inside long count 80 return mean: -2.8480793405674664e-05, \n",
      " 3inside short count 69 short mean: 0.0003587935538396913\n",
      "XMR/USDT:USDT: 3inside long count 126 return mean: -0.0005881495275350464, \n",
      " 3inside short count 81 short mean: -0.00028477015859090587\n",
      "UNI/USDT:USDT: 3inside long count 72 return mean: 0.00016314178727649644, \n",
      " 3inside short count 64 short mean: -0.0006448867977323896\n",
      "ATOM/USDT:USDT: 3inside long count 68 return mean: -3.141312031870409e-05, \n",
      " 3inside short count 43 short mean: -2.3939941401002324e-05\n",
      "ETC/USDT:USDT: 3inside long count 71 return mean: 0.0001300231186020697, \n",
      " 3inside short count 78 short mean: 6.422691665744851e-06\n",
      "HBAR/USDT:USDT: 3inside long count 58 return mean: -0.0004851494025538799, \n",
      " 3inside short count 45 short mean: 0.0003722246628379697\n",
      "ICP/USDT:USDT: 3inside long count 77 return mean: 0.0006939023810464341, \n",
      " 3inside short count 73 short mean: -0.0003467544959747036\n",
      "FIL/USDT:USDT: 3inside long count 45 return mean: 0.00038830493531884317, \n",
      " 3inside short count 33 short mean: 0.00043385399000116947\n",
      "LDO/USDT:USDT: 3inside long count 80 return mean: 0.00020326141709631624, \n",
      " 3inside short count 98 short mean: -0.00027515085845289784\n",
      "APT/USDT:USDT: 3inside long count 65 return mean: -0.0004945529833400617, \n",
      " 3inside short count 65 short mean: -0.0007101474721263213\n",
      "QNT/USDT:USDT: 3inside long count 70 return mean: -1.4872679021560309e-05, \n",
      " 3inside short count 51 short mean: 0.0007814791790126838\n",
      "ARB/USDT:USDT: 3inside long count 71 return mean: 0.00043933409409905574, \n",
      " 3inside short count 56 short mean: 0.00020495190221772992\n",
      "VET/USDT:USDT: 3inside long count 113 return mean: -0.0006730763446251884, \n",
      " 3inside short count 113 short mean: 0.00047218448961003183\n",
      "MKR/USDT:USDT: 3inside long count 96 return mean: -0.00012665363238345434, \n",
      " 3inside short count 110 short mean: 0.00013639810621519542\n",
      "OP/USDT:USDT: 3inside long count 99 return mean: -0.00017301757843864637, \n",
      " 3inside short count 96 short mean: -0.0003520121893233058\n",
      "NEAR/USDT:USDT: 3inside long count 47 return mean: -0.0006322313466138082, \n",
      " 3inside short count 50 short mean: -0.0007641364531925809\n",
      "AAVE/USDT:USDT: 3inside long count 67 return mean: 8.355224239197879e-05, \n",
      " 3inside short count 66 short mean: -0.00043543276565175405\n",
      "GRT/USDT:USDT: 3inside long count 95 return mean: -0.00023129969274032243, \n",
      " 3inside short count 107 short mean: -0.0005075355169159672\n",
      "ALGO/USDT:USDT: 3inside long count 11 return mean: 0.0005377920084396193, \n",
      " 3inside short count 8 short mean: 0.0013323539307714127\n",
      "STX/USDT:USDT: 3inside long count 93 return mean: 0.0001326215062205452, \n",
      " 3inside short count 96 short mean: -0.00020618399507246984\n",
      "XTZ/USDT:USDT: 3inside long count 2 return mean: 0.006124660782251601, \n",
      " 3inside short count 2 short mean: 0.004081247283325151\n",
      "EOS/USDT:USDT: 3inside long count 2 return mean: -0.0009243609209232395, \n",
      " 3inside short count 1 short mean: 0.04587155963302747\n",
      "EGLD/USDT:USDT: 3inside long count 89 return mean: -6.433655829019751e-05, \n",
      " 3inside short count 94 short mean: -0.00025071856249783166\n",
      "AXS/USDT:USDT: 3inside long count 55 return mean: -0.00031650467920149534, \n",
      " 3inside short count 46 short mean: 0.00014423832342890146\n",
      "SAND/USDT:USDT: 3inside long count 42 return mean: -0.0001049011362079244, \n",
      " 3inside short count 15 short mean: 0.0016621890878597482\n",
      "THETA/USDT:USDT: 3inside long count 104 return mean: -0.0005623284236411486, \n",
      " 3inside short count 77 short mean: 6.248447860382441e-05\n",
      "IMX/USDT:USDT: 3inside long count 105 return mean: 0.0005772303053520346, \n",
      " 3inside short count 98 short mean: 2.439767479724669e-05\n",
      "SNX/USDT:USDT: 3inside long count 18 return mean: 0.0009303610376902367, \n",
      " 3inside short count 25 short mean: 0.0007202255173470995\n",
      "INJ/USDT:USDT: 3inside long count 114 return mean: 0.0002001671568379789, \n",
      " 3inside short count 104 short mean: -0.00029579159435195155\n",
      "FTM/USDT:USDT: 3inside long count 56 return mean: -0.0003545029189211917, \n",
      " 3inside short count 54 short mean: 0.00011637382949179713\n",
      "MANA/USDT:USDT: 3inside long count 53 return mean: 4.986235574440783e-05, \n",
      " 3inside short count 29 short mean: -0.0002571872876452713\n",
      "NEO/USDT:USDT: 3inside long count 78 return mean: 0.00041663425585197896, \n",
      " 3inside short count 68 short mean: 0.0005298440012058523\n",
      "RUNE/USDT:USDT: 3inside long count 48 return mean: 8.401836611727359e-05, \n",
      " 3inside short count 32 short mean: -0.0001672567464283091\n",
      "APE/USDT:USDT: 3inside long count 76 return mean: -0.00010256981307566062, \n",
      " 3inside short count 60 short mean: 6.477854935581137e-05\n",
      "KAVA/USDT:USDT: 3inside long count 60 return mean: -0.000366135608589363, \n",
      " 3inside short count 43 short mean: -0.0011693871520216728\n",
      "FLOW/USDT:USDT: 3inside long count 6 return mean: 0.0004172050313673292, \n",
      " 3inside short count 3 short mean: 0.013033729697012589\n",
      "1000XEC/USDT:USDT: 3inside long count 53 return mean: 3.886980523456045e-05, \n",
      " 3inside short count 39 short mean: 0.0027344239279208813\n",
      "CHZ/USDT:USDT: 3inside long count 62 return mean: -0.00025803087062982856, \n",
      " 3inside short count 70 short mean: 0.0008416560194989883\n",
      "KLAY/USDT:USDT: 3inside long count 12 return mean: -0.0013841276896394972, \n",
      " 3inside short count 9 short mean: 0.003935737524252778\n",
      "CFX/USDT:USDT: 3inside long count 93 return mean: -0.0004208852794334828, \n",
      " 3inside short count 112 short mean: 0.00013485463654877076\n",
      "FXS/USDT:USDT: 3inside long count 112 return mean: -5.3861230338144674e-05, \n",
      " 3inside short count 80 short mean: 0.00021541117994304664\n",
      "ZEC/USDT:USDT: 3inside long count 46 return mean: -0.0005996012086705498, \n",
      " 3inside short count 33 short mean: -0.0003941517706042008\n",
      "SUI/USDT:USDT: 3inside long count 76 return mean: -0.0008708834910882862, \n",
      " 3inside short count 96 short mean: 0.00019462136962222765\n",
      "CRV/USDT:USDT: 3inside long count 2 return mean: 0.0028409090909090606, \n",
      " 3inside short count 0 short mean: nan\n",
      "GALA/USDT:USDT: 3inside long count 37 return mean: -2.506526533051111e-06, \n",
      " 3inside short count 34 short mean: 0.00021504479120929172\n",
      "MINA/USDT:USDT: 3inside long count 84 return mean: 0.0008364096703146644, \n",
      " 3inside short count 54 short mean: -0.0017109142449457198\n",
      "1000LUNC/USDT:USDT: 3inside long count 70 return mean: -0.0006669202109644516, \n",
      " 3inside short count 55 short mean: 0.0001971552457078292\n",
      "DYDX/USDT:USDT: 3inside long count 16 return mean: -0.0039722887068593185, \n",
      " 3inside short count 4 short mean: 0.0010162616671173241\n",
      "1000PEPE/USDT:USDT: 3inside long count 111 return mean: 0.0005004278832680643, \n",
      " 3inside short count 108 short mean: 0.0006115509776285273\n",
      "COMP/USDT:USDT: 3inside long count 64 return mean: 0.0003725939632924259, \n",
      " 3inside short count 39 short mean: -0.000238015540987093\n",
      "SFP/USDT:USDT: 3inside long count 73 return mean: 0.0002895624138865419, \n",
      " 3inside short count 62 short mean: -0.0006084428448965785\n",
      "DASH/USDT:USDT: 3inside long count 28 return mean: 0.00020862253637616925, \n",
      " 3inside short count 14 short mean: 0.00047281320585940937\n",
      "ASTR/USDT:USDT: 3inside long count 96 return mean: 0.0002216034590972124, \n",
      " 3inside short count 84 short mean: -0.0006409021803843173\n",
      "GMX/USDT:USDT: 3inside long count 99 return mean: -0.0001164092288020051, \n",
      " 3inside short count 103 short mean: 0.0003587957761502403\n",
      "WOO/USDT:USDT: 3inside long count 105 return mean: 0.0005843505178911011, \n",
      " 3inside short count 115 short mean: -0.0006033392815595494\n",
      "AR/USDT:USDT: 3inside long count 106 return mean: -0.00042226957874184825, \n",
      " 3inside short count 112 short mean: -0.00018923878050314952\n",
      "ROSE/USDT:USDT: 3inside long count 75 return mean: 0.00030756125757862426, \n",
      " 3inside short count 74 short mean: 0.0006832051761207807\n",
      "ZIL/USDT:USDT: 3inside long count 25 return mean: -0.0017418450352102877, \n",
      " 3inside short count 13 short mean: 0.0014047850702439456\n",
      "1INCH/USDT:USDT: 3inside long count 53 return mean: -0.0002003071370814397, \n",
      " 3inside short count 35 short mean: -0.00029579615409945756\n",
      "BAT/USDT:USDT: 3inside long count 19 return mean: 0.00023916243883022984, \n",
      " 3inside short count 19 short mean: -0.00025085475706307223\n",
      "LRC/USDT:USDT: 3inside long count 64 return mean: -0.0005097703988112112, \n",
      " 3inside short count 60 short mean: -0.0010333846530335312\n",
      "ENJ/USDT:USDT: 3inside long count 61 return mean: 2.946731266608679e-05, \n",
      " 3inside short count 62 short mean: -2.8260718347835003e-05\n",
      "QTUM/USDT:USDT: 3inside long count 32 return mean: -0.0007741335116305433, \n",
      " 3inside short count 12 short mean: -0.0008798394359058789\n",
      "ENS/USDT:USDT: 3inside long count 86 return mean: -5.36668484393072e-05, \n",
      " 3inside short count 103 short mean: -0.0003018909705387679\n",
      "SEI/USDT:USDT: 3inside long count 58 return mean: -0.0003429164923654679, \n",
      " 3inside short count 49 short mean: -0.0005239218200912837\n",
      "CELO/USDT:USDT: 3inside long count 2 return mean: 0.004857818187091301, \n",
      " 3inside short count 2 short mean: -0.002319635506800033\n",
      "XEM/USDT:USDT: 3inside long count 0 return mean: nan, \n",
      " 3inside short count 0 short mean: nan\n",
      "MASK/USDT:USDT: 3inside long count 68 return mean: -0.0007836664309432891, \n",
      " 3inside short count 69 short mean: -0.0005600179421346815\n",
      "LPT/USDT:USDT: 3inside long count 82 return mean: -0.0005131148738707727, \n",
      " 3inside short count 126 short mean: -0.0005099305285387108\n",
      "FET/USDT:USDT: 3inside long count 94 return mean: -0.0006669090860189595, \n",
      " 3inside short count 106 short mean: 8.887998893833666e-05\n",
      "RVN/USDT:USDT: 3inside long count 24 return mean: -0.0002783668459083131, \n",
      " 3inside short count 20 short mean: 0.0016285591544468847\n",
      "ANKR/USDT:USDT: 3inside long count 41 return mean: -0.00044111922766160025, \n",
      " 3inside short count 30 short mean: 0.0005481844895843728\n",
      "JASMY/USDT:USDT: 3inside long count 101 return mean: -0.00018491618184684208, \n",
      " 3inside short count 97 short mean: 0.00031454094294167497\n",
      "HOT/USDT:USDT: 3inside long count 20 return mean: 0.0006391573866518618, \n",
      " 3inside short count 21 short mean: -0.00045858001309784235\n",
      "YFI/USDT:USDT: 3inside long count 51 return mean: -0.00035022694249700235, \n",
      " 3inside short count 40 short mean: 0.0007273829511283386\n",
      "BAL/USDT:USDT: 3inside long count 32 return mean: -0.0007267435467384169, \n",
      " 3inside short count 21 short mean: 0.0011202891412991885\n",
      "GMT/USDT:USDT: 3inside long count 60 return mean: -0.0010720624892969655, \n",
      " 3inside short count 63 short mean: -0.0006373608553626004\n",
      "BLUR/USDT:USDT: 3inside long count 44 return mean: 0.00024391362806142574, \n",
      " 3inside short count 39 short mean: 0.0001250839641388658\n",
      "KSM/USDT:USDT: 3inside long count 61 return mean: 0.00013514576270769982, \n",
      " 3inside short count 52 short mean: 0.0002897151538483275\n",
      "1000FLOKI/USDT:USDT: 3inside long count 102 return mean: 0.00014422866116912714, \n",
      " 3inside short count 101 short mean: 0.0005682963590883004\n",
      "ICX/USDT:USDT: 3inside long count 16 return mean: -0.0007709708130055545, \n",
      " 3inside short count 9 short mean: -0.0018775248601543189\n",
      "T/USDT:USDT: 3inside long count 35 return mean: -0.00017046973042552174, \n",
      " 3inside short count 26 short mean: -0.0006370339264337166\n",
      "LUNA2/USDT:USDT: 3inside long count 74 return mean: -0.0008399976954125406, \n",
      " 3inside short count 47 short mean: 0.0004569952784182438\n",
      "ZRX/USDT:USDT: 3inside long count 40 return mean: 0.0007009364744197333, \n",
      " 3inside short count 30 short mean: 0.00018856911855611816\n",
      "SXP/USDT:USDT: 3inside long count 20 return mean: -0.0010369569723135297, \n",
      " 3inside short count 26 short mean: 0.0001531542693974631\n",
      "ONT/USDT:USDT: 3inside long count 18 return mean: 0.0002633025584375146, \n",
      " 3inside short count 21 short mean: 0.0012676502375107317\n",
      "PENDLE/USDT:USDT: 3inside long count 134 return mean: 0.00024592129853675805, \n",
      " 3inside short count 128 short mean: -0.0004938511027955898\n"
     ]
    }
   ],
   "source": [
    "import numpy as np\n",
    "pattern_long_return_sum, pattern_short_return_sum = 0, 0\n",
    "\n",
    "for key, value in candles_dict.items():\n",
    "    candles = value.copy()\n",
    "    candles.dropna(inplace=True)\n",
    "    candles['3linestrike'] = candles.ta.cdl_pattern(name=\"3linestrike\")\n",
    "    candles_long = candles[candles['3linestrike'] == 100]\n",
    "    candles_short = candles[candles['3linestrike'] == -100]\n",
    "    \n",
    "    pattern_long_return_sum += candles_long['return'].mean() if candles_long['return'].mean() != np.nan else 0\n",
    "    pattern_short_return_sum += candles_short['return'].mean() if candles_short['return'].mean() != np.nan else 0\n",
    "    \n",
    "    print(f\"{key}: 3inside long count {candles_long.shape[0]} return mean: {candles_long['return'].mean()}, \\n \"\n",
    "          f\"3inside short count {candles_short.shape[0]} short mean: {candles_short['return'].mean()}\")\n",
    "    "
   ],
   "metadata": {
    "collapsed": false,
    "ExecuteTime": {
     "end_time": "2024-11-02T07:59:52.298191Z",
     "start_time": "2024-11-02T07:59:51.748055Z"
    }
   },
   "id": "195ec4452d36971c",
   "execution_count": 41
  },
  {
   "cell_type": "code",
   "outputs": [
    {
     "data": {
      "text/plain": "nan"
     },
     "execution_count": 42,
     "metadata": {},
     "output_type": "execute_result"
    }
   ],
   "source": [
    "pattern_long_return_sum / len(candles_dict.keys())"
   ],
   "metadata": {
    "collapsed": false,
    "ExecuteTime": {
     "end_time": "2024-11-02T07:59:53.113557Z",
     "start_time": "2024-11-02T07:59:53.102701Z"
    }
   },
   "id": "ceb4314ca015d5b1",
   "execution_count": 42
  },
  {
   "cell_type": "code",
   "outputs": [
    {
     "data": {
      "text/plain": "nan"
     },
     "execution_count": 45,
     "metadata": {},
     "output_type": "execute_result"
    }
   ],
   "source": [
    "pattern_short_return_sum / len(candles_dict.keys())"
   ],
   "metadata": {
    "collapsed": false,
    "ExecuteTime": {
     "end_time": "2024-11-02T08:00:14.211946Z",
     "start_time": "2024-11-02T08:00:14.209737Z"
    }
   },
   "id": "1134a8d4af84b330",
   "execution_count": 45
  },
  {
   "cell_type": "code",
   "outputs": [],
   "source": [],
   "metadata": {
    "collapsed": false
   },
   "id": "221795cfb868defb"
  }
 ],
 "metadata": {
  "kernelspec": {
   "display_name": "Python 3",
   "language": "python",
   "name": "python3"
  },
  "language_info": {
   "codemirror_mode": {
    "name": "ipython",
    "version": 2
   },
   "file_extension": ".py",
   "mimetype": "text/x-python",
   "name": "python",
   "nbconvert_exporter": "python",
   "pygments_lexer": "ipython2",
   "version": "2.7.6"
  }
 },
 "nbformat": 4,
 "nbformat_minor": 5
}
