{
 "cells": [
  {
   "cell_type": "markdown",
   "source": [
    "#### NoteBook for downloading OHLCV"
   ],
   "metadata": {
    "collapsed": false
   },
   "id": "fb536d81c5acbd44"
  },
  {
   "cell_type": "code",
   "outputs": [
    {
     "name": "stdout",
     "output_type": "stream",
     "text": [
      "/Users/liuqiaowei/SourceCode/freqtrade\n"
     ]
    }
   ],
   "source": [
    "import os\n",
    "from pathlib import Path\n",
    "\n",
    "\n",
    "# Change directory\n",
    "# Modify this cell to insure that the output shows the correct path.\n",
    "# Define all paths relative to the project root shown in the cell output\n",
    "project_root = \"/Users/liuqiaowei/SourceCode/freqtrade/user_data/notebooks\"\n",
    "i = 0\n",
    "try:\n",
    "    os.chdir(project_root)\n",
    "    if not Path(\"LICENSE\").is_file():\n",
    "        i = 0\n",
    "        while i < 4 and (not Path(\"LICENSE\").is_file()):\n",
    "            os.chdir(Path(Path.cwd(), \"../\"))\n",
    "            i += 1\n",
    "        project_root = Path.cwd()\n",
    "except FileNotFoundError:\n",
    "    print(\"Please define the project root relative to the current directory\")\n",
    "print(Path.cwd())"
   ],
   "metadata": {
    "collapsed": false,
    "ExecuteTime": {
     "end_time": "2024-11-15T06:57:14.239640Z",
     "start_time": "2024-11-15T06:57:14.217787Z"
    }
   },
   "id": "369251646aaaa0a1",
   "execution_count": 1
  },
  {
   "cell_type": "code",
   "outputs": [],
   "source": [
    "from freqtrade.configuration import Configuration\n",
    "\n",
    "\n",
    "# Customize these according to your needs.\n",
    "\n",
    "# Initialize empty configuration object\n",
    "config = Configuration.from_files([\"./user_data/config.json\"])\n",
    "# Optionally (recommended), use existing configuration file\n",
    "# config = Configuration.from_files([\"user_data/config.json\"])\n",
    "\n",
    "# Location of the data\n",
    "data_location = config[\"datadir\"]\n",
    "config['timeframe'] = '1h'\n",
    "# Pair to analyze - Only use one pair here\n",
    "# config['exchange']['pair_whitelist']"
   ],
   "metadata": {
    "collapsed": false,
    "ExecuteTime": {
     "end_time": "2024-11-15T06:57:16.024970Z",
     "start_time": "2024-11-15T06:57:15.100216Z"
    }
   },
   "id": "b8583e3c163896b",
   "execution_count": 2
  },
  {
   "cell_type": "code",
   "outputs": [
    {
     "ename": "ConfigurationError",
     "evalue": "Downloading data requires a list of pairs. Please check the documentation on how to configure this.",
     "output_type": "error",
     "traceback": [
      "\u001B[0;31m---------------------------------------------------------------------------\u001B[0m",
      "\u001B[0;31mConfigurationError\u001B[0m                        Traceback (most recent call last)",
      "Cell \u001B[0;32mIn[10], line 18\u001B[0m\n\u001B[1;32m     16\u001B[0m pargs \u001B[38;5;241m=\u001B[39m get_args(args)\n\u001B[1;32m     17\u001B[0m pargs[\u001B[38;5;124m\"\u001B[39m\u001B[38;5;124mconfig\u001B[39m\u001B[38;5;124m\"\u001B[39m] \u001B[38;5;241m=\u001B[39m \u001B[38;5;28;01mNone\u001B[39;00m\n\u001B[0;32m---> 18\u001B[0m start_download_data(pargs)\n",
      "File \u001B[0;32m~/SourceCode/freqtrade/freqtrade/commands/data_commands.py:38\u001B[0m, in \u001B[0;36mstart_download_data\u001B[0;34m(args)\u001B[0m\n\u001B[1;32m     34\u001B[0m \u001B[38;5;28;01mfrom\u001B[39;00m \u001B[38;5;21;01mfreqtrade\u001B[39;00m\u001B[38;5;21;01m.\u001B[39;00m\u001B[38;5;21;01mdata\u001B[39;00m\u001B[38;5;21;01m.\u001B[39;00m\u001B[38;5;21;01mhistory\u001B[39;00m \u001B[38;5;28;01mimport\u001B[39;00m download_data_main\n\u001B[1;32m     36\u001B[0m config \u001B[38;5;241m=\u001B[39m setup_utils_configuration(args, RunMode\u001B[38;5;241m.\u001B[39mUTIL_EXCHANGE)\n\u001B[0;32m---> 38\u001B[0m _check_data_config_download_sanity(config)\n\u001B[1;32m     40\u001B[0m \u001B[38;5;28;01mtry\u001B[39;00m:\n\u001B[1;32m     41\u001B[0m     download_data_main(config)\n",
      "File \u001B[0;32m~/SourceCode/freqtrade/freqtrade/commands/data_commands.py:23\u001B[0m, in \u001B[0;36m_check_data_config_download_sanity\u001B[0;34m(config)\u001B[0m\n\u001B[1;32m     17\u001B[0m     \u001B[38;5;28;01mraise\u001B[39;00m ConfigurationError(\n\u001B[1;32m     18\u001B[0m         \u001B[38;5;124m\"\u001B[39m\u001B[38;5;124m--days and --timerange are mutually exclusive. \u001B[39m\u001B[38;5;124m\"\u001B[39m\n\u001B[1;32m     19\u001B[0m         \u001B[38;5;124m\"\u001B[39m\u001B[38;5;124mYou can only specify one or the other.\u001B[39m\u001B[38;5;124m\"\u001B[39m\n\u001B[1;32m     20\u001B[0m     )\n\u001B[1;32m     22\u001B[0m \u001B[38;5;28;01mif\u001B[39;00m \u001B[38;5;124m\"\u001B[39m\u001B[38;5;124mpairs\u001B[39m\u001B[38;5;124m\"\u001B[39m \u001B[38;5;129;01mnot\u001B[39;00m \u001B[38;5;129;01min\u001B[39;00m config:\n\u001B[0;32m---> 23\u001B[0m     \u001B[38;5;28;01mraise\u001B[39;00m ConfigurationError(\n\u001B[1;32m     24\u001B[0m         \u001B[38;5;124m\"\u001B[39m\u001B[38;5;124mDownloading data requires a list of pairs. \u001B[39m\u001B[38;5;124m\"\u001B[39m\n\u001B[1;32m     25\u001B[0m         \u001B[38;5;124m\"\u001B[39m\u001B[38;5;124mPlease check the documentation on how to configure this.\u001B[39m\u001B[38;5;124m\"\u001B[39m\n\u001B[1;32m     26\u001B[0m     )\n",
      "\u001B[0;31mConfigurationError\u001B[0m: Downloading data requires a list of pairs. Please check the documentation on how to configure this."
     ]
    }
   ],
   "source": [
    "from freqtrade.commands import Arguments, start_download_data\n",
    "\n",
    "args = [\n",
    "        \"download-data\",\n",
    "        \"--exchange\",\n",
    "        \"binance\",\n",
    "        \"--days\",\n",
    "        \"20\",\n",
    "        \"--timeframes\",\n",
    "        \"5m 1h\"\n",
    "        ]\n",
    "\n",
    "def get_args(args):\n",
    "    return Arguments(args).get_parsed_arg()\n",
    "\n",
    "pargs = get_args(args)\n",
    "pargs[\"config\"] = None\n",
    "start_download_data(pargs)"
   ],
   "metadata": {
    "collapsed": false,
    "ExecuteTime": {
     "end_time": "2024-11-15T07:34:57.792346Z",
     "start_time": "2024-11-15T07:34:57.716103Z"
    }
   },
   "id": "f84fea578dba2008",
   "execution_count": 10
  },
  {
   "cell_type": "code",
   "outputs": [],
   "source": [],
   "metadata": {
    "collapsed": false
   },
   "id": "bbb2bfc9e2e3fcbc"
  }
 ],
 "metadata": {
  "kernelspec": {
   "display_name": "Python 3",
   "language": "python",
   "name": "python3"
  },
  "language_info": {
   "codemirror_mode": {
    "name": "ipython",
    "version": 2
   },
   "file_extension": ".py",
   "mimetype": "text/x-python",
   "name": "python",
   "nbconvert_exporter": "python",
   "pygments_lexer": "ipython2",
   "version": "2.7.6"
  }
 },
 "nbformat": 4,
 "nbformat_minor": 5
}
