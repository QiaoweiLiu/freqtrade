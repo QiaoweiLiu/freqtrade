{
 "cells": [
  {
   "cell_type": "markdown",
   "source": [
    "## TuneTA Research"
   ],
   "metadata": {
    "collapsed": false
   },
   "id": "745045878214ff75"
  },
  {
   "cell_type": "code",
   "outputs": [
    {
     "name": "stdout",
     "output_type": "stream",
     "text": [
      "/Users/liuqiaowei/SourceCode/freqtrade\n"
     ]
    }
   ],
   "source": [
    "import os\n",
    "from pathlib import Path\n",
    "\n",
    "\n",
    "# Change directory\n",
    "# Modify this cell to insure that the output shows the correct path.\n",
    "# Define all paths relative to the project root shown in the cell output\n",
    "project_root = \"/Users/liuqiaowei/SourceCode/freqtrade/user_data/notebooks\"\n",
    "i = 0\n",
    "try:\n",
    "    os.chdir(project_root)\n",
    "    if not Path(\"LICENSE\").is_file():\n",
    "        i = 0\n",
    "        while i < 4 and (not Path(\"LICENSE\").is_file()):\n",
    "            os.chdir(Path(Path.cwd(), \"../\"))\n",
    "            i += 1\n",
    "        project_root = Path.cwd()\n",
    "except FileNotFoundError:\n",
    "    print(\"Please define the project root relative to the current directory\")\n",
    "print(Path.cwd())"
   ],
   "metadata": {
    "collapsed": false,
    "ExecuteTime": {
     "end_time": "2024-11-19T06:13:17.358031Z",
     "start_time": "2024-11-19T06:13:17.354454Z"
    }
   },
   "id": "2638dbe151938b58",
   "execution_count": 1
  },
  {
   "cell_type": "code",
   "outputs": [],
   "source": [
    "from freqtrade.configuration import Configuration\n",
    "\n",
    "\n",
    "# Customize these according to your needs.\n",
    "\n",
    "# Initialize empty configuration object\n",
    "config = Configuration.from_files([\"./user_data/config.json\"])\n",
    "# Optionally (recommended), use existing configuration file\n",
    "# config = Configuration.from_files([\"user_data/config.json\"])\n",
    "\n",
    "# Location of the data\n",
    "data_location = config[\"datadir\"]\n",
    "config['timeframe'] = '1h'\n",
    "# Pair to analyze - Only use one pair here\n",
    "# config['exchange']['pair_whitelist']"
   ],
   "metadata": {
    "collapsed": false,
    "ExecuteTime": {
     "end_time": "2024-11-19T06:13:18.783156Z",
     "start_time": "2024-11-19T06:13:17.358656Z"
    }
   },
   "id": "22f8bb1d8bbffb48",
   "execution_count": 2
  },
  {
   "cell_type": "code",
   "outputs": [],
   "source": [
    "from freqtrade.data.history import load_pair_history\n",
    "from freqtrade.enums import CandleType\n",
    "from pandas_ta import percent_return\n",
    "\n",
    "candles_dict = {}\n",
    "for pair in config['exchange']['pair_whitelist']:\n",
    "    candles = load_pair_history(\n",
    "        datadir=data_location,\n",
    "        timeframe=config[\"timeframe\"],\n",
    "        pair=pair,\n",
    "        data_format=\"feather\",  # Make sure to update this to your data\n",
    "        candle_type=CandleType.FUTURES,\n",
    "    )\n",
    "    candles['sym'] = pair\n",
    "    candles.set_index('date', inplace=True)\n",
    "    candles.set_index('sym', append=True, inplace=True)\n",
    "    candles['return'] = percent_return(candles.close, offset=-1)\n",
    "    # Keep Latest week for testing\n",
    "    candles_dict[pair] = candles[-24 * 30:]\n"
   ],
   "metadata": {
    "collapsed": false,
    "ExecuteTime": {
     "end_time": "2024-11-19T06:13:34.874353Z",
     "start_time": "2024-11-19T06:13:33.803465Z"
    }
   },
   "id": "191268575841bfd9",
   "execution_count": 4
  },
  {
   "cell_type": "code",
   "outputs": [
    {
     "data": {
      "text/plain": "                                           open   high    low  close  \\\ndate                      sym                                          \n2024-10-20 04:00:00+00:00 DASH/USDT:USDT  23.94  24.02  23.87  23.96   \n2024-10-20 05:00:00+00:00 DASH/USDT:USDT  23.97  24.03  23.91  23.92   \n2024-10-20 06:00:00+00:00 DASH/USDT:USDT  23.93  24.09  23.88  24.07   \n2024-10-20 07:00:00+00:00 DASH/USDT:USDT  24.07  24.14  24.03  24.07   \n2024-10-20 08:00:00+00:00 DASH/USDT:USDT  24.07  24.29  24.07  24.15   \n...                                         ...    ...    ...    ...   \n2024-11-18 23:00:00+00:00 DASH/USDT:USDT  29.54  29.68  29.22  29.62   \n2024-11-19 00:00:00+00:00 DASH/USDT:USDT  29.65  29.83  29.46  29.71   \n2024-11-19 01:00:00+00:00 DASH/USDT:USDT  29.71  29.84  29.37  29.45   \n2024-11-19 02:00:00+00:00 DASH/USDT:USDT  29.45  29.64  29.42  29.55   \n2024-11-19 03:00:00+00:00 DASH/USDT:USDT  29.55  29.66  29.49  29.61   \n\n                                             volume    return  \ndate                      sym                                  \n2024-10-20 04:00:00+00:00 DASH/USDT:USDT   4762.700 -0.001669  \n2024-10-20 05:00:00+00:00 DASH/USDT:USDT   5079.337  0.006271  \n2024-10-20 06:00:00+00:00 DASH/USDT:USDT   4905.979  0.000000  \n2024-10-20 07:00:00+00:00 DASH/USDT:USDT   6301.549  0.003324  \n2024-10-20 08:00:00+00:00 DASH/USDT:USDT   9956.549  0.002484  \n...                                             ...       ...  \n2024-11-18 23:00:00+00:00 DASH/USDT:USDT   9703.122  0.003038  \n2024-11-19 00:00:00+00:00 DASH/USDT:USDT  13340.689 -0.008751  \n2024-11-19 01:00:00+00:00 DASH/USDT:USDT  11256.740  0.003396  \n2024-11-19 02:00:00+00:00 DASH/USDT:USDT   9337.900  0.002030  \n2024-11-19 03:00:00+00:00 DASH/USDT:USDT   4903.131       NaN  \n\n[720 rows x 6 columns]",
      "text/html": "<div>\n<style scoped>\n    .dataframe tbody tr th:only-of-type {\n        vertical-align: middle;\n    }\n\n    .dataframe tbody tr th {\n        vertical-align: top;\n    }\n\n    .dataframe thead th {\n        text-align: right;\n    }\n</style>\n<table border=\"1\" class=\"dataframe\">\n  <thead>\n    <tr style=\"text-align: right;\">\n      <th></th>\n      <th></th>\n      <th>open</th>\n      <th>high</th>\n      <th>low</th>\n      <th>close</th>\n      <th>volume</th>\n      <th>return</th>\n    </tr>\n    <tr>\n      <th>date</th>\n      <th>sym</th>\n      <th></th>\n      <th></th>\n      <th></th>\n      <th></th>\n      <th></th>\n      <th></th>\n    </tr>\n  </thead>\n  <tbody>\n    <tr>\n      <th>2024-10-20 04:00:00+00:00</th>\n      <th>DASH/USDT:USDT</th>\n      <td>23.94</td>\n      <td>24.02</td>\n      <td>23.87</td>\n      <td>23.96</td>\n      <td>4762.700</td>\n      <td>-0.001669</td>\n    </tr>\n    <tr>\n      <th>2024-10-20 05:00:00+00:00</th>\n      <th>DASH/USDT:USDT</th>\n      <td>23.97</td>\n      <td>24.03</td>\n      <td>23.91</td>\n      <td>23.92</td>\n      <td>5079.337</td>\n      <td>0.006271</td>\n    </tr>\n    <tr>\n      <th>2024-10-20 06:00:00+00:00</th>\n      <th>DASH/USDT:USDT</th>\n      <td>23.93</td>\n      <td>24.09</td>\n      <td>23.88</td>\n      <td>24.07</td>\n      <td>4905.979</td>\n      <td>0.000000</td>\n    </tr>\n    <tr>\n      <th>2024-10-20 07:00:00+00:00</th>\n      <th>DASH/USDT:USDT</th>\n      <td>24.07</td>\n      <td>24.14</td>\n      <td>24.03</td>\n      <td>24.07</td>\n      <td>6301.549</td>\n      <td>0.003324</td>\n    </tr>\n    <tr>\n      <th>2024-10-20 08:00:00+00:00</th>\n      <th>DASH/USDT:USDT</th>\n      <td>24.07</td>\n      <td>24.29</td>\n      <td>24.07</td>\n      <td>24.15</td>\n      <td>9956.549</td>\n      <td>0.002484</td>\n    </tr>\n    <tr>\n      <th>...</th>\n      <th>...</th>\n      <td>...</td>\n      <td>...</td>\n      <td>...</td>\n      <td>...</td>\n      <td>...</td>\n      <td>...</td>\n    </tr>\n    <tr>\n      <th>2024-11-18 23:00:00+00:00</th>\n      <th>DASH/USDT:USDT</th>\n      <td>29.54</td>\n      <td>29.68</td>\n      <td>29.22</td>\n      <td>29.62</td>\n      <td>9703.122</td>\n      <td>0.003038</td>\n    </tr>\n    <tr>\n      <th>2024-11-19 00:00:00+00:00</th>\n      <th>DASH/USDT:USDT</th>\n      <td>29.65</td>\n      <td>29.83</td>\n      <td>29.46</td>\n      <td>29.71</td>\n      <td>13340.689</td>\n      <td>-0.008751</td>\n    </tr>\n    <tr>\n      <th>2024-11-19 01:00:00+00:00</th>\n      <th>DASH/USDT:USDT</th>\n      <td>29.71</td>\n      <td>29.84</td>\n      <td>29.37</td>\n      <td>29.45</td>\n      <td>11256.740</td>\n      <td>0.003396</td>\n    </tr>\n    <tr>\n      <th>2024-11-19 02:00:00+00:00</th>\n      <th>DASH/USDT:USDT</th>\n      <td>29.45</td>\n      <td>29.64</td>\n      <td>29.42</td>\n      <td>29.55</td>\n      <td>9337.900</td>\n      <td>0.002030</td>\n    </tr>\n    <tr>\n      <th>2024-11-19 03:00:00+00:00</th>\n      <th>DASH/USDT:USDT</th>\n      <td>29.55</td>\n      <td>29.66</td>\n      <td>29.49</td>\n      <td>29.61</td>\n      <td>4903.131</td>\n      <td>NaN</td>\n    </tr>\n  </tbody>\n</table>\n<p>720 rows × 6 columns</p>\n</div>"
     },
     "execution_count": 5,
     "metadata": {},
     "output_type": "execute_result"
    }
   ],
   "source": [
    "candles_dict['DASH/USDT:USDT']"
   ],
   "metadata": {
    "collapsed": false,
    "ExecuteTime": {
     "end_time": "2024-11-19T06:13:34.877528Z",
     "start_time": "2024-11-19T06:13:34.869030Z"
    }
   },
   "id": "b185c3a8ee5c3b11",
   "execution_count": 5
  },
  {
   "cell_type": "code",
   "outputs": [
    {
     "name": "stderr",
     "output_type": "stream",
     "text": [
      "OMP: Info #276: omp_set_nested routine deprecated, please use omp_set_max_active_levels instead.\n"
     ]
    }
   ],
   "source": [
    "from tuneta.tune_ta import TuneTA\n",
    "import pandas as pd"
   ],
   "metadata": {
    "collapsed": false,
    "ExecuteTime": {
     "end_time": "2024-11-19T06:13:43.340023Z",
     "start_time": "2024-11-19T06:13:36.557398Z"
    }
   },
   "id": "317b93d6ffaeed2b",
   "execution_count": 6
  },
  {
   "cell_type": "code",
   "outputs": [],
   "source": [
    "X = pd.concat([candles for _, candles in candles_dict.items()], axis=0).sort_index()\n",
    "X.dropna(inplace=True)\n",
    "y = X['return']\n",
    "X = X.drop(columns=['return'])"
   ],
   "metadata": {
    "collapsed": false,
    "ExecuteTime": {
     "end_time": "2024-11-19T06:13:43.373551Z",
     "start_time": "2024-11-19T06:13:43.344378Z"
    }
   },
   "id": "bd1251a46d6fa895",
   "execution_count": 7
  },
  {
   "cell_type": "code",
   "outputs": [],
   "source": [
    "from sklearn.model_selection import train_test_split\n",
    "\n",
    "X_train, X_test, y_train, y_test = train_test_split(X, y, test_size=.3, shuffle=False)"
   ],
   "metadata": {
    "collapsed": false,
    "ExecuteTime": {
     "end_time": "2024-11-19T06:13:43.378463Z",
     "start_time": "2024-11-19T06:13:43.373843Z"
    }
   },
   "id": "3662cc58b08306d0",
   "execution_count": 8
  },
  {
   "cell_type": "code",
   "outputs": [],
   "source": [
    "tt = TuneTA(n_jobs=4, verbose=True)"
   ],
   "metadata": {
    "collapsed": false,
    "ExecuteTime": {
     "end_time": "2024-11-19T06:13:43.382936Z",
     "start_time": "2024-11-19T06:13:43.379318Z"
    }
   },
   "id": "946375a1a6fb87cf",
   "execution_count": 9
  },
  {
   "cell_type": "code",
   "outputs": [
    {
     "name": "stdout",
     "output_type": "stream",
     "text": [
      "    Indicator       Times\n",
      "--  ------------  -------\n",
      "19  tta.STOCHRSI    14.31\n",
      "68  tta.MACD        13.5\n",
      "21  tta.STOCHRSI    12.85\n",
      "62  tta.MACD        12.25\n",
      "59  tta.MACDEXT     12.01\n",
      "29  tta.ULTOSC      11.87\n",
      "24  tta.CCI         11.35\n",
      "34  tta.DX           9.72\n",
      "37  tta.STOCHF       9.7\n",
      "31  tta.DX           9.7\n",
      "57  tta.STOCH        9.34\n",
      "63  tta.MACDEXT      9.26\n",
      "30  tta.AROON        9.23\n",
      "47  tta.ADOSC        9.22\n",
      "33  tta.ULTOSC       9.2\n",
      "32  tta.MFI          9.16\n",
      "54  tta.ADOSC        9.07\n",
      " 5  tta.ROC          8.71\n",
      " 6  tta.ROCR100      8.65\n",
      " 3  tta.ROCR         8.44\n",
      "60  tta.APO          8.34\n",
      " 4  tta.ROCP         8.32\n",
      "40  tta.MFI          7.35\n",
      "38  tta.WILLR        7.34\n",
      "43  tta.ATR          7.16\n",
      "10  tta.ROCP         7.07\n",
      " 8  tta.ROCR         7.01\n",
      "27  tta.CMO          7.01\n",
      "15  tta.MINUS_DI     7\n",
      "58  tta.ADX          6.98\n",
      " 0  tta.NATR         6.94\n",
      " 7  tta.ROCR100      6.94\n",
      "64  tta.MACDFIX      6.93\n",
      "66  tta.MOM          6.92\n",
      "18  tta.STOCH        6.91\n",
      "70  tta.ADXR         6.89\n",
      " 9  tta.ROC          6.88\n",
      " 1  tta.NATR         6.84\n",
      "44  tta.AROON        6.83\n",
      "41  tta.AROONOSC     6.8\n",
      "28  tta.AROONOSC     6.79\n",
      "26  tta.RSI          6.59\n",
      "61  tta.APO          6.51\n",
      "45  tta.WILLR        6.33\n",
      "11  tta.TRIX         5.84\n",
      "14  tta.MINUS_DI     5.74\n",
      "36  tta.STOCHF       5.66\n",
      "12  tta.PPO          5.5\n",
      "65  tta.MACDFIX      5.3\n",
      "48  tta.PLUS_DM      4.97\n",
      "20  tta.PLUS_DI      4.89\n",
      "13  tta.TRIX         4.84\n",
      "23  tta.CMO          4.74\n",
      "25  tta.PLUS_DI      4.73\n",
      "46  tta.ATR          4.71\n",
      "67  tta.MOM          4.69\n",
      "51  tta.PLUS_DM      4.64\n",
      "39  tta.MINUS_DM     4.61\n",
      "42  tta.MINUS_DM     4.57\n",
      " 2  tta.PPO          4.56\n",
      "22  tta.RSI          4.56\n",
      "69  tta.ADX          4.51\n",
      "35  tta.CCI          4.48\n",
      "71  tta.ADXR         4.38\n",
      "17  tta.BOP          0.49\n",
      "56  tta.OBV          0.35\n",
      "52  tta.AD           0.33\n",
      "49  tta.TRANGE       0.32\n",
      "53  tta.AD           0.32\n",
      "55  tta.OBV          0.32\n",
      "16  tta.BOP          0.31\n",
      "50  tta.TRANGE       0.31\n"
     ]
    }
   ],
   "source": [
    "tt.fit(X_train, y_train,\n",
    "        indicators=['tta.ADX', 'tta.ADXR', 'tta.APO', 'tta.AROON', 'tta.AROONOSC', 'tta.BOP', 'tta.CCI', 'tta.CMO', 'tta.DX', 'tta.MACD', 'tta.MACDEXT', 'tta.MACDFIX', 'tta.MFI', 'tta.MINUS_DI', 'tta.MINUS_DM', 'tta.MOM', 'tta.PLUS_DI', 'tta.PLUS_DM', 'tta.PPO', 'tta.ROC', 'tta.ROCP', 'tta.ROCR', 'tta.ROCR100', 'tta.RSI', 'tta.STOCH', 'tta.STOCHF', 'tta.STOCHRSI', 'tta.TRIX', 'tta.ULTOSC','tta.WILLR', 'tta.AD', 'tta.ADOSC', 'tta.OBV', 'tta.ATR', 'tta.NATR', 'tta.TRANGE'],\n",
    "        ranges=[(4, 12), (13, 24)],\n",
    "        trials=100,\n",
    "        early_stop=10,\n",
    ")\n",
    "  \n",
    "tt.fit_times()"
   ],
   "metadata": {
    "collapsed": false,
    "ExecuteTime": {
     "end_time": "2024-11-19T06:23:30.123956Z",
     "start_time": "2024-11-19T06:17:37.595902Z"
    }
   },
   "id": "4637d5176cb44e70",
   "execution_count": 11
  },
  {
   "cell_type": "code",
   "outputs": [
    {
     "name": "stdout",
     "output_type": "stream",
     "text": [
      "\n",
      "Indicator Correlation to Target:\n",
      "\n",
      "                                                              Correlation\n",
      "----------------------------------------------------------  -------------\n",
      "tta_NATR_timeperiod_7                                            0.165787\n",
      "tta_NATR_timeperiod_16                                           0.162139\n",
      "tta_PPO_fastperiod_17_slowperiod_24                              0.083103\n",
      "tta_ROCR_timeperiod_21                                           0.083005\n",
      "tta_ROCP_timeperiod_21                                           0.083005\n",
      "tta_ROC_timeperiod_21                                            0.083005\n",
      "tta_ROCR100_timeperiod_21                                        0.083005\n",
      "tta_ROCP_timeperiod_7                                            0.080359\n",
      "tta_ROC_timeperiod_7                                             0.080359\n",
      "tta_ROCR_timeperiod_7                                            0.080359\n",
      "tta_ROCR100_timeperiod_7                                         0.080359\n",
      "tta_TRIX_timeperiod_17                                           0.079961\n",
      "tta_PPO_fastperiod_4_slowperiod_11                               0.071387\n",
      "tta_TRIX_timeperiod_9                                            0.070901\n",
      "tta_MINUS_DI_timeperiod_21                                       0.070565\n",
      "tta_MINUS_DI_timeperiod_7                                        0.069703\n",
      "tta_BOP                                                          0.069159\n",
      "tta_BOP                                                          0.069159\n",
      "tta_STOCH_fastk_period_22_slowk_period_17_slowd_period_16        0.06555\n",
      "tta_STOCHRSI_timeperiod_15_fastk_period_14_fastd_period_14       0.065507\n",
      "tta_PLUS_DI_timeperiod_20                                        0.062903\n",
      "tta_STOCHRSI_timeperiod_11_fastk_period_11_fastd_period_11       0.05965\n",
      "tta_RSI_timeperiod_20                                            0.058322\n",
      "tta_CMO_timeperiod_20                                            0.058322\n",
      "tta_CCI_timeperiod_21                                            0.05441\n",
      "tta_PLUS_DI_timeperiod_9                                         0.054104\n",
      "tta_CMO_timeperiod_7                                             0.052235\n",
      "tta_RSI_timeperiod_7                                             0.052235\n",
      "tta_AROONOSC_timeperiod_22                                       0.051144\n",
      "tta_ULTOSC_timeperiod1_23_timeperiod2_21_timeperiod3_23          0.04921\n",
      "tta_AROON_timeperiod_20                                          0.047913\n",
      "tta_DX_timeperiod_8                                              0.047795\n",
      "tta_MFI_timeperiod_20                                            0.046234\n",
      "tta_ULTOSC_timeperiod1_11_timeperiod2_9_timeperiod3_11           0.045196\n",
      "tta_DX_timeperiod_15                                             0.044827\n",
      "tta_CCI_timeperiod_9                                             0.044166\n",
      "tta_STOCHF_fastk_period_13_fastd_period_17                       0.04286\n",
      "tta_STOCHF_fastk_period_6_fastd_period_10                        0.040692\n",
      "tta_WILLR_timeperiod_7                                           0.040041\n",
      "tta_MINUS_DM_timeperiod_20                                       0.039152\n",
      "tta_MFI_timeperiod_7                                             0.038791\n",
      "tta_AROONOSC_timeperiod_8                                        0.038357\n",
      "tta_MINUS_DM_timeperiod_9                                        0.038138\n",
      "tta_ATR_timeperiod_21                                            0.037834\n",
      "tta_AROON_timeperiod_8                                           0.037542\n",
      "tta_WILLR_timeperiod_20                                          0.037322\n",
      "tta_ATR_timeperiod_9                                             0.036906\n",
      "tta_ADOSC_fastperiod_5_slowperiod_9                              0.035597\n",
      "tta_PLUS_DM_timeperiod_20                                        0.035547\n",
      "tta_TRANGE                                                       0.034213\n",
      "tta_TRANGE                                                       0.034213\n",
      "tta_PLUS_DM_timeperiod_9                                         0.034025\n",
      "tta_AD                                                           0.033825\n",
      "tta_AD                                                           0.033825\n",
      "tta_ADOSC_fastperiod_15_slowperiod_14                            0.033387\n",
      "tta_OBV                                                          0.030289\n",
      "tta_OBV                                                          0.030289\n",
      "tta_STOCH_fastk_period_6_slowk_period_4_slowd_period_10          0.028875\n",
      "tta_ADX_timeperiod_7                                             0.027863\n",
      "tta_MACDEXT_fastperiod_17_slowperiod_14_signalperiod_16          0.027852\n",
      "tta_APO_fastperiod_9_slowperiod_8                                0.027436\n",
      "tta_APO_fastperiod_20_slowperiod_21                              0.027278\n",
      "tta_MACD_fastperiod_21_slowperiod_23_signalperiod_20             0.02691\n",
      "tta_MACDEXT_fastperiod_9_slowperiod_7_signalperiod_6             0.026709\n",
      "tta_MACDFIX_signalperiod_7                                       0.026539\n",
      "tta_MACDFIX_signalperiod_20                                      0.026381\n",
      "tta_MOM_timeperiod_7                                             0.026143\n",
      "tta_MOM_timeperiod_20                                            0.025723\n",
      "tta_MACD_fastperiod_12_slowperiod_9_signalperiod_6               0.02534\n",
      "tta_ADX_timeperiod_20                                            0.021897\n",
      "tta_ADXR_timeperiod_7                                            0.018345\n",
      "tta_ADXR_timeperiod_20                                           0.016241\n"
     ]
    }
   ],
   "source": [
    "tt.report(target_corr=True, features_corr=False)"
   ],
   "metadata": {
    "collapsed": false,
    "ExecuteTime": {
     "end_time": "2024-11-19T06:28:55.851474Z",
     "start_time": "2024-11-19T06:28:55.699385Z"
    }
   },
   "id": "b1e7aecacb02c140",
   "execution_count": 12
  },
  {
   "cell_type": "code",
   "outputs": [
    {
     "name": "stderr",
     "output_type": "stream",
     "text": [
      "OMP: Info #276: omp_set_nested routine deprecated, please use omp_set_max_active_levels instead.\n",
      "OMP: Info #276: omp_set_nested routine deprecated, please use omp_set_max_active_levels instead.\n",
      "OMP: Info #276: omp_set_nested routine deprecated, please use omp_set_max_active_levels instead.\n",
      "OMP: Info #276: omp_set_nested routine deprecated, please use omp_set_max_active_levels instead.\n"
     ]
    }
   ],
   "source": [
    "tt.prune(max_inter_correlation=.8)"
   ],
   "metadata": {
    "collapsed": false,
    "ExecuteTime": {
     "end_time": "2024-11-19T06:30:57.513383Z",
     "start_time": "2024-11-19T06:28:56.971975Z"
    }
   },
   "id": "6b3e8b8a7ea17d92",
   "execution_count": 13
  },
  {
   "cell_type": "code",
   "outputs": [
    {
     "name": "stdout",
     "output_type": "stream",
     "text": [
      "\n",
      "Indicator Correlation to Target:\n",
      "\n",
      "                                                              Correlation\n",
      "----------------------------------------------------------  -------------\n",
      "tta_NATR_timeperiod_7                                            0.165787\n",
      "tta_PPO_fastperiod_17_slowperiod_24                              0.083103\n",
      "tta_ROCR100_timeperiod_7                                         0.080359\n",
      "tta_TRIX_timeperiod_17                                           0.079961\n",
      "tta_MINUS_DI_timeperiod_21                                       0.070565\n",
      "tta_MINUS_DI_timeperiod_7                                        0.069703\n",
      "tta_BOP                                                          0.069159\n",
      "tta_PLUS_DI_timeperiod_20                                        0.062903\n",
      "tta_STOCHRSI_timeperiod_11_fastk_period_11_fastd_period_11       0.05965\n",
      "tta_AROONOSC_timeperiod_22                                       0.051144\n",
      "tta_ULTOSC_timeperiod1_23_timeperiod2_21_timeperiod3_23          0.04921\n",
      "tta_AROON_timeperiod_20                                          0.047913\n",
      "tta_DX_timeperiod_8                                              0.047795\n",
      "tta_MFI_timeperiod_20                                            0.046234\n",
      "tta_ULTOSC_timeperiod1_11_timeperiod2_9_timeperiod3_11           0.045196\n",
      "tta_MINUS_DM_timeperiod_20                                       0.039152\n",
      "tta_MFI_timeperiod_7                                             0.038791\n",
      "tta_AROONOSC_timeperiod_8                                        0.038357\n",
      "tta_ADOSC_fastperiod_5_slowperiod_9                              0.035597\n",
      "tta_AD                                                           0.033825\n",
      "tta_ADX_timeperiod_7                                             0.027863\n",
      "tta_APO_fastperiod_9_slowperiod_8                                0.027436\n",
      "tta_APO_fastperiod_20_slowperiod_21                              0.027278\n",
      "tta_MOM_timeperiod_7                                             0.026143\n",
      "tta_ADX_timeperiod_20                                            0.021897\n",
      "\n",
      "Indicator Correlation to Each Other:\n",
      "\n",
      "                                                              tta_NATR_timeperiod_7    tta_PPO_fastperiod_17_slowperiod_24    tta_ROCR100_timeperiod_7    tta_TRIX_timeperiod_17    tta_MINUS_DI_timeperiod_21    tta_MINUS_DI_timeperiod_7     tta_BOP    tta_PLUS_DI_timeperiod_20    tta_STOCHRSI_timeperiod_11_fastk_period_11_fastd_period_11    tta_AROONOSC_timeperiod_22    tta_ULTOSC_timeperiod1_23_timeperiod2_21_timeperiod3_23    tta_AROON_timeperiod_20    tta_DX_timeperiod_8    tta_MFI_timeperiod_20    tta_ULTOSC_timeperiod1_11_timeperiod2_9_timeperiod3_11    tta_MINUS_DM_timeperiod_20    tta_MFI_timeperiod_7    tta_AROONOSC_timeperiod_8    tta_ADOSC_fastperiod_5_slowperiod_9      tta_AD    tta_ADX_timeperiod_7    tta_APO_fastperiod_9_slowperiod_8    tta_APO_fastperiod_20_slowperiod_21    tta_MOM_timeperiod_7    tta_ADX_timeperiod_20\n",
      "----------------------------------------------------------  -----------------------  -------------------------------------  --------------------------  ------------------------  ----------------------------  ---------------------------  ----------  ---------------------------  ------------------------------------------------------------  ----------------------------  ---------------------------------------------------------  -------------------------  ---------------------  -----------------------  --------------------------------------------------------  ----------------------------  ----------------------  ---------------------------  -------------------------------------  ----------  ----------------------  -----------------------------------  -------------------------------------  ----------------------  -----------------------\n",
      "tta_NATR_timeperiod_7                                                     0                                      0.272029                    0.276402                  0.301732                      0.219059                     0.099786   0.028167                      0.248458                                                     0.0572119                      0.11448                                                    0.101142                   0.0836853              0.112524                 0.115291                                                  0.0343385                    0.14983                  0.0501991                    0.0473714                              0.154905   0.157085                 0.133569                             0.100413                               0.104116                0.0995728                0.0925773\n",
      "tta_PPO_fastperiod_17_slowperiod_24                                       0.272029                               0                           0.297505                  0.771341                      0.638741                     0.493803   0.0710855                     0.698563                                                     0.138025                       0.794333                                                   0.608688                   0.663066               0.176241                 0.767964                                                  0.205644                     0.0382332                0.276509                     0.264188                               0.0730781  0.0351884                0.314613                             0.0540192                              0.117461                0.0520258                0.239751\n",
      "tta_ROCR100_timeperiod_7                                                  0.276402                               0.297505                    0                         0.267099                      0.462045                     0.693583   0.281506                      0.515879                                                     0.630037                       0.397657                                                   0.443981                   0.386457               0.291439                 0.459329                                                  0.635005                     0.0384229                0.793654                     0.742667                               0.159833   0.0311074                0.180013                             0.0886248                              0.0464072               0.12116                  0.0375259\n",
      "tta_TRIX_timeperiod_17                                                    0.301732                               0.771341                    0.267099                  0                             0.75901                      0.455379   0.0555287                     0.773901                                                     0.174501                       0.607916                                                   0.558574                   0.504901               0.120864                 0.592367                                                  0.281329                     0.0442785                0.217952                     0.23491                                0.0979386  0.0389143                0.263817                             0.0608896                              0.102117                0.0578816                0.413059\n",
      "tta_MINUS_DI_timeperiod_21                                                0.219059                               0.638741                    0.462045                  0.75901                       0                            0.785402   0.0961252                     0.762816                                                     0.084716                       0.611953                                                   0.49943                    0.503828               0.29885                  0.620953                                                  0.380736                     0.0313777                0.414932                     0.424633                               0.0929443  0.0312101                0.342204                             0.0794231                              0.106498                0.0833305                0.397207\n",
      "tta_MINUS_DI_timeperiod_7                                                 0.099786                               0.493803                    0.693583                  0.455379                      0.785402                     0          0.18749                       0.626125                                                     0.403735                       0.573049                                                   0.440297                   0.529197               0.434308                 0.620445                                                  0.502437                     0.0230184                0.653658                     0.646328                               0.10828    0.0197301                0.31566                              0.0915409                              0.079698                0.109629                 0.158518\n",
      "tta_BOP                                                                   0.028167                               0.0710855                   0.281506                  0.0555287                     0.0961252                    0.18749    0                             0.106495                                                     0.480416                       0.0721265                                                  0.192794                   0.0622652              0.0181785                0.111201                                                  0.228829                     0.00640368               0.165959                     0.0998354                              0.0418135  0.00819352               0.0176641                            0.0101379                              0.0114088               0.0450633                0.0268423\n",
      "tta_PLUS_DI_timeperiod_20                                                 0.248458                               0.698563                    0.515879                  0.773901                      0.762816                     0.626125   0.106495                      0                                                            0.0997221                      0.681956                                                   0.551592                   0.558126               0.347539                 0.67852                                                   0.395001                     0.024201                 0.463392                     0.465062                               0.0998065  0.0323256                0.370316                             0.0916076                              0.11658                 0.0968569                0.30674\n",
      "tta_STOCHRSI_timeperiod_11_fastk_period_11_fastd_period_11                0.0572119                              0.138025                    0.630037                  0.174501                      0.084716                     0.403735   0.480416                      0.0997221                                                    0                              0.0720322                                                  0.15592                    0.187178               0.0803104                0.0881078                                                 0.469709                     0.00709048               0.53706                      0.476162                               0.100613   0.00885978               0.0392865                            0.046162                               0.0241497               0.0943726                0.0987495\n",
      "tta_AROONOSC_timeperiod_22                                                0.11448                                0.794333                    0.397657                  0.607916                      0.611953                     0.573049   0.0721265                     0.681956                                                     0.0720322                      0                                                          0.602104                   0.799445               0.199473                 0.755137                                                  0.297669                     0.0189813                0.426313                     0.421553                               0.0738326  0.0155604                0.219977                             0.0765651                              0.111973                0.0710054                0.118096\n",
      "tta_ULTOSC_timeperiod1_23_timeperiod2_21_timeperiod3_23                   0.101142                               0.608688                    0.443981                  0.558574                      0.49943                      0.440297   0.192794                      0.551592                                                     0.15592                        0.602104                                                   0                          0.515621               0.124103                 0.554252                                                  0.609272                     0.0276688                0.388                        0.401385                               0.166225   0.0423873                0.10178                              0.0651779                              0.088471                0.0738814                0.113976\n",
      "tta_AROON_timeperiod_20                                                   0.0836853                              0.663066                    0.386457                  0.504901                      0.503828                     0.529197   0.0622652                     0.558126                                                     0.187178                       0.799445                                                   0.515621                   0                      0.250013                 0.637434                                                  0.307145                     0.0200157                0.425155                     0.440838                               0.0735642  0.0118903                0.192634                             0.0681694                              0.104282                0.0626497                0.0449903\n",
      "tta_DX_timeperiod_8                                                       0.112524                               0.176241                    0.291439                  0.120864                      0.29885                      0.434308   0.0181785                     0.347539                                                     0.0803104                      0.199473                                                   0.124103                   0.250013               0                        0.28121                                                   0.145333                     0.0140397                0.249207                     0.170709                               0.02997    0.019351                 0.675634                             0.0270614                              0.0231008               0.0424766                0.153295\n",
      "tta_MFI_timeperiod_20                                                     0.115291                               0.767964                    0.459329                  0.592367                      0.620953                     0.620445   0.111201                      0.67852                                                      0.0881078                      0.755137                                                   0.554252                   0.637434               0.28121                  0                                                         0.319874                     0.0196278                0.550394                     0.441594                               0.0794373  0.0190428                0.326017                             0.0805027                              0.129299                0.0830884                0.160861\n",
      "tta_ULTOSC_timeperiod1_11_timeperiod2_9_timeperiod3_11                    0.0343385                              0.205644                    0.635005                  0.281329                      0.380736                     0.502437   0.228829                      0.395001                                                     0.469709                       0.297669                                                   0.609272                   0.307145               0.145333                 0.319874                                                  0                            0.0127496                0.560476                     0.637183                               0.207825   0.0330998                0.0636789                            0.0875738                              0.0274506               0.0969334                0.0648628\n",
      "tta_MINUS_DM_timeperiod_20                                                0.14983                                0.0382332                   0.0384229                 0.0442785                     0.0313777                    0.0230184  0.00640368                    0.024201                                                     0.00709048                     0.0189813                                                  0.0276688                  0.0200157              0.0140397                0.0196278                                                 0.0127496                    0                        0.0110857                    0.0131352                              0.0373991  0.0383715                0.0190599                            0.691001                               0.695053                0.681816                 0.0486357\n",
      "tta_MFI_timeperiod_7                                                      0.0501991                              0.276509                    0.793654                  0.217952                      0.414932                     0.653658   0.165959                      0.463392                                                     0.53706                        0.426313                                                   0.388                      0.425155               0.249207                 0.550394                                                  0.560476                     0.0110857                0                            0.755747                               0.124437   0.0141101                0.156035                             0.112036                               0.0467412               0.126692                 0.0274374\n",
      "tta_AROONOSC_timeperiod_8                                                 0.0473714                              0.264188                    0.742667                  0.23491                       0.424633                     0.646328   0.0998354                     0.465062                                                     0.476162                       0.421553                                                   0.401385                   0.440838               0.170709                 0.441594                                                  0.637183                     0.0131352                0.755747                     0                                      0.129023   0.0156262                0.114997                             0.11126                                0.041458                0.114341                 0.0280087\n",
      "tta_ADOSC_fastperiod_5_slowperiod_9                                       0.154905                               0.0730781                   0.159833                  0.0979386                     0.0929443                    0.10828    0.0418135                     0.0998065                                                    0.100613                       0.0738326                                                  0.166225                   0.0735642              0.02997                  0.0794373                                                 0.207825                     0.0373991                0.124437                     0.129023                               0          0.612006                 0.0225988                            0.0295987                              0.0291571               0.0294104                0.0341591\n",
      "tta_AD                                                                    0.157085                               0.0351884                   0.0311074                 0.0389143                     0.0312101                    0.0197301  0.00819352                    0.0323256                                                    0.00885978                     0.0155604                                                  0.0423873                  0.0118903              0.019351                 0.0190428                                                 0.0330998                    0.0383715                0.0141101                    0.0156262                              0.612006   0                        0.0303046                            0.0302391                              0.0299513               0.0300348                0.0476687\n",
      "tta_ADX_timeperiod_7                                                      0.133569                               0.314613                    0.180013                  0.263817                      0.342204                     0.31566    0.0176641                     0.370316                                                     0.0392865                      0.219977                                                   0.10178                    0.192634               0.675634                 0.326017                                                  0.0636789                    0.0190599                0.156035                     0.114997                               0.0225988  0.0303046                0                                    0.0351177                              0.0371254               0.0327012                0.405089\n",
      "tta_APO_fastperiod_9_slowperiod_8                                         0.100413                               0.0540192                   0.0886248                 0.0608896                     0.0794231                    0.0915409  0.0101379                     0.0916076                                                    0.046162                       0.0765651                                                  0.0651779                  0.0681694              0.0270614                0.0805027                                                 0.0875738                    0.691001                 0.112036                     0.11126                                0.0295987  0.0302391                0.0351177                            0                                      0.594394                0.77309                  0.0405135\n",
      "tta_APO_fastperiod_20_slowperiod_21                                       0.104116                               0.117461                    0.0464072                 0.102117                      0.106498                     0.079698   0.0114088                     0.11658                                                      0.0241497                      0.111973                                                   0.088471                   0.104282               0.0231008                0.129299                                                  0.0274506                    0.695053                 0.0467412                    0.041458                               0.0291571  0.0299513                0.0371254                            0.594394                               0                       0.592216                 0.0547203\n",
      "tta_MOM_timeperiod_7                                                      0.0995728                              0.0520258                   0.12116                   0.0578816                     0.0833305                    0.109629   0.0450633                     0.0968569                                                    0.0943726                      0.0710054                                                  0.0738814                  0.0626497              0.0424766                0.0830884                                                 0.0969334                    0.681816                 0.126692                     0.114341                               0.0294104  0.0300348                0.0327012                            0.77309                                0.592216                0                        0.0369646\n",
      "tta_ADX_timeperiod_20                                                     0.0925773                              0.239751                    0.0375259                 0.413059                      0.397207                     0.158518   0.0268423                     0.30674                                                      0.0987495                      0.118096                                                   0.113976                   0.0449903              0.153295                 0.160861                                                  0.0648628                    0.0486357                0.0274374                    0.0280087                              0.0341591  0.0476687                0.405089                             0.0405135                              0.0547203               0.0369646                0\n"
     ]
    }
   ],
   "source": [
    "tt.report(target_corr=True, features_corr=True)"
   ],
   "metadata": {
    "collapsed": false,
    "ExecuteTime": {
     "end_time": "2024-11-19T06:30:57.528229Z",
     "start_time": "2024-11-19T06:30:57.513387Z"
    }
   },
   "id": "58de781b93f618a7",
   "execution_count": 14
  },
  {
   "cell_type": "code",
   "outputs": [
    {
     "data": {
      "text/plain": "                                                    Correlation\ntta_NATR_timeperiod_7                                  0.165787\ntta_PPO_fastperiod_17_slowperiod_24                    0.083103\ntta_ROCR100_timeperiod_7                               0.080359\ntta_TRIX_timeperiod_17                                 0.079961\ntta_MINUS_DI_timeperiod_21                             0.070565\ntta_MINUS_DI_timeperiod_7                              0.069703\ntta_BOP                                                0.069159\ntta_PLUS_DI_timeperiod_20                              0.062903\ntta_STOCHRSI_timeperiod_11_fastk_period_11_fast...     0.059650\ntta_AROONOSC_timeperiod_22                             0.051144\ntta_ULTOSC_timeperiod1_23_timeperiod2_21_timepe...     0.049210\ntta_AROON_timeperiod_20                                0.047913\ntta_DX_timeperiod_8                                    0.047795\ntta_MFI_timeperiod_20                                  0.046234\ntta_ULTOSC_timeperiod1_11_timeperiod2_9_timeper...     0.045196\ntta_MINUS_DM_timeperiod_20                             0.039152\ntta_MFI_timeperiod_7                                   0.038791\ntta_AROONOSC_timeperiod_8                              0.038357\ntta_ADOSC_fastperiod_5_slowperiod_9                    0.035597\ntta_AD                                                 0.033825",
      "text/html": "<div>\n<style scoped>\n    .dataframe tbody tr th:only-of-type {\n        vertical-align: middle;\n    }\n\n    .dataframe tbody tr th {\n        vertical-align: top;\n    }\n\n    .dataframe thead th {\n        text-align: right;\n    }\n</style>\n<table border=\"1\" class=\"dataframe\">\n  <thead>\n    <tr style=\"text-align: right;\">\n      <th></th>\n      <th>Correlation</th>\n    </tr>\n  </thead>\n  <tbody>\n    <tr>\n      <th>tta_NATR_timeperiod_7</th>\n      <td>0.165787</td>\n    </tr>\n    <tr>\n      <th>tta_PPO_fastperiod_17_slowperiod_24</th>\n      <td>0.083103</td>\n    </tr>\n    <tr>\n      <th>tta_ROCR100_timeperiod_7</th>\n      <td>0.080359</td>\n    </tr>\n    <tr>\n      <th>tta_TRIX_timeperiod_17</th>\n      <td>0.079961</td>\n    </tr>\n    <tr>\n      <th>tta_MINUS_DI_timeperiod_21</th>\n      <td>0.070565</td>\n    </tr>\n    <tr>\n      <th>tta_MINUS_DI_timeperiod_7</th>\n      <td>0.069703</td>\n    </tr>\n    <tr>\n      <th>tta_BOP</th>\n      <td>0.069159</td>\n    </tr>\n    <tr>\n      <th>tta_PLUS_DI_timeperiod_20</th>\n      <td>0.062903</td>\n    </tr>\n    <tr>\n      <th>tta_STOCHRSI_timeperiod_11_fastk_period_11_fastd_period_11</th>\n      <td>0.059650</td>\n    </tr>\n    <tr>\n      <th>tta_AROONOSC_timeperiod_22</th>\n      <td>0.051144</td>\n    </tr>\n    <tr>\n      <th>tta_ULTOSC_timeperiod1_23_timeperiod2_21_timeperiod3_23</th>\n      <td>0.049210</td>\n    </tr>\n    <tr>\n      <th>tta_AROON_timeperiod_20</th>\n      <td>0.047913</td>\n    </tr>\n    <tr>\n      <th>tta_DX_timeperiod_8</th>\n      <td>0.047795</td>\n    </tr>\n    <tr>\n      <th>tta_MFI_timeperiod_20</th>\n      <td>0.046234</td>\n    </tr>\n    <tr>\n      <th>tta_ULTOSC_timeperiod1_11_timeperiod2_9_timeperiod3_11</th>\n      <td>0.045196</td>\n    </tr>\n    <tr>\n      <th>tta_MINUS_DM_timeperiod_20</th>\n      <td>0.039152</td>\n    </tr>\n    <tr>\n      <th>tta_MFI_timeperiod_7</th>\n      <td>0.038791</td>\n    </tr>\n    <tr>\n      <th>tta_AROONOSC_timeperiod_8</th>\n      <td>0.038357</td>\n    </tr>\n    <tr>\n      <th>tta_ADOSC_fastperiod_5_slowperiod_9</th>\n      <td>0.035597</td>\n    </tr>\n    <tr>\n      <th>tta_AD</th>\n      <td>0.033825</td>\n    </tr>\n  </tbody>\n</table>\n</div>"
     },
     "execution_count": 17,
     "metadata": {},
     "output_type": "execute_result"
    }
   ],
   "source": [
    "tt.t_corr[tt.t_corr['Correlation'] > 0.03]"
   ],
   "metadata": {
    "collapsed": false,
    "ExecuteTime": {
     "end_time": "2024-11-19T06:33:07.248820Z",
     "start_time": "2024-11-19T06:33:07.244609Z"
    }
   },
   "id": "6ab89bc4c94b9f46",
   "execution_count": 17
  },
  {
   "cell_type": "code",
   "outputs": [],
   "source": [
    "tt.t_corr.to_csv('./tune_ta_result.csv')"
   ],
   "metadata": {
    "collapsed": false,
    "ExecuteTime": {
     "end_time": "2024-11-19T06:32:49.428172Z",
     "start_time": "2024-11-19T06:32:49.310868Z"
    }
   },
   "id": "8704d49c188c2234",
   "execution_count": 16
  },
  {
   "cell_type": "code",
   "outputs": [],
   "source": [
    "features = tt.transform(X_train)"
   ],
   "metadata": {
    "collapsed": false,
    "ExecuteTime": {
     "start_time": "2024-11-19T06:16:44.119755Z"
    }
   },
   "id": "52531e58353e6fdc",
   "execution_count": null
  },
  {
   "cell_type": "code",
   "outputs": [],
   "source": [
    "features.columns"
   ],
   "metadata": {
    "collapsed": false,
    "ExecuteTime": {
     "end_time": "2024-11-19T06:16:44.123982Z",
     "start_time": "2024-11-19T06:16:44.122535Z"
    }
   },
   "id": "a18bbf4debbcd18b",
   "execution_count": null
  },
  {
   "cell_type": "code",
   "outputs": [],
   "source": [],
   "metadata": {
    "collapsed": false,
    "ExecuteTime": {
     "start_time": "2024-11-19T06:13:20.066094Z"
    }
   },
   "id": "9b4369956efa8470",
   "execution_count": null
  },
  {
   "cell_type": "code",
   "outputs": [],
   "source": [],
   "metadata": {
    "collapsed": false,
    "ExecuteTime": {
     "start_time": "2024-11-19T06:13:20.066789Z"
    }
   },
   "id": "f6c135c5581e11ec",
   "execution_count": null
  }
 ],
 "metadata": {
  "kernelspec": {
   "display_name": "Python 3",
   "language": "python",
   "name": "python3"
  },
  "language_info": {
   "codemirror_mode": {
    "name": "ipython",
    "version": 2
   },
   "file_extension": ".py",
   "mimetype": "text/x-python",
   "name": "python",
   "nbconvert_exporter": "python",
   "pygments_lexer": "ipython2",
   "version": "2.7.6"
  }
 },
 "nbformat": 4,
 "nbformat_minor": 5
}
