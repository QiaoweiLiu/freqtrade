{
 "cells": [
  {
   "cell_type": "code",
   "execution_count": 151,
   "id": "initial_id",
   "metadata": {
    "collapsed": true,
    "ExecuteTime": {
     "end_time": "2024-11-12T14:42:41.113356Z",
     "start_time": "2024-11-12T14:42:41.111625Z"
    }
   },
   "outputs": [
    {
     "name": "stdout",
     "output_type": "stream",
     "text": [
      "/Users/liuqiaowei/SourceCode/freqtrade\n"
     ]
    }
   ],
   "source": [
    "import os\n",
    "from pathlib import Path\n",
    "\n",
    "# Change directory\n",
    "# Modify this cell to insure that the output shows the correct path.\n",
    "# Define all paths relative to the project root shown in the cell output\n",
    "project_root = \"/Users/liuqiaowei/SourceCode/freqtrade/user_data/notebooks\"\n",
    "i = 0\n",
    "try:\n",
    "    os.chdir(project_root)\n",
    "    if not Path(\"LICENSE\").is_file():\n",
    "        i = 0\n",
    "        while i < 4 and (not Path(\"LICENSE\").is_file()):\n",
    "            os.chdir(Path(Path.cwd(), \"../\"))\n",
    "            i += 1\n",
    "        project_root = Path.cwd()\n",
    "except FileNotFoundError:\n",
    "    print(\"Please define the project root relative to the current directory\")\n",
    "print(Path.cwd())"
   ]
  },
  {
   "cell_type": "code",
   "outputs": [],
   "source": [
    "from freqtrade.configuration import Configuration\n",
    "\n",
    "\n",
    "# Customize these according to your needs.\n",
    "\n",
    "# Initialize empty configuration object\n",
    "config = Configuration.from_files([\"./user_data/config.json\"])\n",
    "# Optionally (recommended), use existing configuration file\n",
    "# config = Configuration.from_files([\"user_data/config.json\"])\n",
    "\n",
    "# Location of the data\n",
    "data_location = config[\"datadir\"]\n",
    "config['timeframe'] = '1h'\n",
    "# Pair to analyze - Only use one pair here\n",
    "# config['exchange']['pair_whitelist']"
   ],
   "metadata": {
    "collapsed": false,
    "ExecuteTime": {
     "end_time": "2024-11-12T14:42:42.136914Z",
     "start_time": "2024-11-12T14:42:42.060619Z"
    }
   },
   "id": "2198497fef36e3bc",
   "execution_count": 152
  },
  {
   "cell_type": "code",
   "outputs": [],
   "source": [
    "from freqtrade.data.history import load_pair_history\n",
    "from freqtrade.enums import CandleType\n",
    "\n",
    "candles_dict = {}\n",
    "for pair in config['exchange']['pair_whitelist']:\n",
    "    candles = load_pair_history(\n",
    "        datadir=data_location,\n",
    "        timeframe=config[\"timeframe\"],\n",
    "        pair=pair,\n",
    "        data_format=\"feather\",  # Make sure to update this to your data\n",
    "        candle_type=CandleType.FUTURES,\n",
    "    )\n",
    "    # candles['sym'] = pair\n",
    "    # candles.set_index('date', inplace=True)\n",
    "    # candles.set_index('sym', append=True, inplace=True)\n",
    "    # candles['return'] = candles['close'].pct_change().shift(-2)\n",
    "    \n",
    "    # Keep Latest week for testing\n",
    "    # candles_dict[pair] = candles.iloc[-268:]\n",
    "    candles_dict[pair] = candles"
   ],
   "metadata": {
    "collapsed": false,
    "ExecuteTime": {
     "end_time": "2024-11-12T14:42:46.306638Z",
     "start_time": "2024-11-12T14:42:44.755389Z"
    }
   },
   "id": "eb3bce5469fe7024",
   "execution_count": 153
  },
  {
   "cell_type": "code",
   "outputs": [],
   "source": [
    "import pandas as pd\n",
    "import talib.abstract as ta\n",
    "\n",
    "def factor_open(dataframe: pd.DataFrame, pair_name: str) -> pd.DataFrame:\n",
    "    dataframe[pair_name] = dataframe['open']\n",
    "    return dataframe\n",
    "\n",
    "def factor_rocr(dataframe: pd.DataFrame, pair_name: str) -> pd.DataFrame:\n",
    "    dataframe[pair_name] = ta.ROCR(dataframe, timeperiod=52)\n",
    "    return dataframe\n",
    "\n",
    "def factor_rocr100(dataframe: pd.DataFrame, pair_name: str) -> pd.DataFrame:\n",
    "    dataframe[pair_name] = ta.ROCR100(dataframe, timeperiod=26)\n",
    "    return dataframe\n",
    "\n",
    "def factor_roc(dataframe: pd.DataFrame, pair_name: str) -> pd.DataFrame:\n",
    "    dataframe[pair_name] = ta.ROC(dataframe, timeperiod=28)\n",
    "    return dataframe\n",
    "\n",
    "def factor_trix(dataframe: pd.DataFrame, pair_name: str) -> pd.DataFrame:\n",
    "    dataframe[pair_name] = ta.TRIX(dataframe, timeperiod=34)\n",
    "    return dataframe\n",
    "\n",
    "def factor_trix1(dataframe: pd.DataFrame, pair_name: str) -> pd.DataFrame:\n",
    "    dataframe[pair_name] = ta.TRIX(dataframe, timeperiod=13)\n",
    "    return dataframe\n",
    "\n",
    "def factor_cci(dataframe: pd.DataFrame, pair_name: str) -> pd.DataFrame:\n",
    "    dataframe[pair_name] = ta.CCI(dataframe, timeperiod=20)\n",
    "    return dataframe\n",
    "\n",
    "def factor_rsi(dataframe: pd.DataFrame, pair_name: str) -> pd.DataFrame:\n",
    "    dataframe[pair_name] = ta.RSI(dataframe, timeperiod=49)\n",
    "    return dataframe\n",
    "\n",
    "def factor_adx(dataframe: pd.DataFrame, pair_name: str) -> pd.DataFrame:\n",
    "    dataframe[pair_name] = ta.ADX(dataframe, timeperiod=34)\n",
    "    return dataframe\n",
    "\n",
    "def factor_dx(dataframe: pd.DataFrame, pair_name: str) -> pd.DataFrame:\n",
    "    dataframe[pair_name] = ta.DX(dataframe, timeperiod=55)\n",
    "    return dataframe\n",
    "\n",
    "def factor_adxr(dataframe: pd.DataFrame, pair_name: str) -> pd.DataFrame:\n",
    "    dataframe[pair_name] = ta.ADXR(dataframe, timeperiod=34)\n",
    "    return dataframe\n",
    "\n",
    "def factor_ppo(dataframe: pd.DataFrame, pair_name: str) -> pd.DataFrame:\n",
    "    dataframe[pair_name] = ta.PPO(dataframe, fastperiod=41, slowperiod=34)\n",
    "    return dataframe\n",
    "\n",
    "def factor_bop(dataframe: pd.DataFrame, pair_name: str) -> pd.DataFrame:\n",
    "    dataframe[pair_name] = ta.BOP(dataframe)\n",
    "    return dataframe\n",
    "\n",
    "def factor_minus_di(dataframe: pd.DataFrame, pair_name: str) -> pd.DataFrame:\n",
    "    dataframe[pair_name] = ta.MINUS_DI(dataframe, timeperiod=39)\n",
    "    return dataframe\n",
    "\n",
    "def factor_ultosc(dataframe: pd.DataFrame, pair_name: str) -> pd.DataFrame:\n",
    "    dataframe[pair_name] = ta.ULTOSC(dataframe, timeperiod1=57, timeperiod2=59, timeperiod=60)\n",
    "    return dataframe\n",
    "\n",
    "def factor_ultosc1(dataframe: pd.DataFrame, pair_name: str) -> pd.DataFrame:\n",
    "    dataframe[pair_name] = ta.ULTOSC(dataframe, timeperiod1=29, timeperiod2=29, timeperiod=30)\n",
    "    return dataframe\n",
    "\n",
    "def factor_mfi(dataframe: pd.DataFrame, pair_name: str) -> pd.DataFrame:\n",
    "    dataframe[pair_name] = ta.MFI(dataframe, timeperiod=35)\n",
    "    return dataframe\n",
    "\n",
    "def factor_plus_di(dataframe: pd.DataFrame, pair_name: str) -> pd.DataFrame:\n",
    "    dataframe[pair_name] = ta.PLUS_DI(dataframe, timeperiod=56)\n",
    "    return dataframe\n",
    "\n",
    "def factor_plus_dm(dataframe: pd.DataFrame, pair_name: str) -> pd.DataFrame:\n",
    "    dataframe[pair_name] = ta.PLUS_DM(dataframe, timeperiod=58)\n",
    "    return dataframe\n",
    "\n",
    "def factor_willr(dataframe: pd.DataFrame, pair_name: str) -> pd.DataFrame:\n",
    "    dataframe[pair_name] = ta.WILLR(dataframe, timeperiod=28)\n",
    "    return dataframe\n",
    "\n",
    "def factor_aroonosc(dataframe: pd.DataFrame, pair_name: str) -> pd.DataFrame:\n",
    "    dataframe[pair_name] = ta.AROONOSC(dataframe, timeperiod=28)\n",
    "    return dataframe\n",
    "\n",
    "def factor_aroondown(dataframe: pd.DataFrame, pair_name: str) -> pd.DataFrame:\n",
    "    dataframe[pair_name], _ = ta.AROON(dataframe, timeperiod=51)\n",
    "    return dataframe\n",
    "\n",
    "def factor_aroonup(dataframe: pd.DataFrame, pair_name: str) -> pd.DataFrame:\n",
    "    _, dataframe[pair_name] = ta.AROON(dataframe, timeperiod=51)\n",
    "    return dataframe\n",
    "\n",
    "def factor_natr(dataframe: pd.DataFrame, pair_name: str) -> pd.DataFrame:\n",
    "    dataframe[pair_name] = ta.NATR(dataframe, timeperiod=11)\n",
    "    return dataframe\n",
    "\n",
    "def factor_bop(dataframe: pd.DataFrame, pair_name: str) -> pd.DataFrame:\n",
    "    dataframe[pair_name] = ta.BOP(dataframe)\n",
    "    return dataframe\n",
    "\n",
    "def factor_adosc(dataframe: pd.DataFrame, pair_name: str) -> pd.DataFrame:\n",
    "    dataframe[pair_name] = ta.ADOSC(dataframe, fastperiod=31, slowperiod=34)\n",
    "    return dataframe\n",
    "\n",
    "def factor_adosc1(dataframe: pd.DataFrame, pair_name: str) -> pd.DataFrame:\n",
    "    dataframe[pair_name] = ta.ADOSC(dataframe, fastperiod=35, slowperiod=32)\n",
    "    return dataframe\n",
    "\n",
    "def factor_ad(dataframe: pd.DataFrame, pair_name: str) -> pd.DataFrame:\n",
    "    dataframe[pair_name] = ta.AD(dataframe)\n",
    "    return dataframe\n",
    "\n",
    "def factor_apo(dataframe: pd.DataFrame, pair_name: str) -> pd.DataFrame:\n",
    "    dataframe[pair_name] = ta.APO(dataframe, fastperiod=12, slowperiod=24)\n",
    "    return dataframe\n"
   ],
   "metadata": {
    "collapsed": false,
    "ExecuteTime": {
     "end_time": "2024-11-12T14:42:51.420240Z",
     "start_time": "2024-11-12T14:42:51.403991Z"
    }
   },
   "id": "823c0f40f813402b",
   "execution_count": 154
  },
  {
   "cell_type": "code",
   "outputs": [],
   "source": [
    "from user_data.notebooks.ta_factors import TAFactors\n",
    "factors_df_dict = {}\n",
    "\n",
    "open_df = pd.DataFrame()\n",
    "for key, value in candles_dict.items():\n",
    "    candles = value.copy()\n",
    "    candles.set_index(['date'], inplace=True)\n",
    "    if len(factors_df_dict.keys()) == 0:\n",
    "        # Hard code parameter first for research\n",
    "        # factors_df_dict['ROCR'] = factor_rocr(candles, key)[key].to_frame()\n",
    "        factors_df_dict['ROC'] = factor_roc(candles, key)[key].to_frame()\n",
    "        factors_df_dict['NATR'] = factor_natr(candles, key)[key].to_frame()\n",
    "        # factors_df_dict['ROCR100'] = factor_rocr100(candles, key)[key].to_frame()\n",
    "        factors_df_dict['TRIX'] = factor_trix(candles, key)[key].to_frame()\n",
    "        # factors_df_dict['TRIX1'] = factor_trix1(candles, key)[key].to_frame()\n",
    "        factors_df_dict['PPO'] = factor_ppo(candles, key)[key].to_frame()\n",
    "        factors_df_dict['DX'] = factor_dx(candles, key)[key].to_frame()\n",
    "        factors_df_dict['ADX'] = factor_adx(candles, key)[key].to_frame()\n",
    "        factors_df_dict['MINUS_DI'] = factor_minus_di(candles, key)[key].to_frame()\n",
    "        # factors_df_dict['ADXR'] = factor_adxr(candles, key)[key].to_frame()\n",
    "        factors_df_dict['ULTOSC'] = factor_ultosc(candles, key)[key].to_frame()\n",
    "        factors_df_dict['ULTOSC1'] = factor_ultosc1(candles, key)[key].to_frame()\n",
    "        factors_df_dict['MFI'] = factor_mfi(candles, key)[key].to_frame()\n",
    "        # factors_df_dict['AROONDOWN'] = factor_aroondown(candles, key)[key].to_frame()\n",
    "        # factors_df_dict['AROONUP'] = factor_aroonup(candles, key)[key].to_frame()\n",
    "        factors_df_dict['PLUS_DI'] = factor_plus_di(candles, key)[key].to_frame()\n",
    "        # factors_df_dict['BOP'] = factor_bop(candles, key)[key].to_frame()\n",
    "        factors_df_dict['PLUS_DM'] = factor_plus_dm(candles, key)[key].to_frame()\n",
    "        factors_df_dict['AROONOSC'] = factor_aroonosc(candles, key)[key].to_frame()\n",
    "        factors_df_dict['WILLR'] = factor_willr(candles, key)[key].to_frame()\n",
    "        factors_df_dict['ADOSC'] = factor_adosc(candles, key)[key].to_frame()\n",
    "        # factors_df_dict['ADOSC1'] = factor_adosc1(candles, key)[key].to_frame()\n",
    "        factors_df_dict['AD'] = factor_ad(candles, key)[key].to_frame()\n",
    "        factors_df_dict['APO'] = factor_apo(candles, key)[key].to_frame()\n",
    "        open_df = factor_open(candles, key)[key].to_frame()\n",
    "    else:\n",
    "        # factors_df_dict['ROCR'] = factors_df_dict['ROCR'].join(factor_rocr(candles, key)[key].to_frame())\n",
    "        factors_df_dict['ROC'] = factors_df_dict['ROC'].join(factor_roc(candles, key)[key].to_frame())\n",
    "        factors_df_dict['NATR'] = factors_df_dict['NATR'].join(factor_natr(candles, key)[key].to_frame())\n",
    "        # factors_df_dict['ROCR100'] = factors_df_dict['ROCR100'].join(factor_rocr100(candles, key)[key].to_frame())\n",
    "        factors_df_dict['TRIX'] = factors_df_dict['TRIX'].join(factor_trix(candles, key)[key].to_frame())\n",
    "        # factors_df_dict['TRIX1'] = factors_df_dict['TRIX1'].join(factor_trix1(candles, key)[key].to_frame())\n",
    "        factors_df_dict['DX'] = factors_df_dict['DX'].join(factor_dx(candles, key)[key].to_frame())\n",
    "        factors_df_dict['PPO'] = factors_df_dict['PPO'].join(factor_ppo(candles, key)[key].to_frame())\n",
    "        factors_df_dict['ADX'] = factors_df_dict['ADX'].join(factor_adx(candles, key)[key].to_frame())\n",
    "        factors_df_dict['MINUS_DI'] = factors_df_dict['MINUS_DI'].join(factor_minus_di(candles, key)[key].to_frame())\n",
    "        # factors_df_dict['ADXR'] = factors_df_dict['ADXR'].join(factor_adxr(candles, key)[key].to_frame())\n",
    "        factors_df_dict['ULTOSC'] = factors_df_dict['ULTOSC'].join(factor_ultosc(candles, key)[key].to_frame())\n",
    "        factors_df_dict['ULTOSC1'] = factors_df_dict['ULTOSC1'].join(factor_ultosc1(candles, key)[key].to_frame())\n",
    "        factors_df_dict['MFI'] = factors_df_dict['MFI'].join(factor_mfi(candles, key)[key].to_frame())\n",
    "        # factors_df_dict['AROONDOWN'] = factors_df_dict['AROONDOWN'].join(factor_aroondown(candles, key)[key].to_frame())\n",
    "        # factors_df_dict['AROONUP'] = factors_df_dict['AROONUP'].join(factor_aroonup(candles, key)[key].to_frame())\n",
    "        factors_df_dict['PLUS_DI'] = factors_df_dict['PLUS_DI'].join(factor_plus_di(candles, key)[key].to_frame())\n",
    "        # factors_df_dict['BOP'] = factors_df_dict['BOP'].join(factor_bop(candles, key)[key].to_frame())\n",
    "        factors_df_dict['PLUS_DM'] = factors_df_dict['PLUS_DM'].join(factor_plus_dm(candles, key)[key].to_frame())\n",
    "        factors_df_dict['AROONOSC'] = factors_df_dict['AROONOSC'].join(factor_aroonosc(candles, key)[key].to_frame())\n",
    "        factors_df_dict['WILLR'] = factors_df_dict['WILLR'].join(factor_willr(candles, key)[key].to_frame())\n",
    "        factors_df_dict['ADOSC'] = factors_df_dict['ADOSC'].join(factor_adosc(candles, key)[key].to_frame())\n",
    "        # factors_df_dict['ADOSC1'] = factors_df_dict['ADOSC1'].join(factor_adosc1(candles, key)[key].to_frame())\n",
    "        factors_df_dict['AD'] = factors_df_dict['AD'].join(factor_ad(candles,key)[key].to_frame())\n",
    "        factors_df_dict['APO'] = factors_df_dict['APO'].join(factor_apo(candles, key)[key].to_frame())\n",
    "        open_df = open_df.join(factor_open(candles, key)[key].to_frame())\n",
    "\n"
   ],
   "metadata": {
    "collapsed": false,
    "ExecuteTime": {
     "end_time": "2024-11-12T14:43:15.259104Z",
     "start_time": "2024-11-12T14:43:13.636823Z"
    }
   },
   "id": "fd777e1983815bb3",
   "execution_count": 155
  },
  {
   "cell_type": "code",
   "outputs": [
    {
     "name": "stdout",
     "output_type": "stream",
     "text": [
      "ROC\n",
      "NATR\n",
      "TRIX\n",
      "PPO\n",
      "DX\n",
      "ADX\n",
      "MINUS_DI\n",
      "ULTOSC\n",
      "ULTOSC1\n",
      "MFI\n",
      "PLUS_DI\n",
      "PLUS_DM\n",
      "AROONOSC\n",
      "WILLR\n",
      "ADOSC\n",
      "AD\n",
      "APO\n"
     ]
    },
    {
     "data": {
      "text/plain": "dict_keys(['ROC', 'NATR', 'TRIX', 'PPO', 'DX', 'ADX', 'MINUS_DI', 'ULTOSC', 'ULTOSC1', 'MFI', 'PLUS_DI', 'PLUS_DM', 'AROONOSC', 'WILLR', 'ADOSC', 'AD', 'APO'])"
     },
     "execution_count": 156,
     "metadata": {},
     "output_type": "execute_result"
    }
   ],
   "source": [
    "from user_data.notebooks.factor_analysis_helper import standardize\n",
    "\n",
    "# Standardize Factor\n",
    "\n",
    "standardized_factors_df_dict = {}\n",
    "for key in factors_df_dict.keys():\n",
    "    print(key)\n",
    "    standardized_factors_df_dict[key] = standardize(factors_df_dict[key])\n",
    "\n",
    "standardized_factors_df_dict.keys()"
   ],
   "metadata": {
    "collapsed": false,
    "ExecuteTime": {
     "end_time": "2024-11-12T14:43:18.094124Z",
     "start_time": "2024-11-12T14:43:17.940692Z"
    }
   },
   "id": "20a770a2033bb005",
   "execution_count": 156
  },
  {
   "cell_type": "code",
   "outputs": [
    {
     "name": "stderr",
     "output_type": "stream",
     "text": [
      "/Users/liuqiaowei/SourceCode/freqtrade/user_data/notebooks/factor_analysis_helper.py:20: FutureWarning: The default fill_method='pad' in DataFrame.pct_change is deprecated and will be removed in a future version. Either fill in any non-leading NA values prior to calling pct_change or specify 'fill_method=None' to not fill NA values.\n",
      "  return_n = open_df.pct_change(n).shift(-n - 1)\n",
      "/Users/liuqiaowei/SourceCode/freqtrade/user_data/notebooks/factor_analysis_helper.py:20: FutureWarning: The default fill_method='pad' in DataFrame.pct_change is deprecated and will be removed in a future version. Either fill in any non-leading NA values prior to calling pct_change or specify 'fill_method=None' to not fill NA values.\n",
      "  return_n = open_df.pct_change(n).shift(-n - 1)\n",
      "/Users/liuqiaowei/SourceCode/freqtrade/user_data/notebooks/factor_analysis_helper.py:20: FutureWarning: The default fill_method='pad' in DataFrame.pct_change is deprecated and will be removed in a future version. Either fill in any non-leading NA values prior to calling pct_change or specify 'fill_method=None' to not fill NA values.\n",
      "  return_n = open_df.pct_change(n).shift(-n - 1)\n",
      "/Users/liuqiaowei/SourceCode/freqtrade/user_data/notebooks/factor_analysis_helper.py:20: FutureWarning: The default fill_method='pad' in DataFrame.pct_change is deprecated and will be removed in a future version. Either fill in any non-leading NA values prior to calling pct_change or specify 'fill_method=None' to not fill NA values.\n",
      "  return_n = open_df.pct_change(n).shift(-n - 1)\n",
      "/Users/liuqiaowei/SourceCode/freqtrade/user_data/notebooks/factor_analysis_helper.py:20: FutureWarning: The default fill_method='pad' in DataFrame.pct_change is deprecated and will be removed in a future version. Either fill in any non-leading NA values prior to calling pct_change or specify 'fill_method=None' to not fill NA values.\n",
      "  return_n = open_df.pct_change(n).shift(-n - 1)\n",
      "/Users/liuqiaowei/SourceCode/freqtrade/user_data/notebooks/factor_analysis_helper.py:20: FutureWarning: The default fill_method='pad' in DataFrame.pct_change is deprecated and will be removed in a future version. Either fill in any non-leading NA values prior to calling pct_change or specify 'fill_method=None' to not fill NA values.\n",
      "  return_n = open_df.pct_change(n).shift(-n - 1)\n",
      "/Users/liuqiaowei/SourceCode/freqtrade/user_data/notebooks/factor_analysis_helper.py:20: FutureWarning: The default fill_method='pad' in DataFrame.pct_change is deprecated and will be removed in a future version. Either fill in any non-leading NA values prior to calling pct_change or specify 'fill_method=None' to not fill NA values.\n",
      "  return_n = open_df.pct_change(n).shift(-n - 1)\n",
      "/Users/liuqiaowei/SourceCode/freqtrade/user_data/notebooks/factor_analysis_helper.py:20: FutureWarning: The default fill_method='pad' in DataFrame.pct_change is deprecated and will be removed in a future version. Either fill in any non-leading NA values prior to calling pct_change or specify 'fill_method=None' to not fill NA values.\n",
      "  return_n = open_df.pct_change(n).shift(-n - 1)\n",
      "/Users/liuqiaowei/SourceCode/freqtrade/user_data/notebooks/factor_analysis_helper.py:20: FutureWarning: The default fill_method='pad' in DataFrame.pct_change is deprecated and will be removed in a future version. Either fill in any non-leading NA values prior to calling pct_change or specify 'fill_method=None' to not fill NA values.\n",
      "  return_n = open_df.pct_change(n).shift(-n - 1)\n",
      "/Users/liuqiaowei/SourceCode/freqtrade/user_data/notebooks/factor_analysis_helper.py:20: FutureWarning: The default fill_method='pad' in DataFrame.pct_change is deprecated and will be removed in a future version. Either fill in any non-leading NA values prior to calling pct_change or specify 'fill_method=None' to not fill NA values.\n",
      "  return_n = open_df.pct_change(n).shift(-n - 1)\n",
      "/Users/liuqiaowei/SourceCode/freqtrade/user_data/notebooks/factor_analysis_helper.py:20: FutureWarning: The default fill_method='pad' in DataFrame.pct_change is deprecated and will be removed in a future version. Either fill in any non-leading NA values prior to calling pct_change or specify 'fill_method=None' to not fill NA values.\n",
      "  return_n = open_df.pct_change(n).shift(-n - 1)\n",
      "/Users/liuqiaowei/SourceCode/freqtrade/user_data/notebooks/factor_analysis_helper.py:20: FutureWarning: The default fill_method='pad' in DataFrame.pct_change is deprecated and will be removed in a future version. Either fill in any non-leading NA values prior to calling pct_change or specify 'fill_method=None' to not fill NA values.\n",
      "  return_n = open_df.pct_change(n).shift(-n - 1)\n",
      "/Users/liuqiaowei/SourceCode/freqtrade/user_data/notebooks/factor_analysis_helper.py:20: FutureWarning: The default fill_method='pad' in DataFrame.pct_change is deprecated and will be removed in a future version. Either fill in any non-leading NA values prior to calling pct_change or specify 'fill_method=None' to not fill NA values.\n",
      "  return_n = open_df.pct_change(n).shift(-n - 1)\n",
      "/Users/liuqiaowei/SourceCode/freqtrade/user_data/notebooks/factor_analysis_helper.py:20: FutureWarning: The default fill_method='pad' in DataFrame.pct_change is deprecated and will be removed in a future version. Either fill in any non-leading NA values prior to calling pct_change or specify 'fill_method=None' to not fill NA values.\n",
      "  return_n = open_df.pct_change(n).shift(-n - 1)\n",
      "/Users/liuqiaowei/SourceCode/freqtrade/user_data/notebooks/factor_analysis_helper.py:20: FutureWarning: The default fill_method='pad' in DataFrame.pct_change is deprecated and will be removed in a future version. Either fill in any non-leading NA values prior to calling pct_change or specify 'fill_method=None' to not fill NA values.\n",
      "  return_n = open_df.pct_change(n).shift(-n - 1)\n",
      "/Users/liuqiaowei/SourceCode/freqtrade/user_data/notebooks/factor_analysis_helper.py:20: FutureWarning: The default fill_method='pad' in DataFrame.pct_change is deprecated and will be removed in a future version. Either fill in any non-leading NA values prior to calling pct_change or specify 'fill_method=None' to not fill NA values.\n",
      "  return_n = open_df.pct_change(n).shift(-n - 1)\n",
      "/Users/liuqiaowei/SourceCode/freqtrade/user_data/notebooks/factor_analysis_helper.py:20: FutureWarning: The default fill_method='pad' in DataFrame.pct_change is deprecated and will be removed in a future version. Either fill in any non-leading NA values prior to calling pct_change or specify 'fill_method=None' to not fill NA values.\n",
      "  return_n = open_df.pct_change(n).shift(-n - 1)\n"
     ]
    },
    {
     "data": {
      "text/plain": "['ROC',\n 'NATR',\n 'TRIX',\n 'PPO',\n 'DX',\n 'ADX',\n 'MINUS_DI',\n 'MFI',\n 'PLUS_DI',\n 'AROONOSC',\n 'WILLR',\n 'APO']"
     },
     "execution_count": 157,
     "metadata": {},
     "output_type": "execute_result"
    }
   ],
   "source": [
    "from user_data.notebooks.factor_analysis_helper import Quick_Factor_Return_N_IC\n",
    "\n",
    "# IC IR Checking\n",
    "factor_icir_result = {}\n",
    "factors_icir_report_dict = {}\n",
    "icir_factors_list = []\n",
    "\n",
    "for key in standardized_factors_df_dict.keys():\n",
    "    factor_icir_result[key], factors_icir_report_dict[key] = Quick_Factor_Return_N_IC(standardized_factors_df_dict[key], open_df, 4, key, '1h')\n",
    "    if abs(factors_icir_report_dict[key]['IC mean']) > 0.01 or abs(factors_icir_report_dict[key]['IR']) > 0.1:\n",
    "        icir_factors_list.append(key)\n",
    "\n",
    "icir_factors_list"
   ],
   "metadata": {
    "collapsed": false,
    "ExecuteTime": {
     "end_time": "2024-11-12T14:43:36.806433Z",
     "start_time": "2024-11-12T14:43:24.080915Z"
    }
   },
   "id": "a30612b4c8f23a89",
   "execution_count": 157
  },
  {
   "cell_type": "code",
   "outputs": [
    {
     "data": {
      "text/plain": "{'ROC': -0.0304,\n 'NATR': -0.0486,\n 'TRIX': -0.0237,\n 'PPO': -0.0152,\n 'DX': 0.0115,\n 'ADX': 0.0137,\n 'MINUS_DI': 0.0424,\n 'ULTOSC': -0.0077,\n 'ULTOSC1': -0.0078,\n 'MFI': -0.0245,\n 'PLUS_DI': -0.0449,\n 'PLUS_DM': 0.0005,\n 'AROONOSC': -0.0176,\n 'WILLR': -0.0232,\n 'ADOSC': 0.0009,\n 'AD': 0.0077,\n 'APO': -0.0154}"
     },
     "execution_count": 158,
     "metadata": {},
     "output_type": "execute_result"
    }
   ],
   "source": [
    "temp = {}\n",
    "for key, value in factors_icir_report_dict.items():\n",
    "    temp[key] = value['IC mean']\n",
    "    \n",
    "temp"
   ],
   "metadata": {
    "collapsed": false,
    "ExecuteTime": {
     "end_time": "2024-11-12T14:43:53.710934Z",
     "start_time": "2024-11-12T14:43:53.702789Z"
    }
   },
   "id": "89caf2720aa515f3",
   "execution_count": 158
  },
  {
   "cell_type": "code",
   "outputs": [
    {
     "name": "stderr",
     "output_type": "stream",
     "text": [
      "/Users/liuqiaowei/SourceCode/freqtrade/user_data/notebooks/factor_analysis_helper.py:36: FutureWarning: The default fill_method='pad' in DataFrame.pct_change is deprecated and will be removed in a future version. Either fill in any non-leading NA values prior to calling pct_change or specify 'fill_method=None' to not fill NA values.\n",
      "  return_df = open_df.pct_change().shift(-2).dropna(how='all', axis=0).stack()\n"
     ]
    },
    {
     "name": "stdout",
     "output_type": "stream",
     "text": [
      " 当前：1108 / 总量：5719"
     ]
    },
    {
     "ename": "KeyboardInterrupt",
     "evalue": "",
     "output_type": "error",
     "traceback": [
      "\u001B[0;31m---------------------------------------------------------------------------\u001B[0m",
      "\u001B[0;31mKeyboardInterrupt\u001B[0m                         Traceback (most recent call last)",
      "\u001B[0;32m/var/folders/r4/37x1j92s4dv970k2bn0sv0840000gn/T/ipykernel_2235/243087630.py\u001B[0m in \u001B[0;36m?\u001B[0;34m()\u001B[0m\n\u001B[1;32m      5\u001B[0m \u001B[0mgroup_corr_dict\u001B[0m \u001B[0;34m=\u001B[0m \u001B[0;34m{\u001B[0m\u001B[0;34m}\u001B[0m\u001B[0;34m\u001B[0m\u001B[0;34m\u001B[0m\u001B[0m\n\u001B[1;32m      6\u001B[0m \u001B[0mgroup_factors_list\u001B[0m \u001B[0;34m=\u001B[0m \u001B[0;34m[\u001B[0m\u001B[0;34m]\u001B[0m\u001B[0;34m\u001B[0m\u001B[0;34m\u001B[0m\u001B[0m\n\u001B[1;32m      7\u001B[0m \u001B[0;34m\u001B[0m\u001B[0m\n\u001B[1;32m      8\u001B[0m \u001B[0;32mfor\u001B[0m \u001B[0mkey\u001B[0m \u001B[0;32min\u001B[0m \u001B[0mstandardized_factors_df_dict\u001B[0m\u001B[0;34m.\u001B[0m\u001B[0mkeys\u001B[0m\u001B[0;34m(\u001B[0m\u001B[0;34m)\u001B[0m\u001B[0;34m:\u001B[0m\u001B[0;34m\u001B[0m\u001B[0;34m\u001B[0m\u001B[0m\n\u001B[0;32m----> 9\u001B[0;31m     \u001B[0mgroup_weekly_ret_dict\u001B[0m\u001B[0;34m[\u001B[0m\u001B[0mkey\u001B[0m\u001B[0;34m]\u001B[0m\u001B[0;34m,\u001B[0m \u001B[0mgroup_corr_dict\u001B[0m\u001B[0;34m[\u001B[0m\u001B[0mkey\u001B[0m\u001B[0;34m]\u001B[0m \u001B[0;34m=\u001B[0m \u001B[0mFactor_Group_Analysis\u001B[0m\u001B[0;34m(\u001B[0m\u001B[0mstandardized_factors_df_dict\u001B[0m\u001B[0;34m[\u001B[0m\u001B[0mkey\u001B[0m\u001B[0;34m]\u001B[0m\u001B[0;34m,\u001B[0m \u001B[0mopen_df\u001B[0m\u001B[0;34m,\u001B[0m \u001B[0;36m10\u001B[0m\u001B[0;34m,\u001B[0m \u001B[0;36m4\u001B[0m\u001B[0;34m,\u001B[0m \u001B[0mkey\u001B[0m\u001B[0;34m)\u001B[0m\u001B[0;34m\u001B[0m\u001B[0;34m\u001B[0m\u001B[0m\n\u001B[0m\u001B[1;32m     10\u001B[0m     \u001B[0;32mif\u001B[0m \u001B[0mabs\u001B[0m\u001B[0;34m(\u001B[0m\u001B[0mgroup_corr_dict\u001B[0m\u001B[0;34m[\u001B[0m\u001B[0mkey\u001B[0m\u001B[0;34m]\u001B[0m\u001B[0;34m)\u001B[0m \u001B[0;34m>\u001B[0m \u001B[0;36m0.6\u001B[0m\u001B[0;34m:\u001B[0m\u001B[0;34m\u001B[0m\u001B[0;34m\u001B[0m\u001B[0m\n\u001B[1;32m     11\u001B[0m         \u001B[0mgroup_factors_list\u001B[0m\u001B[0;34m.\u001B[0m\u001B[0mappend\u001B[0m\u001B[0;34m(\u001B[0m\u001B[0mkey\u001B[0m\u001B[0;34m)\u001B[0m\u001B[0;34m\u001B[0m\u001B[0;34m\u001B[0m\u001B[0m\n\u001B[1;32m     12\u001B[0m \u001B[0;34m\u001B[0m\u001B[0m\n",
      "\u001B[0;32m~/SourceCode/freqtrade/user_data/notebooks/factor_analysis_helper.py\u001B[0m in \u001B[0;36m?\u001B[0;34m(factor_df, open_df, group_count, change_position_period, factor_name)\u001B[0m\n\u001B[1;32m     47\u001B[0m         \u001B[0msingle\u001B[0m \u001B[0;34m=\u001B[0m \u001B[0mgroup_df\u001B[0m\u001B[0;34m[\u001B[0m\u001B[0mgroup_df\u001B[0m\u001B[0;34m[\u001B[0m\u001B[0;34m'date'\u001B[0m\u001B[0;34m]\u001B[0m \u001B[0;34m==\u001B[0m \u001B[0mdatetime_period\u001B[0m\u001B[0;34m[\u001B[0m\u001B[0mi\u001B[0m\u001B[0;34m]\u001B[0m\u001B[0;34m]\u001B[0m\u001B[0;34m.\u001B[0m\u001B[0msort_values\u001B[0m\u001B[0;34m(\u001B[0m\u001B[0mby\u001B[0m\u001B[0;34m=\u001B[0m\u001B[0;34m'factor'\u001B[0m\u001B[0;34m)\u001B[0m\u001B[0;34m\u001B[0m\u001B[0;34m\u001B[0m\u001B[0m\n\u001B[1;32m     48\u001B[0m         \u001B[0msingle\u001B[0m\u001B[0;34m.\u001B[0m\u001B[0mloc\u001B[0m\u001B[0;34m[\u001B[0m\u001B[0;34m:\u001B[0m\u001B[0;34m,\u001B[0m \u001B[0;34m'group'\u001B[0m\u001B[0;34m]\u001B[0m \u001B[0;34m=\u001B[0m \u001B[0mpd\u001B[0m\u001B[0;34m.\u001B[0m\u001B[0mqcut\u001B[0m\u001B[0;34m(\u001B[0m\u001B[0msingle\u001B[0m\u001B[0;34m.\u001B[0m\u001B[0mfactor\u001B[0m\u001B[0;34m,\u001B[0m \u001B[0mgroup_count\u001B[0m\u001B[0;34m,\u001B[0m \u001B[0mlist\u001B[0m\u001B[0;34m(\u001B[0m\u001B[0mrange\u001B[0m\u001B[0;34m(\u001B[0m\u001B[0;36m1\u001B[0m\u001B[0;34m,\u001B[0m \u001B[0mgroup_count\u001B[0m \u001B[0;34m+\u001B[0m \u001B[0;36m1\u001B[0m\u001B[0;34m)\u001B[0m\u001B[0;34m)\u001B[0m\u001B[0;34m)\u001B[0m\u001B[0;34m.\u001B[0m\u001B[0mto_list\u001B[0m\u001B[0;34m(\u001B[0m\u001B[0;34m)\u001B[0m\u001B[0;34m\u001B[0m\u001B[0;34m\u001B[0m\u001B[0m\n\u001B[1;32m     49\u001B[0m         \u001B[0mgroup_dict\u001B[0m \u001B[0;34m=\u001B[0m \u001B[0;34m{\u001B[0m\u001B[0;34m}\u001B[0m\u001B[0;34m\u001B[0m\u001B[0;34m\u001B[0m\u001B[0m\n\u001B[1;32m     50\u001B[0m         \u001B[0;32mfor\u001B[0m \u001B[0mj\u001B[0m \u001B[0;32min\u001B[0m \u001B[0mrange\u001B[0m\u001B[0;34m(\u001B[0m\u001B[0;36m1\u001B[0m\u001B[0;34m,\u001B[0m \u001B[0mgroup_count\u001B[0m \u001B[0;34m+\u001B[0m \u001B[0;36m1\u001B[0m\u001B[0;34m)\u001B[0m\u001B[0;34m:\u001B[0m\u001B[0;34m\u001B[0m\u001B[0;34m\u001B[0m\u001B[0m\n\u001B[0;32m---> 51\u001B[0;31m             \u001B[0mgroup_dict\u001B[0m\u001B[0;34m[\u001B[0m\u001B[0mj\u001B[0m\u001B[0;34m]\u001B[0m \u001B[0;34m=\u001B[0m \u001B[0msingle\u001B[0m\u001B[0;34m[\u001B[0m\u001B[0msingle\u001B[0m\u001B[0;34m.\u001B[0m\u001B[0mgroup\u001B[0m \u001B[0;34m==\u001B[0m \u001B[0mj\u001B[0m\u001B[0;34m]\u001B[0m\u001B[0;34m.\u001B[0m\u001B[0mpair\u001B[0m\u001B[0;34m.\u001B[0m\u001B[0mto_list\u001B[0m\u001B[0;34m(\u001B[0m\u001B[0;34m)\u001B[0m\u001B[0;34m\u001B[0m\u001B[0;34m\u001B[0m\u001B[0m\n\u001B[0m\u001B[1;32m     52\u001B[0m \u001B[0;34m\u001B[0m\u001B[0m\n\u001B[1;32m     53\u001B[0m         \u001B[0mturnover_ratio_temp\u001B[0m \u001B[0;34m=\u001B[0m \u001B[0;34m[\u001B[0m\u001B[0;34m]\u001B[0m\u001B[0;34m\u001B[0m\u001B[0;34m\u001B[0m\u001B[0m\n\u001B[1;32m     54\u001B[0m         \u001B[0;32mif\u001B[0m \u001B[0mi\u001B[0m \u001B[0;34m==\u001B[0m \u001B[0;36m0\u001B[0m\u001B[0;34m:\u001B[0m\u001B[0;34m\u001B[0m\u001B[0;34m\u001B[0m\u001B[0m\n",
      "\u001B[0;32m~/anaconda3/lib/python3.11/site-packages/pandas/core/frame.py\u001B[0m in \u001B[0;36m?\u001B[0;34m(self, key)\u001B[0m\n\u001B[1;32m   4077\u001B[0m             \u001B[0;32mreturn\u001B[0m \u001B[0mself\u001B[0m\u001B[0;34m.\u001B[0m\u001B[0mwhere\u001B[0m\u001B[0;34m(\u001B[0m\u001B[0mkey\u001B[0m\u001B[0;34m)\u001B[0m\u001B[0;34m\u001B[0m\u001B[0;34m\u001B[0m\u001B[0m\n\u001B[1;32m   4078\u001B[0m \u001B[0;34m\u001B[0m\u001B[0m\n\u001B[1;32m   4079\u001B[0m         \u001B[0;31m# Do we have a (boolean) 1d indexer?\u001B[0m\u001B[0;34m\u001B[0m\u001B[0;34m\u001B[0m\u001B[0m\n\u001B[1;32m   4080\u001B[0m         \u001B[0;32mif\u001B[0m \u001B[0mcom\u001B[0m\u001B[0;34m.\u001B[0m\u001B[0mis_bool_indexer\u001B[0m\u001B[0;34m(\u001B[0m\u001B[0mkey\u001B[0m\u001B[0;34m)\u001B[0m\u001B[0;34m:\u001B[0m\u001B[0;34m\u001B[0m\u001B[0;34m\u001B[0m\u001B[0m\n\u001B[0;32m-> 4081\u001B[0;31m             \u001B[0;32mreturn\u001B[0m \u001B[0mself\u001B[0m\u001B[0;34m.\u001B[0m\u001B[0m_getitem_bool_array\u001B[0m\u001B[0;34m(\u001B[0m\u001B[0mkey\u001B[0m\u001B[0;34m)\u001B[0m\u001B[0;34m\u001B[0m\u001B[0;34m\u001B[0m\u001B[0m\n\u001B[0m\u001B[1;32m   4082\u001B[0m \u001B[0;34m\u001B[0m\u001B[0m\n\u001B[1;32m   4083\u001B[0m         \u001B[0;31m# We are left with two options: a single key, and a collection of keys,\u001B[0m\u001B[0;34m\u001B[0m\u001B[0;34m\u001B[0m\u001B[0m\n\u001B[1;32m   4084\u001B[0m         \u001B[0;31m# We interpret tuples as collections only for non-MultiIndex\u001B[0m\u001B[0;34m\u001B[0m\u001B[0;34m\u001B[0m\u001B[0m\n",
      "\u001B[0;32m~/anaconda3/lib/python3.11/site-packages/pandas/core/frame.py\u001B[0m in \u001B[0;36m?\u001B[0;34m(self, key)\u001B[0m\n\u001B[1;32m   4139\u001B[0m         \u001B[0;32mif\u001B[0m \u001B[0mkey\u001B[0m\u001B[0;34m.\u001B[0m\u001B[0mall\u001B[0m\u001B[0;34m(\u001B[0m\u001B[0;34m)\u001B[0m\u001B[0;34m:\u001B[0m\u001B[0;34m\u001B[0m\u001B[0;34m\u001B[0m\u001B[0m\n\u001B[1;32m   4140\u001B[0m             \u001B[0;32mreturn\u001B[0m \u001B[0mself\u001B[0m\u001B[0;34m.\u001B[0m\u001B[0mcopy\u001B[0m\u001B[0;34m(\u001B[0m\u001B[0mdeep\u001B[0m\u001B[0;34m=\u001B[0m\u001B[0;32mNone\u001B[0m\u001B[0;34m)\u001B[0m\u001B[0;34m\u001B[0m\u001B[0;34m\u001B[0m\u001B[0m\n\u001B[1;32m   4141\u001B[0m \u001B[0;34m\u001B[0m\u001B[0m\n\u001B[1;32m   4142\u001B[0m         \u001B[0mindexer\u001B[0m \u001B[0;34m=\u001B[0m \u001B[0mkey\u001B[0m\u001B[0;34m.\u001B[0m\u001B[0mnonzero\u001B[0m\u001B[0;34m(\u001B[0m\u001B[0;34m)\u001B[0m\u001B[0;34m[\u001B[0m\u001B[0;36m0\u001B[0m\u001B[0;34m]\u001B[0m\u001B[0;34m\u001B[0m\u001B[0;34m\u001B[0m\u001B[0m\n\u001B[0;32m-> 4143\u001B[0;31m         \u001B[0;32mreturn\u001B[0m \u001B[0mself\u001B[0m\u001B[0;34m.\u001B[0m\u001B[0m_take_with_is_copy\u001B[0m\u001B[0;34m(\u001B[0m\u001B[0mindexer\u001B[0m\u001B[0;34m,\u001B[0m \u001B[0maxis\u001B[0m\u001B[0;34m=\u001B[0m\u001B[0;36m0\u001B[0m\u001B[0;34m)\u001B[0m\u001B[0;34m\u001B[0m\u001B[0;34m\u001B[0m\u001B[0m\n\u001B[0m",
      "\u001B[0;32m~/anaconda3/lib/python3.11/site-packages/pandas/core/generic.py\u001B[0m in \u001B[0;36m?\u001B[0;34m(self, indices, axis)\u001B[0m\n\u001B[1;32m   4149\u001B[0m         \"\"\"\n\u001B[1;32m   4150\u001B[0m         \u001B[0mresult\u001B[0m \u001B[0;34m=\u001B[0m \u001B[0mself\u001B[0m\u001B[0;34m.\u001B[0m\u001B[0mtake\u001B[0m\u001B[0;34m(\u001B[0m\u001B[0mindices\u001B[0m\u001B[0;34m=\u001B[0m\u001B[0mindices\u001B[0m\u001B[0;34m,\u001B[0m \u001B[0maxis\u001B[0m\u001B[0;34m=\u001B[0m\u001B[0maxis\u001B[0m\u001B[0;34m)\u001B[0m\u001B[0;34m\u001B[0m\u001B[0;34m\u001B[0m\u001B[0m\n\u001B[1;32m   4151\u001B[0m         \u001B[0;31m# Maybe set copy if we didn't actually change the index.\u001B[0m\u001B[0;34m\u001B[0m\u001B[0;34m\u001B[0m\u001B[0m\n\u001B[1;32m   4152\u001B[0m         \u001B[0;32mif\u001B[0m \u001B[0mself\u001B[0m\u001B[0;34m.\u001B[0m\u001B[0mndim\u001B[0m \u001B[0;34m==\u001B[0m \u001B[0;36m2\u001B[0m \u001B[0;32mand\u001B[0m \u001B[0;32mnot\u001B[0m \u001B[0mresult\u001B[0m\u001B[0;34m.\u001B[0m\u001B[0m_get_axis\u001B[0m\u001B[0;34m(\u001B[0m\u001B[0maxis\u001B[0m\u001B[0;34m)\u001B[0m\u001B[0;34m.\u001B[0m\u001B[0mequals\u001B[0m\u001B[0;34m(\u001B[0m\u001B[0mself\u001B[0m\u001B[0;34m.\u001B[0m\u001B[0m_get_axis\u001B[0m\u001B[0;34m(\u001B[0m\u001B[0maxis\u001B[0m\u001B[0;34m)\u001B[0m\u001B[0;34m)\u001B[0m\u001B[0;34m:\u001B[0m\u001B[0;34m\u001B[0m\u001B[0;34m\u001B[0m\u001B[0m\n\u001B[0;32m-> 4153\u001B[0;31m             \u001B[0mresult\u001B[0m\u001B[0;34m.\u001B[0m\u001B[0m_set_is_copy\u001B[0m\u001B[0;34m(\u001B[0m\u001B[0mself\u001B[0m\u001B[0;34m)\u001B[0m\u001B[0;34m\u001B[0m\u001B[0;34m\u001B[0m\u001B[0m\n\u001B[0m\u001B[1;32m   4154\u001B[0m         \u001B[0;32mreturn\u001B[0m \u001B[0mresult\u001B[0m\u001B[0;34m\u001B[0m\u001B[0;34m\u001B[0m\u001B[0m\n",
      "\u001B[0;32m~/anaconda3/lib/python3.11/site-packages/pandas/core/generic.py\u001B[0m in \u001B[0;36m?\u001B[0;34m(self, ref, copy)\u001B[0m\n\u001B[1;32m   4378\u001B[0m         \u001B[0;32mif\u001B[0m \u001B[0;32mnot\u001B[0m \u001B[0mcopy\u001B[0m\u001B[0;34m:\u001B[0m\u001B[0;34m\u001B[0m\u001B[0;34m\u001B[0m\u001B[0m\n\u001B[1;32m   4379\u001B[0m             \u001B[0mself\u001B[0m\u001B[0;34m.\u001B[0m\u001B[0m_is_copy\u001B[0m \u001B[0;34m=\u001B[0m \u001B[0;32mNone\u001B[0m\u001B[0;34m\u001B[0m\u001B[0;34m\u001B[0m\u001B[0m\n\u001B[1;32m   4380\u001B[0m         \u001B[0;32melse\u001B[0m\u001B[0;34m:\u001B[0m\u001B[0;34m\u001B[0m\u001B[0;34m\u001B[0m\u001B[0m\n\u001B[1;32m   4381\u001B[0m             \u001B[0;32massert\u001B[0m \u001B[0mref\u001B[0m \u001B[0;32mis\u001B[0m \u001B[0;32mnot\u001B[0m \u001B[0;32mNone\u001B[0m\u001B[0;34m\u001B[0m\u001B[0;34m\u001B[0m\u001B[0m\n\u001B[0;32m-> 4382\u001B[0;31m             \u001B[0mself\u001B[0m\u001B[0;34m.\u001B[0m\u001B[0m_is_copy\u001B[0m \u001B[0;34m=\u001B[0m \u001B[0mweakref\u001B[0m\u001B[0;34m.\u001B[0m\u001B[0mref\u001B[0m\u001B[0;34m(\u001B[0m\u001B[0mref\u001B[0m\u001B[0;34m)\u001B[0m\u001B[0;34m\u001B[0m\u001B[0;34m\u001B[0m\u001B[0m\n\u001B[0m",
      "\u001B[0;32m~/anaconda3/lib/python3.11/site-packages/pandas/core/generic.py\u001B[0m in \u001B[0;36m?\u001B[0;34m(self, name, value)\u001B[0m\n\u001B[1;32m   6307\u001B[0m \u001B[0;34m\u001B[0m\u001B[0m\n\u001B[1;32m   6308\u001B[0m         \u001B[0;32mtry\u001B[0m\u001B[0;34m:\u001B[0m\u001B[0;34m\u001B[0m\u001B[0;34m\u001B[0m\u001B[0m\n\u001B[1;32m   6309\u001B[0m             \u001B[0mobject\u001B[0m\u001B[0;34m.\u001B[0m\u001B[0m__getattribute__\u001B[0m\u001B[0;34m(\u001B[0m\u001B[0mself\u001B[0m\u001B[0;34m,\u001B[0m \u001B[0mname\u001B[0m\u001B[0;34m)\u001B[0m\u001B[0;34m\u001B[0m\u001B[0;34m\u001B[0m\u001B[0m\n\u001B[1;32m   6310\u001B[0m             \u001B[0;32mreturn\u001B[0m \u001B[0mobject\u001B[0m\u001B[0;34m.\u001B[0m\u001B[0m__setattr__\u001B[0m\u001B[0;34m(\u001B[0m\u001B[0mself\u001B[0m\u001B[0;34m,\u001B[0m \u001B[0mname\u001B[0m\u001B[0;34m,\u001B[0m \u001B[0mvalue\u001B[0m\u001B[0;34m)\u001B[0m\u001B[0;34m\u001B[0m\u001B[0;34m\u001B[0m\u001B[0m\n\u001B[0;32m-> 6311\u001B[0;31m         \u001B[0;32mexcept\u001B[0m \u001B[0mAttributeError\u001B[0m\u001B[0;34m:\u001B[0m\u001B[0;34m\u001B[0m\u001B[0;34m\u001B[0m\u001B[0m\n\u001B[0m\u001B[1;32m   6312\u001B[0m             \u001B[0;32mpass\u001B[0m\u001B[0;34m\u001B[0m\u001B[0;34m\u001B[0m\u001B[0m\n\u001B[1;32m   6313\u001B[0m \u001B[0;34m\u001B[0m\u001B[0m\n\u001B[1;32m   6314\u001B[0m         \u001B[0;31m# if this fails, go on to more involved attribute setting\u001B[0m\u001B[0;34m\u001B[0m\u001B[0;34m\u001B[0m\u001B[0m\n",
      "\u001B[0;31mKeyboardInterrupt\u001B[0m: "
     ]
    }
   ],
   "source": [
    "from user_data.notebooks.factor_analysis_helper import Factor_Group_Analysis\n",
    "\n",
    "# Group Analysis\n",
    "group_weekly_ret_dict = {}\n",
    "group_corr_dict = {}\n",
    "group_factors_list = []\n",
    "\n",
    "for key in standardized_factors_df_dict.keys():\n",
    "    group_weekly_ret_dict[key], group_corr_dict[key] = Factor_Group_Analysis(standardized_factors_df_dict[key], open_df, 10, 4, key)\n",
    "    if abs(group_corr_dict[key]) > 0.6:\n",
    "        group_factors_list.append(key)\n",
    "    \n",
    "group_factors_list"
   ],
   "metadata": {
    "collapsed": false,
    "ExecuteTime": {
     "end_time": "2024-11-12T09:50:23.572983Z",
     "start_time": "2024-11-12T09:50:20.009599Z"
    }
   },
   "id": "a7dd4faaecd9c171",
   "execution_count": 140
  },
  {
   "cell_type": "code",
   "outputs": [
    {
     "data": {
      "text/plain": "DOGE/USDT:USDT   -23.178075\nBTC/USDT:USDT    -14.185172\nSXP/USDT:USDT    -13.416782\nT/USDT:USDT       -8.096818\nAPT/USDT:USDT     -7.739613\n                    ...    \nEOS/USDT:USDT      8.335610\nYFI/USDT:USDT     12.312158\nXMR/USDT:USDT     17.702599\nZEC/USDT:USDT     19.016981\nKLAY/USDT:USDT          NaN\nName: 2024-11-12 06:00:00+00:00, Length: 101, dtype: float64"
     },
     "execution_count": 159,
     "metadata": {},
     "output_type": "execute_result"
    }
   ],
   "source": [
    "# Try Combine\n",
    "combine_factor_df = pd.DataFrame()\n",
    "\n",
    "for key in icir_factors_list:\n",
    "    ic = factors_icir_report_dict[key]['IC mean']\n",
    "    if combine_factor_df.shape[0] == 0:\n",
    "        combine_factor_df = standardized_factors_df_dict[key] * (-1 if ic < 0 else 1)\n",
    "    else:\n",
    "        combine_factor_df = combine_factor_df + (standardized_factors_df_dict[key] * (-1 if ic < 0 else 1))\n",
    "\n",
    "combine_factor_df.iloc[-1].sort_values()"
   ],
   "metadata": {
    "collapsed": false,
    "ExecuteTime": {
     "end_time": "2024-11-12T14:44:52.230190Z",
     "start_time": "2024-11-12T14:44:52.171087Z"
    }
   },
   "id": "85f6811eaf9a3f41",
   "execution_count": 159
  },
  {
   "cell_type": "code",
   "outputs": [
    {
     "name": "stderr",
     "output_type": "stream",
     "text": [
      "/Users/liuqiaowei/SourceCode/freqtrade/user_data/notebooks/factor_analysis_helper.py:20: FutureWarning: The default fill_method='pad' in DataFrame.pct_change is deprecated and will be removed in a future version. Either fill in any non-leading NA values prior to calling pct_change or specify 'fill_method=None' to not fill NA values.\n",
      "  return_n = open_df.pct_change(n).shift(-n - 1)\n"
     ]
    },
    {
     "data": {
      "text/plain": "{'name': 'combo',\n 'time frame': '1h',\n 'IC mean': 0.0453,\n 'IC std': 0.1511,\n 'IR': 0.2997,\n 'IC>0': 0.6184,\n 'ABS_IC>2%': 0.9046}"
     },
     "execution_count": 162,
     "metadata": {},
     "output_type": "execute_result"
    }
   ],
   "source": [
    "ic_result, report = Quick_Factor_Return_N_IC(combine_factor_df, open_df, 4, 'combo', '1h')\n",
    "\n",
    "report"
   ],
   "metadata": {
    "collapsed": false,
    "ExecuteTime": {
     "end_time": "2024-11-13T04:15:52.884666Z",
     "start_time": "2024-11-13T04:15:51.553446Z"
    }
   },
   "id": "2aff33d1d62b2f14",
   "execution_count": 162
  },
  {
   "cell_type": "code",
   "outputs": [
    {
     "data": {
      "text/plain": "<Axes: title={'center': 'CUM_IC'}, xlabel='date'>"
     },
     "execution_count": 163,
     "metadata": {},
     "output_type": "execute_result"
    },
    {
     "data": {
      "text/plain": "<Figure size 640x480 with 1 Axes>",
      "image/png": "[encoded data removed]"
     },
     "metadata": {},
     "output_type": "display_data"
    }
   ],
   "source": [
    "ic_result.cumsum().plot(title = 'CUM_IC')"
   ],
   "metadata": {
    "collapsed": false,
    "ExecuteTime": {
     "end_time": "2024-11-13T04:16:17.539729Z",
     "start_time": "2024-11-13T04:16:16.130191Z"
    }
   },
   "id": "b6c72318cdc264b8",
   "execution_count": 163
  },
  {
   "cell_type": "code",
   "outputs": [
    {
     "data": {
      "text/plain": "<Axes: title={'center': 'IC_WEEKLY'}, xlabel='date'>"
     },
     "execution_count": 165,
     "metadata": {},
     "output_type": "execute_result"
    },
    {
     "data": {
      "text/plain": "<Figure size 1800x400 with 1 Axes>",
      "image/png": "[encoded data removed]"
     },
     "metadata": {},
     "output_type": "display_data"
    }
   ],
   "source": [
    "ic_day = ic_result.resample('W').mean()\n",
    "ic_day.index = ic_day.index.strftime(\"%F\")\n",
    "ic_day.plot(kind = 'bar',figsize=(18,4),title = 'IC_WEEKLY')"
   ],
   "metadata": {
    "collapsed": false,
    "ExecuteTime": {
     "end_time": "2024-11-13T04:45:33.414666Z",
     "start_time": "2024-11-13T04:45:33.263796Z"
    }
   },
   "id": "a0e05c8044e546",
   "execution_count": 165
  },
  {
   "cell_type": "code",
   "outputs": [
    {
     "name": "stderr",
     "output_type": "stream",
     "text": [
      "/Users/liuqiaowei/SourceCode/freqtrade/user_data/notebooks/factor_analysis_helper.py:36: FutureWarning: The default fill_method='pad' in DataFrame.pct_change is deprecated and will be removed in a future version. Either fill in any non-leading NA values prior to calling pct_change or specify 'fill_method=None' to not fill NA values.\n",
      "  return_df = open_df.pct_change().shift(-2).dropna(how='all', axis=0).stack()\n"
     ]
    },
    {
     "name": "stdout",
     "output_type": "stream",
     "text": [
      " 当前：5644 / 总量：5647"
     ]
    },
    {
     "data": {
      "text/plain": "(     weekly_ret  group\n G1    -0.004064      1\n G2    -0.003424      2\n G3     0.004174      3\n G4    -0.008025      4\n G5    -0.004568      5\n G6    -0.003455      6\n G7     0.000109      7\n G8     0.007985      8\n G9     0.003901      9\n G10    0.004430     10,\n 0.5758)"
     },
     "execution_count": 161,
     "metadata": {},
     "output_type": "execute_result"
    }
   ],
   "source": [
    "Factor_Group_Analysis(combine_factor_df, open_df, 10, 4, '')"
   ],
   "metadata": {
    "collapsed": false,
    "ExecuteTime": {
     "end_time": "2024-11-12T14:46:06.993265Z",
     "start_time": "2024-11-12T14:45:49.930408Z"
    }
   },
   "id": "9bf57b8dfb6fa250",
   "execution_count": 161
  },
  {
   "cell_type": "code",
   "outputs": [],
   "source": [
    "# Latest week combine factors check\n",
    "combine_factor_latest_week_df = combine_factor_df.iloc[-168:]"
   ],
   "metadata": {
    "collapsed": false,
    "ExecuteTime": {
     "end_time": "2024-11-13T06:47:49.046545Z",
     "start_time": "2024-11-13T06:47:49.037483Z"
    }
   },
   "id": "58c25bf28a6927a5",
   "execution_count": 166
  },
  {
   "cell_type": "code",
   "outputs": [
    {
     "name": "stderr",
     "output_type": "stream",
     "text": [
      "/Users/liuqiaowei/SourceCode/freqtrade/user_data/notebooks/factor_analysis_helper.py:20: FutureWarning: The default fill_method='pad' in DataFrame.pct_change is deprecated and will be removed in a future version. Either fill in any non-leading NA values prior to calling pct_change or specify 'fill_method=None' to not fill NA values.\n",
      "  return_n = open_df.pct_change(n).shift(-n - 1)\n"
     ]
    },
    {
     "data": {
      "text/plain": "(date\n 2024-11-05 07:00:00+00:00   -0.033185\n 2024-11-05 08:00:00+00:00    0.028827\n 2024-11-05 09:00:00+00:00    0.019274\n 2024-11-05 10:00:00+00:00    0.087285\n 2024-11-05 11:00:00+00:00   -0.042844\n                                ...   \n 2024-11-11 21:00:00+00:00   -0.084932\n 2024-11-11 22:00:00+00:00   -0.004440\n 2024-11-11 23:00:00+00:00   -0.056874\n 2024-11-12 00:00:00+00:00   -0.088281\n 2024-11-12 01:00:00+00:00   -0.082040\n Length: 163, dtype: float64,\n {'name': 'combo',\n  'time frame': '1h',\n  'IC mean': 0.0218,\n  'IC std': 0.1628,\n  'IR': 0.1339,\n  'IC>0': 0.5276,\n  'ABS_IC>2%': 0.9202})"
     },
     "execution_count": 167,
     "metadata": {},
     "output_type": "execute_result"
    }
   ],
   "source": [
    "Quick_Factor_Return_N_IC(combine_factor_latest_week_df, open_df, 4, 'combo', '1h')"
   ],
   "metadata": {
    "collapsed": false,
    "ExecuteTime": {
     "end_time": "2024-11-13T06:47:49.700135Z",
     "start_time": "2024-11-13T06:47:49.569490Z"
    }
   },
   "id": "ad3d4696392473fc",
   "execution_count": 167
  },
  {
   "cell_type": "code",
   "outputs": [
    {
     "name": "stderr",
     "output_type": "stream",
     "text": [
      "/Users/liuqiaowei/SourceCode/freqtrade/user_data/notebooks/factor_analysis_helper.py:36: FutureWarning: The default fill_method='pad' in DataFrame.pct_change is deprecated and will be removed in a future version. Either fill in any non-leading NA values prior to calling pct_change or specify 'fill_method=None' to not fill NA values.\n",
      "  return_df = open_df.pct_change().shift(-2).dropna(how='all', axis=0).stack()\n"
     ]
    },
    {
     "name": "stdout",
     "output_type": "stream",
     "text": [
      " 当前：164 / 总量：168"
     ]
    },
    {
     "data": {
      "text/plain": "(     weekly_ret  group\n G1    -0.028748      1\n G2     0.018223      2\n G3     0.111576      3\n G4     0.006810      4\n G5     0.020495      5\n G6     0.034446      6\n G7    -0.023823      7\n G8    -0.055122      8\n G9    -0.014879      9\n G10   -0.069054     10,\n -0.4667)"
     },
     "execution_count": 169,
     "metadata": {},
     "output_type": "execute_result"
    }
   ],
   "source": [
    "Factor_Group_Analysis(combine_factor_latest_week_df, open_df, 10, 4, '')"
   ],
   "metadata": {
    "collapsed": false,
    "ExecuteTime": {
     "end_time": "2024-11-13T06:48:03.869792Z",
     "start_time": "2024-11-13T06:48:03.378094Z"
    }
   },
   "id": "e3792542303a73aa",
   "execution_count": 169
  },
  {
   "cell_type": "code",
   "outputs": [],
   "source": [],
   "metadata": {
    "collapsed": false,
    "ExecuteTime": {
     "end_time": "2024-11-12T07:48:39.647109Z",
     "start_time": "2024-11-12T07:48:39.646739Z"
    }
   },
   "id": "c65f0a38f28b52a4"
  }
 ],
 "metadata": {
  "kernelspec": {
   "display_name": "Python 3",
   "language": "python",
   "name": "python3"
  },
  "language_info": {
   "codemirror_mode": {
    "name": "ipython",
    "version": 2
   },
   "file_extension": ".py",
   "mimetype": "text/x-python",
   "name": "python",
   "nbconvert_exporter": "python",
   "pygments_lexer": "ipython2",
   "version": "2.7.6"
  }
 },
 "nbformat": 4,
 "nbformat_minor": 5
}
