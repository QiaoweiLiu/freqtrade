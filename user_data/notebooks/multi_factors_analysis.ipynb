{
 "cells": [
  {
   "cell_type": "code",
   "execution_count": 52,
   "id": "initial_id",
   "metadata": {
    "collapsed": true,
    "ExecuteTime": {
     "end_time": "2024-11-24T04:06:10.496874Z",
     "start_time": "2024-11-24T04:06:10.488864Z"
    }
   },
   "outputs": [
    {
     "name": "stdout",
     "output_type": "stream",
     "text": [
      "/Users/liuqiaowei/SourceCode/freqtrade\n"
     ]
    }
   ],
   "source": [
    "import os\n",
    "from pathlib import Path\n",
    "\n",
    "# Change directory\n",
    "# Modify this cell to insure that the output shows the correct path.\n",
    "# Define all paths relative to the project root shown in the cell output\n",
    "project_root = \"/Users/liuqiaowei/SourceCode/freqtrade/user_data/notebooks\"\n",
    "i = 0\n",
    "try:\n",
    "    os.chdir(project_root)\n",
    "    if not Path(\"LICENSE\").is_file():\n",
    "        i = 0\n",
    "        while i < 4 and (not Path(\"LICENSE\").is_file()):\n",
    "            os.chdir(Path(Path.cwd(), \"../\"))\n",
    "            i += 1\n",
    "        project_root = Path.cwd()\n",
    "except FileNotFoundError:\n",
    "    print(\"Please define the project root relative to the current directory\")\n",
    "print(Path.cwd())"
   ]
  },
  {
   "cell_type": "code",
   "outputs": [],
   "source": [
    "from freqtrade.configuration import Configuration\n",
    "\n",
    "\n",
    "# Customize these according to your needs.\n",
    "\n",
    "# Initialize empty configuration object\n",
    "config = Configuration.from_files([\"./user_data/config.json\"])\n",
    "# Optionally (recommended), use existing configuration file\n",
    "# config = Configuration.from_files([\"user_data/config.json\"])\n",
    "\n",
    "# Location of the data\n",
    "data_location = config[\"datadir\"]\n",
    "config['timeframe'] = '1h'\n",
    "# Pair to analyze - Only use one pair here\n",
    "# config['exchange']['pair_whitelist']"
   ],
   "metadata": {
    "collapsed": false,
    "ExecuteTime": {
     "end_time": "2024-11-24T04:06:10.600138Z",
     "start_time": "2024-11-24T04:06:10.511287Z"
    }
   },
   "id": "2198497fef36e3bc",
   "execution_count": 53
  },
  {
   "cell_type": "code",
   "outputs": [],
   "source": [
    "from freqtrade.data.history import load_pair_history\n",
    "from freqtrade.enums import CandleType\n",
    "\n",
    "candles_dict = {}\n",
    "for pair in config['exchange']['pair_whitelist']:\n",
    "    candles = load_pair_history(\n",
    "        datadir=data_location,\n",
    "        timeframe=config[\"timeframe\"],\n",
    "        pair=pair,\n",
    "        data_format=\"feather\",  # Make sure to update this to your data\n",
    "        candle_type=CandleType.FUTURES,\n",
    "    )\n",
    "    # candles['sym'] = pair\n",
    "    # candles.set_index('date', inplace=True)\n",
    "    # candles.set_index('sym', append=True, inplace=True)\n",
    "    # candles['return'] = candles['close'].pct_change().shift(-2)\n",
    "    \n",
    "    # Keep Latest week for testing\n",
    "    # candles_dict[pair] = candles.iloc[-268:]\n",
    "    candles_dict[pair] = candles[-24*30:]"
   ],
   "metadata": {
    "collapsed": false,
    "ExecuteTime": {
     "end_time": "2024-11-24T04:06:12.064624Z",
     "start_time": "2024-11-24T04:06:10.615018Z"
    }
   },
   "id": "eb3bce5469fe7024",
   "execution_count": 54
  },
  {
   "cell_type": "code",
   "outputs": [
    {
     "data": {
      "text/plain": "3"
     },
     "execution_count": 69,
     "metadata": {},
     "output_type": "execute_result"
    }
   ],
   "source": [
    "list = [1, 2, 3]\n",
    "len(set(list))"
   ],
   "metadata": {
    "collapsed": false,
    "ExecuteTime": {
     "end_time": "2024-11-24T04:19:40.682074Z",
     "start_time": "2024-11-24T04:19:40.665460Z"
    }
   },
   "id": "284c1690956b46ad",
   "execution_count": 69
  },
  {
   "cell_type": "code",
   "outputs": [],
   "source": [
    "import pandas as pd\n",
    "import talib.abstract as ta\n",
    "\n",
    "def factor_open(dataframe: pd.DataFrame, pair_name: str) -> pd.DataFrame:\n",
    "    dataframe[pair_name] = dataframe['open']\n",
    "    return dataframe\n",
    "\n",
    "def factor_rocr(dataframe: pd.DataFrame, pair_name: str) -> pd.DataFrame:\n",
    "    dataframe[pair_name] = ta.ROCR(dataframe, timeperiod=52)\n",
    "    return dataframe\n",
    "\n",
    "def factor_rocr100(dataframe: pd.DataFrame, pair_name: str) -> pd.DataFrame:\n",
    "    dataframe[pair_name] = ta.ROCR100(dataframe, timeperiod=7)\n",
    "    return dataframe\n",
    "\n",
    "def factor_roc(dataframe: pd.DataFrame, pair_name: str) -> pd.DataFrame:\n",
    "    dataframe[pair_name] = ta.ROC(dataframe, timeperiod=28)\n",
    "    return dataframe\n",
    "\n",
    "def factor_trix(dataframe: pd.DataFrame, pair_name: str) -> pd.DataFrame:\n",
    "    dataframe[pair_name] = ta.TRIX(dataframe, timeperiod=17)\n",
    "    return dataframe\n",
    "\n",
    "def factor_trix1(dataframe: pd.DataFrame, pair_name: str) -> pd.DataFrame:\n",
    "    dataframe[pair_name] = ta.TRIX(dataframe, timeperiod=13)\n",
    "    return dataframe\n",
    "\n",
    "def factor_cci(dataframe: pd.DataFrame, pair_name: str) -> pd.DataFrame:\n",
    "    dataframe[pair_name] = ta.CCI(dataframe, timeperiod=20)\n",
    "    return dataframe\n",
    "\n",
    "def factor_rsi(dataframe: pd.DataFrame, pair_name: str) -> pd.DataFrame:\n",
    "    dataframe[pair_name] = ta.RSI(dataframe, timeperiod=49)\n",
    "    return dataframe\n",
    "\n",
    "def factor_adx(dataframe: pd.DataFrame, pair_name: str) -> pd.DataFrame:\n",
    "    dataframe[pair_name] = ta.ADX(dataframe, timeperiod=34)\n",
    "    return dataframe\n",
    "\n",
    "def factor_dx(dataframe: pd.DataFrame, pair_name: str) -> pd.DataFrame:\n",
    "    dataframe[pair_name] = ta.DX(dataframe, timeperiod=8)\n",
    "    return dataframe\n",
    "\n",
    "def factor_adxr(dataframe: pd.DataFrame, pair_name: str) -> pd.DataFrame:\n",
    "    dataframe[pair_name] = ta.ADXR(dataframe, timeperiod=34)\n",
    "    return dataframe\n",
    "\n",
    "def factor_ppo(dataframe: pd.DataFrame, pair_name: str) -> pd.DataFrame:\n",
    "    dataframe[pair_name] = ta.PPO(dataframe, fastperiod=17, slowperiod=24)\n",
    "    return dataframe\n",
    "\n",
    "def factor_bop(dataframe: pd.DataFrame, pair_name: str) -> pd.DataFrame:\n",
    "    dataframe[pair_name] = ta.BOP(dataframe)\n",
    "    return dataframe\n",
    "\n",
    "def factor_minus_di(dataframe: pd.DataFrame, pair_name: str) -> pd.DataFrame:\n",
    "    dataframe[pair_name] = ta.MINUS_DI(dataframe, timeperiod=7)\n",
    "    return dataframe\n",
    "\n",
    "def factor_minus_dm(dataframe: pd.DataFrame, pair_name: str) -> pd.DataFrame:\n",
    "    dataframe[pair_name] = ta.MINUS_DM(dataframe, timeperiod=20)\n",
    "    return dataframe\n",
    "\n",
    "def factor_minus_di1(dataframe: pd.DataFrame, pair_name: str) -> pd.DataFrame:\n",
    "    dataframe[pair_name] = ta.MINUS_DI(dataframe, timeperiod=20)\n",
    "    return dataframe\n",
    "\n",
    "def factor_ultosc(dataframe: pd.DataFrame, pair_name: str) -> pd.DataFrame:\n",
    "    dataframe[pair_name] = ta.ULTOSC(dataframe, timeperiod1=57, timeperiod2=59, timeperiod=60)\n",
    "    return dataframe\n",
    "\n",
    "def factor_ultosc1(dataframe: pd.DataFrame, pair_name: str) -> pd.DataFrame:\n",
    "    dataframe[pair_name] = ta.ULTOSC(dataframe, timeperiod1=11, timeperiod2=9, timeperiod=11)\n",
    "    return dataframe\n",
    "\n",
    "def factor_mfi(dataframe: pd.DataFrame, pair_name: str) -> pd.DataFrame:\n",
    "    dataframe[pair_name] = ta.MFI(dataframe, timeperiod=20)\n",
    "    return dataframe\n",
    "\n",
    "def factor_mfi1(dataframe: pd.DataFrame, pair_name: str) -> pd.DataFrame:\n",
    "    dataframe[pair_name] = ta.MFI(dataframe, timeperiod=7)\n",
    "    return dataframe\n",
    "\n",
    "def factor_plus_di(dataframe: pd.DataFrame, pair_name: str) -> pd.DataFrame:\n",
    "    dataframe[pair_name] = ta.PLUS_DI(dataframe, timeperiod=56)\n",
    "    return dataframe\n",
    "\n",
    "def factor_plus_dm(dataframe: pd.DataFrame, pair_name: str) -> pd.DataFrame:\n",
    "    dataframe[pair_name] = ta.PLUS_DM(dataframe, timeperiod=58)\n",
    "    return dataframe\n",
    "\n",
    "def factor_willr(dataframe: pd.DataFrame, pair_name: str) -> pd.DataFrame:\n",
    "    dataframe[pair_name] = ta.WILLR(dataframe, timeperiod=28)\n",
    "    return dataframe\n",
    "\n",
    "def factor_aroonosc(dataframe: pd.DataFrame, pair_name: str) -> pd.DataFrame:\n",
    "    dataframe[pair_name] = ta.AROONOSC(dataframe, timeperiod=22)\n",
    "    return dataframe\n",
    "\n",
    "def factor_aroonosc1(dataframe: pd.DataFrame, pair_name: str) -> pd.DataFrame:\n",
    "    dataframe[pair_name] = ta.AROONOSC(dataframe, timeperiod=8)\n",
    "    return dataframe\n",
    "\n",
    "def factor_aroondown(dataframe: pd.DataFrame, pair_name: str) -> pd.DataFrame:\n",
    "    dataframe[pair_name], _ = ta.AROON(dataframe, timeperiod=51)\n",
    "    return dataframe\n",
    "\n",
    "def factor_aroonup(dataframe: pd.DataFrame, pair_name: str) -> pd.DataFrame:\n",
    "    _, dataframe[pair_name] = ta.AROON(dataframe, timeperiod=51)\n",
    "    return dataframe\n",
    "\n",
    "def factor_natr(dataframe: pd.DataFrame, pair_name: str) -> pd.DataFrame:\n",
    "    dataframe[pair_name] = ta.NATR(dataframe, timeperiod=7)\n",
    "    return dataframe\n",
    "\n",
    "def factor_bop(dataframe: pd.DataFrame, pair_name: str) -> pd.DataFrame:\n",
    "    dataframe[pair_name] = ta.BOP(dataframe)\n",
    "    return dataframe\n",
    "\n",
    "def factor_adosc(dataframe: pd.DataFrame, pair_name: str) -> pd.DataFrame:\n",
    "    dataframe[pair_name] = ta.ADOSC(dataframe, fastperiod=31, slowperiod=34)\n",
    "    return dataframe\n",
    "\n",
    "def factor_adosc1(dataframe: pd.DataFrame, pair_name: str) -> pd.DataFrame:\n",
    "    dataframe[pair_name] = ta.ADOSC(dataframe, fastperiod=5, slowperiod=9)\n",
    "    return dataframe\n",
    "\n",
    "def factor_ad(dataframe: pd.DataFrame, pair_name: str) -> pd.DataFrame:\n",
    "    dataframe[pair_name] = ta.AD(dataframe)\n",
    "    return dataframe\n",
    "\n",
    "def factor_apo(dataframe: pd.DataFrame, pair_name: str) -> pd.DataFrame:\n",
    "    dataframe[pair_name] = ta.APO(dataframe, fastperiod=12, slowperiod=24)\n",
    "    return dataframe\n"
   ],
   "metadata": {
    "collapsed": false,
    "ExecuteTime": {
     "end_time": "2024-11-24T04:06:12.084562Z",
     "start_time": "2024-11-24T04:06:12.079621Z"
    }
   },
   "id": "823c0f40f813402b",
   "execution_count": 56
  },
  {
   "cell_type": "code",
   "outputs": [],
   "source": [
    "from user_data.notebooks.ta_factors import TAFactors\n",
    "factors_df_dict = {}\n",
    "\n",
    "open_df = pd.DataFrame()\n",
    "for key, value in candles_dict.items():\n",
    "    candles = value.copy()\n",
    "    candles.set_index(['date'], inplace=True)\n",
    "    if len(factors_df_dict.keys()) == 0:\n",
    "        # Hard code parameter first for research\n",
    "        factors_df_dict['NATR'] = factor_natr(candles, key)[key].to_frame()\n",
    "        factors_df_dict['ROCR100'] = factor_rocr100(candles, key)[key].to_frame()\n",
    "        factors_df_dict['TRIX'] = factor_trix(candles, key)[key].to_frame()\n",
    "        factors_df_dict['PPO'] = factor_ppo(candles, key)[key].to_frame()\n",
    "        factors_df_dict['DX'] = factor_dx(candles, key)[key].to_frame()\n",
    "        factors_df_dict['MINUS_DI'] = factor_minus_di(candles, key)[key].to_frame()\n",
    "        factors_df_dict['MINUS_DI1'] = factor_minus_di1(candles, key)[key].to_frame()\n",
    "        factors_df_dict['BOP'] = factor_bop(candles, key)[key].to_frame()\n",
    "        factors_df_dict['PLUS_DI'] = factor_plus_di(candles, key)[key].to_frame()\n",
    "        factors_df_dict['AROONOSC'] = factor_aroonosc(candles, key)[key].to_frame()\n",
    "        factors_df_dict['AROONOSC1'] = factor_aroonosc1(candles, key)[key].to_frame()\n",
    "        factors_df_dict['ULTOSC'] = factor_ultosc(candles, key)[key].to_frame()\n",
    "        factors_df_dict['ULTOSC1'] = factor_ultosc1(candles, key)[key].to_frame()\n",
    "        factors_df_dict['MFI'] = factor_mfi(candles, key)[key].to_frame()\n",
    "        factors_df_dict['MFI1'] = factor_mfi1(candles, key)[key].to_frame()\n",
    "        factors_df_dict['MINUS_DM'] = factor_minus_dm(candles, key)[key].to_frame()\n",
    "        factors_df_dict['ADOSC'] = factor_adosc(candles, key)[key].to_frame()\n",
    "        factors_df_dict['AD'] = factor_ad(candles, key)[key].to_frame()\n",
    "        open_df = factor_open(candles, key)[key].to_frame()\n",
    "    else:\n",
    "        factors_df_dict['NATR'] = factors_df_dict['NATR'].join(factor_natr(candles, key)[key].to_frame())\n",
    "        factors_df_dict['ROCR100'] = factors_df_dict['ROCR100'].join(factor_rocr100(candles, key)[key].to_frame())\n",
    "        factors_df_dict['TRIX'] = factors_df_dict['TRIX'].join(factor_trix(candles, key)[key].to_frame())\n",
    "        factors_df_dict['PPO'] = factors_df_dict['PPO'].join(factor_ppo(candles, key)[key].to_frame())\n",
    "        factors_df_dict['DX'] = factors_df_dict['DX'].join(factor_dx(candles, key)[key].to_frame())\n",
    "        factors_df_dict['MINUS_DI'] = factors_df_dict['MINUS_DI'].join(factor_minus_di(candles, key)[key].to_frame())\n",
    "        factors_df_dict['MINUS_DI1'] = factors_df_dict['MINUS_DI1'].join(factor_minus_di1(candles, key)[key].to_frame())\n",
    "        factors_df_dict['BOP'] = factors_df_dict['BOP'].join(factor_bop(candles, key)[key].to_frame())\n",
    "        factors_df_dict['PLUS_DI'] = factors_df_dict['PLUS_DI'].join(factor_plus_di(candles, key)[key].to_frame())\n",
    "        factors_df_dict['AROONOSC'] = factors_df_dict['AROONOSC'].join(factor_aroonosc(candles, key)[key].to_frame())\n",
    "        factors_df_dict['AROONOSC1'] = factors_df_dict['AROONOSC1'].join(factor_aroonosc1(candles, key)[key].to_frame())\n",
    "        factors_df_dict['ULTOSC'] = factors_df_dict['ULTOSC'].join(factor_ultosc(candles, key)[key].to_frame())\n",
    "        factors_df_dict['ULTOSC1'] = factors_df_dict['ULTOSC1'].join(factor_ultosc1(candles, key)[key].to_frame())\n",
    "        factors_df_dict['MFI'] = factors_df_dict['MFI'].join(factor_mfi(candles, key)[key].to_frame())\n",
    "        factors_df_dict['MFI1'] = factors_df_dict['MFI1'].join(factor_mfi1(candles, key)[key].to_frame())\n",
    "        factors_df_dict['MINUS_DM'] = factors_df_dict['MINUS_DM'].join(factor_minus_dm(candles, key)[key].to_frame())\n",
    "        factors_df_dict['ADOSC'] = factors_df_dict['ADOSC'].join(factor_adosc(candles, key)[key].to_frame())\n",
    "        factors_df_dict['AD'] = factors_df_dict['AD'].join(factor_ad(candles, key)[key].to_frame())\n",
    "        open_df = open_df.join(factor_open(candles, key)[key].to_frame())\n",
    "\n"
   ],
   "metadata": {
    "collapsed": false,
    "ExecuteTime": {
     "end_time": "2024-11-24T04:06:13.016773Z",
     "start_time": "2024-11-24T04:06:12.090123Z"
    }
   },
   "id": "fd777e1983815bb3",
   "execution_count": 57
  },
  {
   "cell_type": "code",
   "outputs": [
    {
     "name": "stdout",
     "output_type": "stream",
     "text": [
      "NATR\n",
      "ROCR100\n",
      "TRIX\n",
      "PPO\n",
      "DX\n",
      "MINUS_DI\n",
      "MINUS_DI1\n",
      "BOP\n",
      "PLUS_DI\n",
      "AROONOSC\n",
      "AROONOSC1\n",
      "ULTOSC\n",
      "ULTOSC1\n",
      "MFI\n",
      "MFI1\n",
      "MINUS_DM\n",
      "ADOSC\n",
      "AD\n"
     ]
    },
    {
     "data": {
      "text/plain": "dict_keys(['NATR', 'ROCR100', 'TRIX', 'PPO', 'DX', 'MINUS_DI', 'MINUS_DI1', 'BOP', 'PLUS_DI', 'AROONOSC', 'AROONOSC1', 'ULTOSC', 'ULTOSC1', 'MFI', 'MFI1', 'MINUS_DM', 'ADOSC', 'AD'])"
     },
     "execution_count": 58,
     "metadata": {},
     "output_type": "execute_result"
    }
   ],
   "source": [
    "from user_data.notebooks.factor_analysis_helper import standardize\n",
    "\n",
    "# Standardize Factor\n",
    "\n",
    "standardized_factors_df_dict = {}\n",
    "for key in factors_df_dict.keys():\n",
    "    print(key)\n",
    "    standardized_factors_df_dict[key] = standardize(factors_df_dict[key])\n",
    "\n",
    "standardized_factors_df_dict.keys()"
   ],
   "metadata": {
    "collapsed": false,
    "ExecuteTime": {
     "end_time": "2024-11-24T04:06:13.040100Z",
     "start_time": "2024-11-24T04:06:13.016850Z"
    }
   },
   "id": "20a770a2033bb005",
   "execution_count": 58
  },
  {
   "cell_type": "code",
   "outputs": [
    {
     "data": {
      "text/plain": "['NATR', 'ROCR100', 'MINUS_DI', 'MINUS_DI1', 'BOP', 'PLUS_DI']"
     },
     "execution_count": 59,
     "metadata": {},
     "output_type": "execute_result"
    }
   ],
   "source": [
    "from user_data.notebooks.factor_analysis_helper import Quick_Factor_Return_N_IC\n",
    "\n",
    "# IC IR Checking\n",
    "factor_icir_result = {}\n",
    "factors_icir_report_dict = {}\n",
    "icir_factors_list = []\n",
    "\n",
    "for key in standardized_factors_df_dict.keys():\n",
    "    factor_icir_result[key], factors_icir_report_dict[key] = Quick_Factor_Return_N_IC(standardized_factors_df_dict[key], open_df, 1, key, '1h')\n",
    "    if abs(factors_icir_report_dict[key]['IC mean']) > 0.03 or abs(factors_icir_report_dict[key]['IR']) > 0.3:\n",
    "        icir_factors_list.append(key)\n",
    "\n",
    "icir_factors_list"
   ],
   "metadata": {
    "collapsed": false,
    "ExecuteTime": {
     "end_time": "2024-11-24T04:06:14.725361Z",
     "start_time": "2024-11-24T04:06:13.041254Z"
    }
   },
   "id": "a30612b4c8f23a89",
   "execution_count": 59
  },
  {
   "cell_type": "code",
   "outputs": [
    {
     "data": {
      "text/plain": "{'NATR': -0.0339,\n 'ROCR100': -0.041,\n 'TRIX': -0.0165,\n 'PPO': -0.0132,\n 'DX': -0.0035,\n 'MINUS_DI': 0.0373,\n 'MINUS_DI1': 0.0341,\n 'BOP': -0.0449,\n 'PLUS_DI': -0.0315,\n 'AROONOSC': -0.0101,\n 'AROONOSC1': -0.0114,\n 'ULTOSC': -0.0075,\n 'ULTOSC1': -0.0114,\n 'MFI': -0.0259,\n 'MFI1': -0.0184,\n 'MINUS_DM': -0.0078,\n 'ADOSC': 0.0001,\n 'AD': 0.0016}"
     },
     "execution_count": 60,
     "metadata": {},
     "output_type": "execute_result"
    }
   ],
   "source": [
    "temp = {}\n",
    "for key, value in factors_icir_report_dict.items():\n",
    "    temp[key] = value['IC mean']\n",
    "    \n",
    "temp"
   ],
   "metadata": {
    "collapsed": false,
    "ExecuteTime": {
     "end_time": "2024-11-24T04:06:14.726183Z",
     "start_time": "2024-11-24T04:06:14.723230Z"
    }
   },
   "id": "89caf2720aa515f3",
   "execution_count": 60
  },
  {
   "cell_type": "code",
   "outputs": [
    {
     "name": "stdout",
     "output_type": "stream",
     "text": [
      " 当前：676 / 总量：713"
     ]
    },
    {
     "ename": "KeyboardInterrupt",
     "evalue": "",
     "output_type": "error",
     "traceback": [
      "\u001B[0;31m---------------------------------------------------------------------------\u001B[0m",
      "\u001B[0;31mKeyboardInterrupt\u001B[0m                         Traceback (most recent call last)",
      "Cell \u001B[0;32mIn[61], line 9\u001B[0m\n\u001B[1;32m      6\u001B[0m group_factors_list \u001B[38;5;241m=\u001B[39m []\n\u001B[1;32m      8\u001B[0m \u001B[38;5;28;01mfor\u001B[39;00m key \u001B[38;5;129;01min\u001B[39;00m standardized_factors_df_dict\u001B[38;5;241m.\u001B[39mkeys():\n\u001B[0;32m----> 9\u001B[0m     group_weekly_ret_dict[key], group_corr_dict[key] \u001B[38;5;241m=\u001B[39m Factor_Group_Analysis(standardized_factors_df_dict[key]\u001B[38;5;241m.\u001B[39mdropna(), open_df, \u001B[38;5;241m5\u001B[39m, \u001B[38;5;241m1\u001B[39m, key)\n\u001B[1;32m     10\u001B[0m     \u001B[38;5;28;01mif\u001B[39;00m \u001B[38;5;28mabs\u001B[39m(group_corr_dict[key]) \u001B[38;5;241m>\u001B[39m \u001B[38;5;241m0.6\u001B[39m:\n\u001B[1;32m     11\u001B[0m         group_factors_list\u001B[38;5;241m.\u001B[39mappend(key)\n",
      "File \u001B[0;32m~/SourceCode/freqtrade/user_data/notebooks/factor_analysis_helper.py:75\u001B[0m, in \u001B[0;36mFactor_Group_Analysis\u001B[0;34m(factor_df, open_df, group_count, change_position_period, factor_name)\u001B[0m\n\u001B[1;32m     72\u001B[0m group_return_temp \u001B[38;5;241m=\u001B[39m []\n\u001B[1;32m     73\u001B[0m \u001B[38;5;28;01mfor\u001B[39;00m j \u001B[38;5;129;01min\u001B[39;00m \u001B[38;5;28mrange\u001B[39m(\u001B[38;5;241m1\u001B[39m, group_count \u001B[38;5;241m+\u001B[39m \u001B[38;5;241m1\u001B[39m):\n\u001B[1;32m     74\u001B[0m     group_return_temp\u001B[38;5;241m.\u001B[39mappend(\n\u001B[0;32m---> 75\u001B[0m         period[period\u001B[38;5;241m.\u001B[39mpair\u001B[38;5;241m.\u001B[39misin(group_dict[j])]\u001B[38;5;241m.\u001B[39mset_index([\u001B[38;5;124m'\u001B[39m\u001B[38;5;124mdate\u001B[39m\u001B[38;5;124m'\u001B[39m, \u001B[38;5;124m'\u001B[39m\u001B[38;5;124mpair\u001B[39m\u001B[38;5;124m'\u001B[39m])\u001B[38;5;241m.\u001B[39mcurrent_return\u001B[38;5;241m.\u001B[39munstack(\u001B[38;5;124m'\u001B[39m\u001B[38;5;124mpair\u001B[39m\u001B[38;5;124m'\u001B[39m)\u001B[38;5;241m.\u001B[39mmean(\n\u001B[1;32m     76\u001B[0m             axis\u001B[38;5;241m=\u001B[39m\u001B[38;5;241m1\u001B[39m))\n\u001B[1;32m     77\u001B[0m group_return \u001B[38;5;241m=\u001B[39m pd\u001B[38;5;241m.\u001B[39mconcat([group_return, pd\u001B[38;5;241m.\u001B[39mDataFrame(group_return_temp, index\u001B[38;5;241m=\u001B[39m[\u001B[38;5;124m'\u001B[39m\u001B[38;5;124mG\u001B[39m\u001B[38;5;132;01m{}\u001B[39;00m\u001B[38;5;124m'\u001B[39m\u001B[38;5;241m.\u001B[39mformat(j) \u001B[38;5;28;01mfor\u001B[39;00m j \u001B[38;5;129;01min\u001B[39;00m \u001B[38;5;28mlist\u001B[39m(\n\u001B[1;32m     78\u001B[0m     \u001B[38;5;28mrange\u001B[39m(\u001B[38;5;241m1\u001B[39m, group_count \u001B[38;5;241m+\u001B[39m \u001B[38;5;241m1\u001B[39m))])\u001B[38;5;241m.\u001B[39mT], axis\u001B[38;5;241m=\u001B[39m\u001B[38;5;241m0\u001B[39m)\n\u001B[1;32m     79\u001B[0m \u001B[38;5;28mprint\u001B[39m(\u001B[38;5;124m'\u001B[39m\u001B[38;5;130;01m\\r\u001B[39;00m\u001B[38;5;124m 当前：\u001B[39m\u001B[38;5;132;01m{}\u001B[39;00m\u001B[38;5;124m / 总量：\u001B[39m\u001B[38;5;132;01m{}\u001B[39;00m\u001B[38;5;124m'\u001B[39m\u001B[38;5;241m.\u001B[39mformat(i, \u001B[38;5;28mlen\u001B[39m(datetime_period)), end\u001B[38;5;241m=\u001B[39m\u001B[38;5;124m'\u001B[39m\u001B[38;5;124m'\u001B[39m)\n",
      "File \u001B[0;32m~/anaconda3/lib/python3.11/site-packages/pandas/core/frame.py:6165\u001B[0m, in \u001B[0;36mDataFrame.set_index\u001B[0;34m(self, keys, drop, append, inplace, verify_integrity)\u001B[0m\n\u001B[1;32m   6157\u001B[0m     \u001B[38;5;28;01mif\u001B[39;00m \u001B[38;5;28mlen\u001B[39m(arrays[\u001B[38;5;241m-\u001B[39m\u001B[38;5;241m1\u001B[39m]) \u001B[38;5;241m!=\u001B[39m \u001B[38;5;28mlen\u001B[39m(\u001B[38;5;28mself\u001B[39m):\n\u001B[1;32m   6158\u001B[0m         \u001B[38;5;66;03m# check newest element against length of calling frame, since\u001B[39;00m\n\u001B[1;32m   6159\u001B[0m         \u001B[38;5;66;03m# ensure_index_from_sequences would not raise for append=False.\u001B[39;00m\n\u001B[1;32m   6160\u001B[0m         \u001B[38;5;28;01mraise\u001B[39;00m \u001B[38;5;167;01mValueError\u001B[39;00m(\n\u001B[1;32m   6161\u001B[0m             \u001B[38;5;124mf\u001B[39m\u001B[38;5;124m\"\u001B[39m\u001B[38;5;124mLength mismatch: Expected \u001B[39m\u001B[38;5;132;01m{\u001B[39;00m\u001B[38;5;28mlen\u001B[39m(\u001B[38;5;28mself\u001B[39m)\u001B[38;5;132;01m}\u001B[39;00m\u001B[38;5;124m rows, \u001B[39m\u001B[38;5;124m\"\u001B[39m\n\u001B[1;32m   6162\u001B[0m             \u001B[38;5;124mf\u001B[39m\u001B[38;5;124m\"\u001B[39m\u001B[38;5;124mreceived array of length \u001B[39m\u001B[38;5;132;01m{\u001B[39;00m\u001B[38;5;28mlen\u001B[39m(arrays[\u001B[38;5;241m-\u001B[39m\u001B[38;5;241m1\u001B[39m])\u001B[38;5;132;01m}\u001B[39;00m\u001B[38;5;124m\"\u001B[39m\n\u001B[1;32m   6163\u001B[0m         )\n\u001B[0;32m-> 6165\u001B[0m index \u001B[38;5;241m=\u001B[39m ensure_index_from_sequences(arrays, names)\n\u001B[1;32m   6167\u001B[0m \u001B[38;5;28;01mif\u001B[39;00m verify_integrity \u001B[38;5;129;01mand\u001B[39;00m \u001B[38;5;129;01mnot\u001B[39;00m index\u001B[38;5;241m.\u001B[39mis_unique:\n\u001B[1;32m   6168\u001B[0m     duplicates \u001B[38;5;241m=\u001B[39m index[index\u001B[38;5;241m.\u001B[39mduplicated()]\u001B[38;5;241m.\u001B[39munique()\n",
      "File \u001B[0;32m~/anaconda3/lib/python3.11/site-packages/pandas/core/indexes/base.py:7590\u001B[0m, in \u001B[0;36mensure_index_from_sequences\u001B[0;34m(sequences, names)\u001B[0m\n\u001B[1;32m   7588\u001B[0m     \u001B[38;5;28;01mreturn\u001B[39;00m Index(sequences[\u001B[38;5;241m0\u001B[39m], name\u001B[38;5;241m=\u001B[39mnames)\n\u001B[1;32m   7589\u001B[0m \u001B[38;5;28;01melse\u001B[39;00m:\n\u001B[0;32m-> 7590\u001B[0m     \u001B[38;5;28;01mreturn\u001B[39;00m MultiIndex\u001B[38;5;241m.\u001B[39mfrom_arrays(sequences, names\u001B[38;5;241m=\u001B[39mnames)\n",
      "File \u001B[0;32m~/anaconda3/lib/python3.11/site-packages/pandas/core/indexes/multi.py:533\u001B[0m, in \u001B[0;36mMultiIndex.from_arrays\u001B[0;34m(cls, arrays, sortorder, names)\u001B[0m\n\u001B[1;32m    530\u001B[0m     \u001B[38;5;28;01mif\u001B[39;00m \u001B[38;5;28mlen\u001B[39m(arrays[i]) \u001B[38;5;241m!=\u001B[39m \u001B[38;5;28mlen\u001B[39m(arrays[i \u001B[38;5;241m-\u001B[39m \u001B[38;5;241m1\u001B[39m]):\n\u001B[1;32m    531\u001B[0m         \u001B[38;5;28;01mraise\u001B[39;00m \u001B[38;5;167;01mValueError\u001B[39;00m(\u001B[38;5;124m\"\u001B[39m\u001B[38;5;124mall arrays must be same length\u001B[39m\u001B[38;5;124m\"\u001B[39m)\n\u001B[0;32m--> 533\u001B[0m codes, levels \u001B[38;5;241m=\u001B[39m factorize_from_iterables(arrays)\n\u001B[1;32m    534\u001B[0m \u001B[38;5;28;01mif\u001B[39;00m names \u001B[38;5;129;01mis\u001B[39;00m lib\u001B[38;5;241m.\u001B[39mno_default:\n\u001B[1;32m    535\u001B[0m     names \u001B[38;5;241m=\u001B[39m [\u001B[38;5;28mgetattr\u001B[39m(arr, \u001B[38;5;124m\"\u001B[39m\u001B[38;5;124mname\u001B[39m\u001B[38;5;124m\"\u001B[39m, \u001B[38;5;28;01mNone\u001B[39;00m) \u001B[38;5;28;01mfor\u001B[39;00m arr \u001B[38;5;129;01min\u001B[39;00m arrays]\n",
      "File \u001B[0;32m~/anaconda3/lib/python3.11/site-packages/pandas/core/arrays/categorical.py:3067\u001B[0m, in \u001B[0;36mfactorize_from_iterables\u001B[0;34m(iterables)\u001B[0m\n\u001B[1;32m   3063\u001B[0m \u001B[38;5;28;01mif\u001B[39;00m \u001B[38;5;28mlen\u001B[39m(iterables) \u001B[38;5;241m==\u001B[39m \u001B[38;5;241m0\u001B[39m:\n\u001B[1;32m   3064\u001B[0m     \u001B[38;5;66;03m# For consistency, it should return two empty lists.\u001B[39;00m\n\u001B[1;32m   3065\u001B[0m     \u001B[38;5;28;01mreturn\u001B[39;00m [], []\n\u001B[0;32m-> 3067\u001B[0m codes, categories \u001B[38;5;241m=\u001B[39m \u001B[38;5;28mzip\u001B[39m(\u001B[38;5;241m*\u001B[39m(factorize_from_iterable(it) \u001B[38;5;28;01mfor\u001B[39;00m it \u001B[38;5;129;01min\u001B[39;00m iterables))\n\u001B[1;32m   3068\u001B[0m \u001B[38;5;28;01mreturn\u001B[39;00m \u001B[38;5;28mlist\u001B[39m(codes), \u001B[38;5;28mlist\u001B[39m(categories)\n",
      "File \u001B[0;32m~/anaconda3/lib/python3.11/site-packages/pandas/core/arrays/categorical.py:3067\u001B[0m, in \u001B[0;36m<genexpr>\u001B[0;34m(.0)\u001B[0m\n\u001B[1;32m   3063\u001B[0m \u001B[38;5;28;01mif\u001B[39;00m \u001B[38;5;28mlen\u001B[39m(iterables) \u001B[38;5;241m==\u001B[39m \u001B[38;5;241m0\u001B[39m:\n\u001B[1;32m   3064\u001B[0m     \u001B[38;5;66;03m# For consistency, it should return two empty lists.\u001B[39;00m\n\u001B[1;32m   3065\u001B[0m     \u001B[38;5;28;01mreturn\u001B[39;00m [], []\n\u001B[0;32m-> 3067\u001B[0m codes, categories \u001B[38;5;241m=\u001B[39m \u001B[38;5;28mzip\u001B[39m(\u001B[38;5;241m*\u001B[39m(factorize_from_iterable(it) \u001B[38;5;28;01mfor\u001B[39;00m it \u001B[38;5;129;01min\u001B[39;00m iterables))\n\u001B[1;32m   3068\u001B[0m \u001B[38;5;28;01mreturn\u001B[39;00m \u001B[38;5;28mlist\u001B[39m(codes), \u001B[38;5;28mlist\u001B[39m(categories)\n",
      "File \u001B[0;32m~/anaconda3/lib/python3.11/site-packages/pandas/core/arrays/categorical.py:3040\u001B[0m, in \u001B[0;36mfactorize_from_iterable\u001B[0;34m(values)\u001B[0m\n\u001B[1;32m   3035\u001B[0m     codes \u001B[38;5;241m=\u001B[39m values\u001B[38;5;241m.\u001B[39mcodes\n\u001B[1;32m   3036\u001B[0m \u001B[38;5;28;01melse\u001B[39;00m:\n\u001B[1;32m   3037\u001B[0m     \u001B[38;5;66;03m# The value of ordered is irrelevant since we don't use cat as such,\u001B[39;00m\n\u001B[1;32m   3038\u001B[0m     \u001B[38;5;66;03m# but only the resulting categories, the order of which is independent\u001B[39;00m\n\u001B[1;32m   3039\u001B[0m     \u001B[38;5;66;03m# from ordered. Set ordered to False as default. See GH #15457\u001B[39;00m\n\u001B[0;32m-> 3040\u001B[0m     cat \u001B[38;5;241m=\u001B[39m Categorical(values, ordered\u001B[38;5;241m=\u001B[39m\u001B[38;5;28;01mFalse\u001B[39;00m)\n\u001B[1;32m   3041\u001B[0m     categories \u001B[38;5;241m=\u001B[39m cat\u001B[38;5;241m.\u001B[39mcategories\n\u001B[1;32m   3042\u001B[0m     codes \u001B[38;5;241m=\u001B[39m cat\u001B[38;5;241m.\u001B[39mcodes\n",
      "File \u001B[0;32m~/anaconda3/lib/python3.11/site-packages/pandas/core/arrays/categorical.py:473\u001B[0m, in \u001B[0;36mCategorical.__init__\u001B[0;34m(self, values, categories, ordered, dtype, fastpath, copy)\u001B[0m\n\u001B[1;32m    466\u001B[0m                 \u001B[38;5;28;01mraise\u001B[39;00m \u001B[38;5;167;01mTypeError\u001B[39;00m(\n\u001B[1;32m    467\u001B[0m                     \u001B[38;5;124m\"\u001B[39m\u001B[38;5;124m'\u001B[39m\u001B[38;5;124mvalues\u001B[39m\u001B[38;5;124m'\u001B[39m\u001B[38;5;124m is not ordered, please \u001B[39m\u001B[38;5;124m\"\u001B[39m\n\u001B[1;32m    468\u001B[0m                     \u001B[38;5;124m\"\u001B[39m\u001B[38;5;124mexplicitly specify the categories order \u001B[39m\u001B[38;5;124m\"\u001B[39m\n\u001B[1;32m    469\u001B[0m                     \u001B[38;5;124m\"\u001B[39m\u001B[38;5;124mby passing in a categories argument.\u001B[39m\u001B[38;5;124m\"\u001B[39m\n\u001B[1;32m    470\u001B[0m                 ) \u001B[38;5;28;01mfrom\u001B[39;00m \u001B[38;5;21;01merr\u001B[39;00m\n\u001B[1;32m    472\u001B[0m         \u001B[38;5;66;03m# we're inferring from values\u001B[39;00m\n\u001B[0;32m--> 473\u001B[0m         dtype \u001B[38;5;241m=\u001B[39m CategoricalDtype(categories, dtype\u001B[38;5;241m.\u001B[39mordered)\n\u001B[1;32m    475\u001B[0m \u001B[38;5;28;01melif\u001B[39;00m \u001B[38;5;28misinstance\u001B[39m(values\u001B[38;5;241m.\u001B[39mdtype, CategoricalDtype):\n\u001B[1;32m    476\u001B[0m     old_codes \u001B[38;5;241m=\u001B[39m extract_array(values)\u001B[38;5;241m.\u001B[39m_codes\n",
      "File \u001B[0;32m~/anaconda3/lib/python3.11/site-packages/pandas/core/dtypes/dtypes.py:221\u001B[0m, in \u001B[0;36mCategoricalDtype.__init__\u001B[0;34m(self, categories, ordered)\u001B[0m\n\u001B[1;32m    220\u001B[0m \u001B[38;5;28;01mdef\u001B[39;00m \u001B[38;5;21m__init__\u001B[39m(\u001B[38;5;28mself\u001B[39m, categories\u001B[38;5;241m=\u001B[39m\u001B[38;5;28;01mNone\u001B[39;00m, ordered: Ordered \u001B[38;5;241m=\u001B[39m \u001B[38;5;28;01mFalse\u001B[39;00m) \u001B[38;5;241m-\u001B[39m\u001B[38;5;241m>\u001B[39m \u001B[38;5;28;01mNone\u001B[39;00m:\n\u001B[0;32m--> 221\u001B[0m     \u001B[38;5;28mself\u001B[39m\u001B[38;5;241m.\u001B[39m_finalize(categories, ordered, fastpath\u001B[38;5;241m=\u001B[39m\u001B[38;5;28;01mFalse\u001B[39;00m)\n",
      "File \u001B[0;32m~/anaconda3/lib/python3.11/site-packages/pandas/core/dtypes/dtypes.py:378\u001B[0m, in \u001B[0;36mCategoricalDtype._finalize\u001B[0;34m(self, categories, ordered, fastpath)\u001B[0m\n\u001B[1;32m    375\u001B[0m     \u001B[38;5;28mself\u001B[39m\u001B[38;5;241m.\u001B[39mvalidate_ordered(ordered)\n\u001B[1;32m    377\u001B[0m \u001B[38;5;28;01mif\u001B[39;00m categories \u001B[38;5;129;01mis\u001B[39;00m \u001B[38;5;129;01mnot\u001B[39;00m \u001B[38;5;28;01mNone\u001B[39;00m:\n\u001B[0;32m--> 378\u001B[0m     categories \u001B[38;5;241m=\u001B[39m \u001B[38;5;28mself\u001B[39m\u001B[38;5;241m.\u001B[39mvalidate_categories(categories, fastpath\u001B[38;5;241m=\u001B[39mfastpath)\n\u001B[1;32m    380\u001B[0m \u001B[38;5;28mself\u001B[39m\u001B[38;5;241m.\u001B[39m_categories \u001B[38;5;241m=\u001B[39m categories\n\u001B[1;32m    381\u001B[0m \u001B[38;5;28mself\u001B[39m\u001B[38;5;241m.\u001B[39m_ordered \u001B[38;5;241m=\u001B[39m ordered\n",
      "File \u001B[0;32m~/anaconda3/lib/python3.11/site-packages/pandas/core/dtypes/dtypes.py:572\u001B[0m, in \u001B[0;36mCategoricalDtype.validate_categories\u001B[0;34m(categories, fastpath)\u001B[0m\n\u001B[1;32m    568\u001B[0m     \u001B[38;5;28;01mraise\u001B[39;00m \u001B[38;5;167;01mTypeError\u001B[39;00m(\n\u001B[1;32m    569\u001B[0m         \u001B[38;5;124mf\u001B[39m\u001B[38;5;124m\"\u001B[39m\u001B[38;5;124mParameter \u001B[39m\u001B[38;5;124m'\u001B[39m\u001B[38;5;124mcategories\u001B[39m\u001B[38;5;124m'\u001B[39m\u001B[38;5;124m must be list-like, was \u001B[39m\u001B[38;5;132;01m{\u001B[39;00m\u001B[38;5;28mrepr\u001B[39m(categories)\u001B[38;5;132;01m}\u001B[39;00m\u001B[38;5;124m\"\u001B[39m\n\u001B[1;32m    570\u001B[0m     )\n\u001B[1;32m    571\u001B[0m \u001B[38;5;28;01mif\u001B[39;00m \u001B[38;5;129;01mnot\u001B[39;00m \u001B[38;5;28misinstance\u001B[39m(categories, ABCIndex):\n\u001B[0;32m--> 572\u001B[0m     categories \u001B[38;5;241m=\u001B[39m Index\u001B[38;5;241m.\u001B[39m_with_infer(categories, tupleize_cols\u001B[38;5;241m=\u001B[39m\u001B[38;5;28;01mFalse\u001B[39;00m)\n\u001B[1;32m    574\u001B[0m \u001B[38;5;28;01mif\u001B[39;00m \u001B[38;5;129;01mnot\u001B[39;00m fastpath:\n\u001B[1;32m    575\u001B[0m     \u001B[38;5;28;01mif\u001B[39;00m categories\u001B[38;5;241m.\u001B[39mhasnans:\n",
      "File \u001B[0;32m~/anaconda3/lib/python3.11/site-packages/pandas/core/indexes/base.py:680\u001B[0m, in \u001B[0;36mIndex._with_infer\u001B[0;34m(cls, *args, **kwargs)\u001B[0m\n\u001B[1;32m    674\u001B[0m \u001B[38;5;129m@classmethod\u001B[39m\n\u001B[1;32m    675\u001B[0m \u001B[38;5;28;01mdef\u001B[39;00m \u001B[38;5;21m_with_infer\u001B[39m(\u001B[38;5;28mcls\u001B[39m, \u001B[38;5;241m*\u001B[39margs, \u001B[38;5;241m*\u001B[39m\u001B[38;5;241m*\u001B[39mkwargs):\n\u001B[1;32m    676\u001B[0m \u001B[38;5;250m    \u001B[39m\u001B[38;5;124;03m\"\"\"\u001B[39;00m\n\u001B[1;32m    677\u001B[0m \u001B[38;5;124;03m    Constructor that uses the 1.0.x behavior inferring numeric dtypes\u001B[39;00m\n\u001B[1;32m    678\u001B[0m \u001B[38;5;124;03m    for ndarray[object] inputs.\u001B[39;00m\n\u001B[1;32m    679\u001B[0m \u001B[38;5;124;03m    \"\"\"\u001B[39;00m\n\u001B[0;32m--> 680\u001B[0m     result \u001B[38;5;241m=\u001B[39m \u001B[38;5;28mcls\u001B[39m(\u001B[38;5;241m*\u001B[39margs, \u001B[38;5;241m*\u001B[39m\u001B[38;5;241m*\u001B[39mkwargs)\n\u001B[1;32m    682\u001B[0m     \u001B[38;5;28;01mif\u001B[39;00m result\u001B[38;5;241m.\u001B[39mdtype \u001B[38;5;241m==\u001B[39m _dtype_obj \u001B[38;5;129;01mand\u001B[39;00m \u001B[38;5;129;01mnot\u001B[39;00m result\u001B[38;5;241m.\u001B[39m_is_multi:\n\u001B[1;32m    683\u001B[0m         \u001B[38;5;66;03m# error: Argument 1 to \"maybe_convert_objects\" has incompatible type\u001B[39;00m\n\u001B[1;32m    684\u001B[0m         \u001B[38;5;66;03m# \"Union[ExtensionArray, ndarray[Any, Any]]\"; expected\u001B[39;00m\n\u001B[1;32m    685\u001B[0m         \u001B[38;5;66;03m# \"ndarray[Any, Any]\"\u001B[39;00m\n\u001B[1;32m    686\u001B[0m         values \u001B[38;5;241m=\u001B[39m lib\u001B[38;5;241m.\u001B[39mmaybe_convert_objects(result\u001B[38;5;241m.\u001B[39m_values)  \u001B[38;5;66;03m# type: ignore[arg-type]\u001B[39;00m\n",
      "File \u001B[0;32m~/anaconda3/lib/python3.11/site-packages/pandas/core/indexes/base.py:485\u001B[0m, in \u001B[0;36mIndex.__new__\u001B[0;34m(cls, data, dtype, copy, name, tupleize_cols)\u001B[0m\n\u001B[1;32m    475\u001B[0m \u001B[38;5;28;01mdef\u001B[39;00m \u001B[38;5;21m__new__\u001B[39m(\n\u001B[1;32m    476\u001B[0m     \u001B[38;5;28mcls\u001B[39m,\n\u001B[1;32m    477\u001B[0m     data\u001B[38;5;241m=\u001B[39m\u001B[38;5;28;01mNone\u001B[39;00m,\n\u001B[0;32m   (...)\u001B[0m\n\u001B[1;32m    481\u001B[0m     tupleize_cols: \u001B[38;5;28mbool\u001B[39m \u001B[38;5;241m=\u001B[39m \u001B[38;5;28;01mTrue\u001B[39;00m,\n\u001B[1;32m    482\u001B[0m ) \u001B[38;5;241m-\u001B[39m\u001B[38;5;241m>\u001B[39m Self:\n\u001B[1;32m    483\u001B[0m     \u001B[38;5;28;01mfrom\u001B[39;00m \u001B[38;5;21;01mpandas\u001B[39;00m\u001B[38;5;21;01m.\u001B[39;00m\u001B[38;5;21;01mcore\u001B[39;00m\u001B[38;5;21;01m.\u001B[39;00m\u001B[38;5;21;01mindexes\u001B[39;00m\u001B[38;5;21;01m.\u001B[39;00m\u001B[38;5;21;01mrange\u001B[39;00m \u001B[38;5;28;01mimport\u001B[39;00m RangeIndex\n\u001B[0;32m--> 485\u001B[0m     name \u001B[38;5;241m=\u001B[39m maybe_extract_name(name, data, \u001B[38;5;28mcls\u001B[39m)\n\u001B[1;32m    487\u001B[0m     \u001B[38;5;28;01mif\u001B[39;00m dtype \u001B[38;5;129;01mis\u001B[39;00m \u001B[38;5;129;01mnot\u001B[39;00m \u001B[38;5;28;01mNone\u001B[39;00m:\n\u001B[1;32m    488\u001B[0m         dtype \u001B[38;5;241m=\u001B[39m pandas_dtype(dtype)\n",
      "File \u001B[0;32m~/anaconda3/lib/python3.11/site-packages/pandas/core/indexes/base.py:7698\u001B[0m, in \u001B[0;36mmaybe_extract_name\u001B[0;34m(name, obj, cls)\u001B[0m\n\u001B[1;32m   7695\u001B[0m     name \u001B[38;5;241m=\u001B[39m obj\u001B[38;5;241m.\u001B[39mname\n\u001B[1;32m   7697\u001B[0m \u001B[38;5;66;03m# GH#29069\u001B[39;00m\n\u001B[0;32m-> 7698\u001B[0m \u001B[38;5;28;01mif\u001B[39;00m \u001B[38;5;129;01mnot\u001B[39;00m is_hashable(name):\n\u001B[1;32m   7699\u001B[0m     \u001B[38;5;28;01mraise\u001B[39;00m \u001B[38;5;167;01mTypeError\u001B[39;00m(\u001B[38;5;124mf\u001B[39m\u001B[38;5;124m\"\u001B[39m\u001B[38;5;132;01m{\u001B[39;00m\u001B[38;5;28mcls\u001B[39m\u001B[38;5;241m.\u001B[39m\u001B[38;5;18m__name__\u001B[39m\u001B[38;5;132;01m}\u001B[39;00m\u001B[38;5;124m.name must be a hashable type\u001B[39m\u001B[38;5;124m\"\u001B[39m)\n\u001B[1;32m   7701\u001B[0m \u001B[38;5;28;01mreturn\u001B[39;00m name\n",
      "File \u001B[0;32m~/anaconda3/lib/python3.11/site-packages/pandas/core/dtypes/inference.py:334\u001B[0m, in \u001B[0;36mis_hashable\u001B[0;34m(obj)\u001B[0m\n\u001B[1;32m    307\u001B[0m \u001B[38;5;250m    \u001B[39m\u001B[38;5;124;03m\"\"\"\u001B[39;00m\n\u001B[1;32m    308\u001B[0m \u001B[38;5;124;03m    Check if the object is a named tuple.\u001B[39;00m\n\u001B[1;32m    309\u001B[0m \n\u001B[0;32m   (...)\u001B[0m\n\u001B[1;32m    329\u001B[0m \u001B[38;5;124;03m    False\u001B[39;00m\n\u001B[1;32m    330\u001B[0m \u001B[38;5;124;03m    \"\"\"\u001B[39;00m\n\u001B[1;32m    331\u001B[0m     \u001B[38;5;28;01mreturn\u001B[39;00m \u001B[38;5;28misinstance\u001B[39m(obj, abc\u001B[38;5;241m.\u001B[39mSequence) \u001B[38;5;129;01mand\u001B[39;00m \u001B[38;5;28mhasattr\u001B[39m(obj, \u001B[38;5;124m\"\u001B[39m\u001B[38;5;124m_fields\u001B[39m\u001B[38;5;124m\"\u001B[39m)\n\u001B[0;32m--> 334\u001B[0m \u001B[38;5;28;01mdef\u001B[39;00m \u001B[38;5;21mis_hashable\u001B[39m(obj) \u001B[38;5;241m-\u001B[39m\u001B[38;5;241m>\u001B[39m TypeGuard[Hashable]:\n\u001B[1;32m    335\u001B[0m \u001B[38;5;250m    \u001B[39m\u001B[38;5;124;03m\"\"\"\u001B[39;00m\n\u001B[1;32m    336\u001B[0m \u001B[38;5;124;03m    Return True if hash(obj) will succeed, False otherwise.\u001B[39;00m\n\u001B[1;32m    337\u001B[0m \n\u001B[0;32m   (...)\u001B[0m\n\u001B[1;32m    356\u001B[0m \u001B[38;5;124;03m    False\u001B[39;00m\n\u001B[1;32m    357\u001B[0m \u001B[38;5;124;03m    \"\"\"\u001B[39;00m\n\u001B[1;32m    358\u001B[0m     \u001B[38;5;66;03m# Unfortunately, we can't use isinstance(obj, collections.abc.Hashable),\u001B[39;00m\n\u001B[1;32m    359\u001B[0m     \u001B[38;5;66;03m# which can be faster than calling hash. That is because numpy scalars\u001B[39;00m\n\u001B[1;32m    360\u001B[0m     \u001B[38;5;66;03m# fail this test.\u001B[39;00m\n\u001B[1;32m    361\u001B[0m \n\u001B[1;32m    362\u001B[0m     \u001B[38;5;66;03m# Reconsider this decision once this numpy bug is fixed:\u001B[39;00m\n\u001B[1;32m    363\u001B[0m     \u001B[38;5;66;03m# https://github.com/numpy/numpy/issues/5562\u001B[39;00m\n",
      "\u001B[0;31mKeyboardInterrupt\u001B[0m: "
     ]
    }
   ],
   "source": [
    "from user_data.notebooks.factor_analysis_helper import Factor_Group_Analysis\n",
    "\n",
    "# Group Analysis\n",
    "group_weekly_ret_dict = {}\n",
    "group_corr_dict = {}\n",
    "group_factors_list = []\n",
    "\n",
    "for key in standardized_factors_df_dict.keys():\n",
    "    group_weekly_ret_dict[key], group_corr_dict[key] = Factor_Group_Analysis(standardized_factors_df_dict[key].dropna(), open_df, 5, 1, key)\n",
    "    if abs(group_corr_dict[key]) > 0.6:\n",
    "        group_factors_list.append(key)\n",
    "    \n",
    "group_factors_list"
   ],
   "metadata": {
    "collapsed": false,
    "ExecuteTime": {
     "end_time": "2024-11-24T04:06:24.637940Z",
     "start_time": "2024-11-24T04:06:14.726529Z"
    }
   },
   "id": "a7dd4faaecd9c171",
   "execution_count": 61
  },
  {
   "cell_type": "code",
   "outputs": [
    {
     "data": {
      "text/plain": "Index(['KSM/USDT:USDT', 'SAND/USDT:USDT', 'XLM/USDT:USDT', 'MANA/USDT:USDT',\n       'AXS/USDT:USDT', 'ENJ/USDT:USDT', 'ATOM/USDT:USDT', 'FLOW/USDT:USDT',\n       'COMP/USDT:USDT', 'ANKR/USDT:USDT', 'DASH/USDT:USDT', 'FIL/USDT:USDT',\n       'APE/USDT:USDT', 'BLUR/USDT:USDT', 'ZEC/USDT:USDT', 'LPT/USDT:USDT',\n       'XTZ/USDT:USDT', 'YFI/USDT:USDT', 'DOT/USDT:USDT', 'GALA/USDT:USDT',\n       'GMT/USDT:USDT', 'ALGO/USDT:USDT', 'CHZ/USDT:USDT', 'IMX/USDT:USDT',\n       'CFX/USDT:USDT', 'SNX/USDT:USDT', 'EGLD/USDT:USDT', 'T/USDT:USDT',\n       'SEI/USDT:USDT', 'DYDX/USDT:USDT', '1INCH/USDT:USDT', 'XEM/USDT:USDT',\n       'BAT/USDT:USDT', 'FXS/USDT:USDT', 'LRC/USDT:USDT', 'KAVA/USDT:USDT',\n       'ICX/USDT:USDT', 'EOS/USDT:USDT', 'MINA/USDT:USDT', 'ZIL/USDT:USDT',\n       'ASTR/USDT:USDT', 'ZRX/USDT:USDT', 'MASK/USDT:USDT', 'WOO/USDT:USDT',\n       'CELO/USDT:USDT', 'HOT/USDT:USDT', 'NEO/USDT:USDT', 'LINK/USDT:USDT',\n       'ONT/USDT:USDT', 'SXP/USDT:USDT', 'ICP/USDT:USDT', 'ROSE/USDT:USDT',\n       'GMX/USDT:USDT', 'ARB/USDT:USDT', 'THETA/USDT:USDT', 'RVN/USDT:USDT',\n       'FTM/USDT:USDT', 'SFP/USDT:USDT', 'QTUM/USDT:USDT', 'AR/USDT:USDT',\n       'BAL/USDT:USDT', 'VET/USDT:USDT', 'ENS/USDT:USDT', 'MKR/USDT:USDT',\n       'QNT/USDT:USDT', 'HBAR/USDT:USDT', 'GRT/USDT:USDT', 'LDO/USDT:USDT',\n       'XMR/USDT:USDT', 'FET/USDT:USDT', 'LUNA2/USDT:USDT',\n       '1000LUNC/USDT:USDT', 'RUNE/USDT:USDT', 'APT/USDT:USDT', 'OP/USDT:USDT',\n       'AAVE/USDT:USDT', 'LTC/USDT:USDT', 'ETC/USDT:USDT', '1000XEC/USDT:USDT',\n       'JASMY/USDT:USDT', 'ADA/USDT:USDT', 'TRX/USDT:USDT', 'UNI/USDT:USDT',\n       'PENDLE/USDT:USDT', 'STX/USDT:USDT', 'NEAR/USDT:USDT', 'BTC/USDT:USDT',\n       'ETH/USDT:USDT', '1000SHIB/USDT:USDT', 'AVAX/USDT:USDT',\n       'INJ/USDT:USDT', 'BCH/USDT:USDT', 'CRV/USDT:USDT', 'BNB/USDT:USDT',\n       '1000FLOKI/USDT:USDT', 'SOL/USDT:USDT', 'SUI/USDT:USDT',\n       '1000PEPE/USDT:USDT', 'XRP/USDT:USDT', 'DOGE/USDT:USDT'],\n      dtype='object')"
     },
     "execution_count": 62,
     "metadata": {},
     "output_type": "execute_result"
    }
   ],
   "source": [
    "# Try Combine\n",
    "combine_factor_df = pd.DataFrame()\n",
    "\n",
    "for key in standardized_factors_df_dict.keys():\n",
    "    ic = factors_icir_report_dict[key]['IC mean']\n",
    "    if combine_factor_df.shape[0] == 0:\n",
    "        combine_factor_df = standardized_factors_df_dict[key] * (-1 if ic < 0 else 1)\n",
    "    else:\n",
    "        combine_factor_df = combine_factor_df + (standardized_factors_df_dict[key] * (-1 if ic < 0 else 1))\n",
    "\n",
    "combine_factor_df.iloc[-1].dropna().sort_values().index"
   ],
   "metadata": {
    "collapsed": false,
    "ExecuteTime": {
     "end_time": "2024-11-24T04:06:26.165857Z",
     "start_time": "2024-11-24T04:06:26.143233Z"
    }
   },
   "id": "85f6811eaf9a3f41",
   "execution_count": 62
  },
  {
   "cell_type": "code",
   "outputs": [
    {
     "data": {
      "text/plain": "{'name': 'combo',\n 'time frame': '1h',\n 'IC mean': 0.0402,\n 'IC std': 0.1694,\n 'IR': 0.237,\n 'IC>0': 0.5903,\n 'ABS_IC>2%': 0.8983}"
     },
     "execution_count": 63,
     "metadata": {},
     "output_type": "execute_result"
    }
   ],
   "source": [
    "ic_result, report = Quick_Factor_Return_N_IC(combine_factor_df, open_df, 1, 'combo', '1h')\n",
    "\n",
    "report"
   ],
   "metadata": {
    "collapsed": false,
    "ExecuteTime": {
     "end_time": "2024-11-24T04:06:27.023491Z",
     "start_time": "2024-11-24T04:06:26.911733Z"
    }
   },
   "id": "2aff33d1d62b2f14",
   "execution_count": 63
  },
  {
   "cell_type": "code",
   "outputs": [
    {
     "data": {
      "text/plain": "<Axes: title={'center': 'CUM_IC'}, xlabel='date'>"
     },
     "execution_count": 64,
     "metadata": {},
     "output_type": "execute_result"
    },
    {
     "data": {
      "text/plain": "<Figure size 640x480 with 1 Axes>",
      "image/png": "[encoded data removed]"
     },
     "metadata": {},
     "output_type": "display_data"
    }
   ],
   "source": [
    "ic_result.cumsum().plot(title = 'CUM_IC')"
   ],
   "metadata": {
    "collapsed": false,
    "ExecuteTime": {
     "end_time": "2024-11-24T04:06:29.336360Z",
     "start_time": "2024-11-24T04:06:28.843664Z"
    }
   },
   "id": "b6c72318cdc264b8",
   "execution_count": 64
  },
  {
   "cell_type": "code",
   "outputs": [
    {
     "data": {
      "text/plain": "<Axes: title={'center': 'IC_DAILY'}, xlabel='date'>"
     },
     "execution_count": 65,
     "metadata": {},
     "output_type": "execute_result"
    },
    {
     "data": {
      "text/plain": "<Figure size 1800x400 with 1 Axes>",
      "image/png": "[encoded data removed]"
     },
     "metadata": {},
     "output_type": "display_data"
    }
   ],
   "source": [
    "ic_day = ic_result.resample('D').mean()\n",
    "ic_day.index = ic_day.index.strftime(\"%F\")\n",
    "ic_day.plot(kind = 'bar',figsize=(18,4),title = 'IC_DAILY')"
   ],
   "metadata": {
    "collapsed": false,
    "ExecuteTime": {
     "end_time": "2024-11-24T04:06:31.193469Z",
     "start_time": "2024-11-24T04:06:31.073835Z"
    }
   },
   "id": "a0e05c8044e546",
   "execution_count": 65
  },
  {
   "cell_type": "code",
   "outputs": [],
   "source": [
    "Factor_Group_Analysis(combine_factor_df, open_df, 5, 1, '')"
   ],
   "metadata": {
    "collapsed": false,
    "ExecuteTime": {
     "start_time": "2024-11-24T04:06:24.654449Z"
    }
   },
   "id": "9bf57b8dfb6fa250",
   "execution_count": null
  },
  {
   "cell_type": "code",
   "outputs": [],
   "source": [
    "# Latest week combine factors check\n",
    "combine_factor_latest_week_df = combine_factor_df.iloc[-168:]"
   ],
   "metadata": {
    "collapsed": false,
    "ExecuteTime": {
     "start_time": "2024-11-24T04:06:24.658599Z"
    }
   },
   "id": "58c25bf28a6927a5",
   "execution_count": null
  },
  {
   "cell_type": "code",
   "outputs": [],
   "source": [
    "Quick_Factor_Return_N_IC(combine_factor_latest_week_df, open_df, 4, 'combo', '1h')"
   ],
   "metadata": {
    "collapsed": false,
    "ExecuteTime": {
     "start_time": "2024-11-24T04:06:24.665574Z"
    }
   },
   "id": "ad3d4696392473fc",
   "execution_count": null
  },
  {
   "cell_type": "code",
   "outputs": [],
   "source": [
    "Factor_Group_Analysis(combine_factor_latest_week_df, open_df, 10, 4, '')"
   ],
   "metadata": {
    "collapsed": false,
    "ExecuteTime": {
     "end_time": "2024-11-24T04:06:24.781576Z",
     "start_time": "2024-11-24T04:06:24.667274Z"
    }
   },
   "id": "e3792542303a73aa",
   "execution_count": null
  },
  {
   "cell_type": "code",
   "outputs": [],
   "source": [],
   "metadata": {
    "collapsed": false,
    "ExecuteTime": {
     "start_time": "2024-11-24T04:06:24.669355Z"
    }
   },
   "id": "c65f0a38f28b52a4"
  }
 ],
 "metadata": {
  "kernelspec": {
   "display_name": "Python 3",
   "language": "python",
   "name": "python3"
  },
  "language_info": {
   "codemirror_mode": {
    "name": "ipython",
    "version": 2
   },
   "file_extension": ".py",
   "mimetype": "text/x-python",
   "name": "python",
   "nbconvert_exporter": "python",
   "pygments_lexer": "ipython2",
   "version": "2.7.6"
  }
 },
 "nbformat": 4,
 "nbformat_minor": 5
}
