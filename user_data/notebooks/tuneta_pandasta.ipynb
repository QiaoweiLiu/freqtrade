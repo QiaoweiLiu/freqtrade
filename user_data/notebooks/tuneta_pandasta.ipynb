{
 "cells": [
  {
   "cell_type": "markdown",
   "source": [
    "#### Using TuneTA by pandas-ta"
   ],
   "metadata": {
    "collapsed": false
   },
   "id": "73d485c9f9a119e6"
  },
  {
   "cell_type": "code",
   "outputs": [
    {
     "name": "stdout",
     "output_type": "stream",
     "text": [
      "/Users/liuqiaowei/SourceCode/freqtrade\n"
     ]
    }
   ],
   "source": [
    "import os\n",
    "from pathlib import Path\n",
    "\n",
    "\n",
    "# Change directory\n",
    "# Modify this cell to insure that the output shows the correct path.\n",
    "# Define all paths relative to the project root shown in the cell output\n",
    "project_root = \"/Users/liuqiaowei/SourceCode/freqtrade/user_data/notebooks\"\n",
    "i = 0\n",
    "try:\n",
    "    os.chdir(project_root)\n",
    "    if not Path(\"LICENSE\").is_file():\n",
    "        i = 0\n",
    "        while i < 4 and (not Path(\"LICENSE\").is_file()):\n",
    "            os.chdir(Path(Path.cwd(), \"../\"))\n",
    "            i += 1\n",
    "        project_root = Path.cwd()\n",
    "except FileNotFoundError:\n",
    "    print(\"Please define the project root relative to the current directory\")\n",
    "print(Path.cwd())"
   ],
   "metadata": {
    "collapsed": false,
    "ExecuteTime": {
     "end_time": "2024-11-24T10:02:20.587104Z",
     "start_time": "2024-11-24T10:02:20.575333Z"
    }
   },
   "id": "c3b28d5ee3b06d41",
   "execution_count": 198
  },
  {
   "cell_type": "code",
   "outputs": [],
   "source": [
    "from freqtrade.configuration import Configuration\n",
    "\n",
    "\n",
    "# Customize these according to your needs.\n",
    "\n",
    "# Initialize empty configuration object\n",
    "config = Configuration.from_files([\"./user_data/config.json\"])\n",
    "# Optionally (recommended), use existing configuration file\n",
    "# config = Configuration.from_files([\"user_data/config.json\"])\n",
    "\n",
    "# Location of the data\n",
    "data_location = config[\"datadir\"]\n",
    "config['timeframe'] = '1h'\n",
    "# Pair to analyze - Only use one pair here\n",
    "# config['exchange']['pair_whitelist']"
   ],
   "metadata": {
    "collapsed": false,
    "ExecuteTime": {
     "end_time": "2024-11-24T10:02:21.096054Z",
     "start_time": "2024-11-24T10:02:21.081954Z"
    }
   },
   "id": "3df4fa028db711df",
   "execution_count": 199
  },
  {
   "cell_type": "code",
   "outputs": [],
   "source": [
    "from freqtrade.data.history import load_pair_history\n",
    "from freqtrade.enums import CandleType\n",
    "from pandas_ta import percent_return\n",
    "\n",
    "candles_dict = {}\n",
    "for pair in config['exchange']['pair_whitelist']:\n",
    "    candles = load_pair_history(\n",
    "        datadir=data_location,\n",
    "        timeframe=config[\"timeframe\"],\n",
    "        pair=pair,\n",
    "        data_format=\"feather\",  # Make sure to update this to your data\n",
    "        candle_type=CandleType.FUTURES,\n",
    "    )\n",
    "    candles['sym'] = pair\n",
    "    candles.set_index('date', inplace=True)\n",
    "    candles.set_index('sym', append=True, inplace=True)\n",
    "    candles['return'] = percent_return(candles.close, offset=-1)\n",
    "    # Keep Latest week for testing\n",
    "    candles_dict[pair] = candles[-24*30:]"
   ],
   "metadata": {
    "collapsed": false,
    "ExecuteTime": {
     "end_time": "2024-11-24T10:02:23.171967Z",
     "start_time": "2024-11-24T10:02:21.666297Z"
    }
   },
   "id": "c530ce6d5b439903",
   "execution_count": 200
  },
  {
   "cell_type": "code",
   "outputs": [
    {
     "data": {
      "text/plain": "dict_keys(['candles', 'cycles', 'momentum', 'overlap', 'performance', 'statistics', 'trend', 'volatility', 'volume'])"
     },
     "execution_count": 201,
     "metadata": {},
     "output_type": "execute_result"
    }
   ],
   "source": [
    "import pandas_ta as ta\n",
    "\n",
    "ta.Category.keys()"
   ],
   "metadata": {
    "collapsed": false,
    "ExecuteTime": {
     "end_time": "2024-11-24T10:02:24.248819Z",
     "start_time": "2024-11-24T10:02:24.231111Z"
    }
   },
   "id": "97519506319f905c",
   "execution_count": 201
  },
  {
   "cell_type": "code",
   "outputs": [
    {
     "data": {
      "text/plain": "91"
     },
     "execution_count": 202,
     "metadata": {},
     "output_type": "execute_result"
    }
   ],
   "source": [
    "# Generate indicator names\n",
    "from tuneta import config\n",
    "\n",
    "target_categories = ['momentum', 'statistics', 'trend', 'volatility', 'volume']\n",
    "exclude_indicators = ['stoch', 'tsignals', 'xsignals', 'pvr', 'tos_stdevall', 'ttm_trend']\n",
    "indicator_names = []\n",
    "\n",
    "for target_category in target_categories:\n",
    "    indicators = ta.Category[target_category]\n",
    "    for indicator in indicators:\n",
    "        if indicator not in exclude_indicators:\n",
    "            indicator_names.append(f'pta.{indicator}')\n",
    "\n",
    "indicator_names.append('pta.supertrend')\n",
    "len(indicator_names)"
   ],
   "metadata": {
    "collapsed": false,
    "ExecuteTime": {
     "end_time": "2024-11-24T10:02:27.229151Z",
     "start_time": "2024-11-24T10:02:27.193049Z"
    }
   },
   "id": "4890af88c44f61d8",
   "execution_count": 202
  },
  {
   "cell_type": "code",
   "outputs": [],
   "source": [
    "from tuneta.tune_ta import TuneTA\n",
    "import pandas as pd\n",
    "\n",
    "X = pd.concat([candles for _, candles in candles_dict.items()], axis=0).sort_index()\n",
    "X.dropna(inplace=True)\n",
    "y = X['return']\n",
    "X = X.drop(columns=['return'])"
   ],
   "metadata": {
    "collapsed": false,
    "ExecuteTime": {
     "end_time": "2024-11-24T10:02:28.210498Z",
     "start_time": "2024-11-24T10:02:28.167667Z"
    }
   },
   "id": "d99c48ed7365b6c4",
   "execution_count": 203
  },
  {
   "cell_type": "code",
   "outputs": [
    {
     "data": {
      "text/plain": "                                                      open         high  \\\ndate                      sym                                             \n2024-10-25 09:00:00+00:00 1000FLOKI/USDT:USDT     0.143490     0.145280   \n                          1000LUNC/USDT:USDT      0.091040     0.091330   \n                          1000PEPE/USDT:USDT      0.009583     0.009677   \n                          1000SHIB/USDT:USDT      0.017652     0.017770   \n                          1000XEC/USDT:USDT       0.034050     0.034330   \n...                                                    ...          ...   \n2024-11-24 07:00:00+00:00 XTZ/USDT:USDT           1.400000     1.440000   \n                          YFI/USDT:USDT        7541.000000  7548.000000   \n                          ZEC/USDT:USDT          54.280000    54.870000   \n                          ZIL/USDT:USDT           0.025490     0.025550   \n                          ZRX/USDT:USDT           0.521200     0.535400   \n\n                                                       low        close  \\\ndate                      sym                                             \n2024-10-25 09:00:00+00:00 1000FLOKI/USDT:USDT     0.143100     0.145210   \n                          1000LUNC/USDT:USDT      0.090610     0.091320   \n                          1000PEPE/USDT:USDT      0.009563     0.009676   \n                          1000SHIB/USDT:USDT      0.017628     0.017761   \n                          1000XEC/USDT:USDT       0.033990     0.034310   \n...                                                    ...          ...   \n2024-11-24 07:00:00+00:00 XTZ/USDT:USDT           1.399000     1.423000   \n                          YFI/USDT:USDT        7419.000000  7496.000000   \n                          ZEC/USDT:USDT          54.100000    54.530000   \n                          ZIL/USDT:USDT           0.025160     0.025510   \n                          ZRX/USDT:USDT           0.511900     0.512400   \n\n                                                     volume  \ndate                      sym                                \n2024-10-25 09:00:00+00:00 1000FLOKI/USDT:USDT  1.922966e+07  \n                          1000LUNC/USDT:USDT   7.985970e+06  \n                          1000PEPE/USDT:USDT   2.618233e+09  \n                          1000SHIB/USDT:USDT   2.036946e+08  \n                          1000XEC/USDT:USDT    2.291528e+06  \n...                                                     ...  \n2024-11-24 07:00:00+00:00 XTZ/USDT:USDT        8.155720e+06  \n                          YFI/USDT:USDT        1.323280e+02  \n                          ZEC/USDT:USDT        2.589598e+04  \n                          ZIL/USDT:USDT        5.089615e+07  \n                          ZRX/USDT:USDT        9.353089e+06  \n\n[71900 rows x 5 columns]",
      "text/html": "<div>\n<style scoped>\n    .dataframe tbody tr th:only-of-type {\n        vertical-align: middle;\n    }\n\n    .dataframe tbody tr th {\n        vertical-align: top;\n    }\n\n    .dataframe thead th {\n        text-align: right;\n    }\n</style>\n<table border=\"1\" class=\"dataframe\">\n  <thead>\n    <tr style=\"text-align: right;\">\n      <th></th>\n      <th></th>\n      <th>open</th>\n      <th>high</th>\n      <th>low</th>\n      <th>close</th>\n      <th>volume</th>\n    </tr>\n    <tr>\n      <th>date</th>\n      <th>sym</th>\n      <th></th>\n      <th></th>\n      <th></th>\n      <th></th>\n      <th></th>\n    </tr>\n  </thead>\n  <tbody>\n    <tr>\n      <th rowspan=\"5\" valign=\"top\">2024-10-25 09:00:00+00:00</th>\n      <th>1000FLOKI/USDT:USDT</th>\n      <td>0.143490</td>\n      <td>0.145280</td>\n      <td>0.143100</td>\n      <td>0.145210</td>\n      <td>1.922966e+07</td>\n    </tr>\n    <tr>\n      <th>1000LUNC/USDT:USDT</th>\n      <td>0.091040</td>\n      <td>0.091330</td>\n      <td>0.090610</td>\n      <td>0.091320</td>\n      <td>7.985970e+06</td>\n    </tr>\n    <tr>\n      <th>1000PEPE/USDT:USDT</th>\n      <td>0.009583</td>\n      <td>0.009677</td>\n      <td>0.009563</td>\n      <td>0.009676</td>\n      <td>2.618233e+09</td>\n    </tr>\n    <tr>\n      <th>1000SHIB/USDT:USDT</th>\n      <td>0.017652</td>\n      <td>0.017770</td>\n      <td>0.017628</td>\n      <td>0.017761</td>\n      <td>2.036946e+08</td>\n    </tr>\n    <tr>\n      <th>1000XEC/USDT:USDT</th>\n      <td>0.034050</td>\n      <td>0.034330</td>\n      <td>0.033990</td>\n      <td>0.034310</td>\n      <td>2.291528e+06</td>\n    </tr>\n    <tr>\n      <th>...</th>\n      <th>...</th>\n      <td>...</td>\n      <td>...</td>\n      <td>...</td>\n      <td>...</td>\n      <td>...</td>\n    </tr>\n    <tr>\n      <th rowspan=\"5\" valign=\"top\">2024-11-24 07:00:00+00:00</th>\n      <th>XTZ/USDT:USDT</th>\n      <td>1.400000</td>\n      <td>1.440000</td>\n      <td>1.399000</td>\n      <td>1.423000</td>\n      <td>8.155720e+06</td>\n    </tr>\n    <tr>\n      <th>YFI/USDT:USDT</th>\n      <td>7541.000000</td>\n      <td>7548.000000</td>\n      <td>7419.000000</td>\n      <td>7496.000000</td>\n      <td>1.323280e+02</td>\n    </tr>\n    <tr>\n      <th>ZEC/USDT:USDT</th>\n      <td>54.280000</td>\n      <td>54.870000</td>\n      <td>54.100000</td>\n      <td>54.530000</td>\n      <td>2.589598e+04</td>\n    </tr>\n    <tr>\n      <th>ZIL/USDT:USDT</th>\n      <td>0.025490</td>\n      <td>0.025550</td>\n      <td>0.025160</td>\n      <td>0.025510</td>\n      <td>5.089615e+07</td>\n    </tr>\n    <tr>\n      <th>ZRX/USDT:USDT</th>\n      <td>0.521200</td>\n      <td>0.535400</td>\n      <td>0.511900</td>\n      <td>0.512400</td>\n      <td>9.353089e+06</td>\n    </tr>\n  </tbody>\n</table>\n<p>71900 rows × 5 columns</p>\n</div>"
     },
     "execution_count": 204,
     "metadata": {},
     "output_type": "execute_result"
    }
   ],
   "source": [
    "X"
   ],
   "metadata": {
    "collapsed": false,
    "ExecuteTime": {
     "end_time": "2024-11-24T10:02:29.176669Z",
     "start_time": "2024-11-24T10:02:29.150727Z"
    }
   },
   "id": "38cb0200af133f6b",
   "execution_count": 204
  },
  {
   "cell_type": "code",
   "outputs": [],
   "source": [
    "from sklearn.model_selection import train_test_split\n",
    "\n",
    "X_train, X_test, y_train, y_test = train_test_split(X, y, test_size=.3, shuffle=False)"
   ],
   "metadata": {
    "collapsed": false,
    "ExecuteTime": {
     "end_time": "2024-11-24T10:02:32.525869Z",
     "start_time": "2024-11-24T10:02:32.516593Z"
    }
   },
   "id": "f444cebaba20b4e9",
   "execution_count": 205
  },
  {
   "cell_type": "code",
   "outputs": [],
   "source": [
    "tt = TuneTA(n_jobs=4, verbose=True)"
   ],
   "metadata": {
    "collapsed": false,
    "ExecuteTime": {
     "end_time": "2024-11-24T10:02:33.521591Z",
     "start_time": "2024-11-24T10:02:33.514256Z"
    }
   },
   "id": "4b636eeee7ecf812",
   "execution_count": 206
  },
  {
   "cell_type": "code",
   "outputs": [
    {
     "name": "stdout",
     "output_type": "stream",
     "text": [
      "     Indicator          Times\n",
      "---  ---------------  -------\n",
      " 98  pta.amat          121.24\n",
      " 91  pta.increasing    110.48\n",
      " 31  pta.qqe            88.8\n",
      " 93  pta.decreasing     88.56\n",
      "131  pta.increasing     86.03\n",
      " 26  pta.qqe            74.25\n",
      " 54  pta.amat           51.99\n",
      "129  pta.decreasing     50.51\n",
      " 49  pta.stc            37.8\n",
      "122  pta.supertrend     20.35\n",
      "130  pta.stc            20.17\n",
      " 41  pta.rvgi           16.93\n",
      "158  pta.squeeze_pro    12.47\n",
      "117  pta.supertrend     11.82\n",
      "108  pta.accbands       11.03\n",
      "157  pta.squeeze         9.22\n",
      " 22  pta.ppo             9.18\n",
      " 57  pta.kvo             9.17\n",
      " 29  pta.adx             8.92\n",
      " 28  pta.uo              8.68\n",
      " 68  pta.stochrsi        8.62\n",
      "159  pta.apo             8.54\n",
      " 24  pta.cfo             8.4\n",
      " 97  pta.adx             8.21\n",
      " 92  pta.cti             8.14\n",
      "121  pta.kc              7.91\n",
      " 74  pta.fisher          7.82\n",
      "167  pta.squeeze_pro     7.51\n",
      "103  pta.bbands          7.28\n",
      "  9  pta.bias            7.27\n",
      "106  pta.quantile        7.25\n",
      " 32  pta.tsi             7.23\n",
      "104  pta.donchian        7.15\n",
      "143  pta.mad             7.13\n",
      "107  pta.aberration      6.85\n",
      "168  pta.macd            6.77\n",
      " 19  pta.entropy         6.76\n",
      "116  pta.cksp            6.75\n",
      " 85  pta.aroon           6.72\n",
      " 20  pta.kst             6.65\n",
      "147  pta.stdev           6.61\n",
      "126  pta.brar            6.52\n",
      "102  pta.rvi             6.45\n",
      " 69  pta.rsx             6.44\n",
      " 17  pta.trix            6.21\n",
      " 78  pta.fisher          6.19\n",
      " 43  pta.stochrsi        6.17\n",
      " 14  pta.kst             6.16\n",
      " 10  pta.bias            6.15\n",
      "140  pta.rvi             6.07\n",
      " 76  pta.psl             6.04\n",
      "136  pta.brar            5.97\n",
      " 62  pta.cmf             5.7\n",
      "156  pta.ao              5.69\n",
      "114  pta.decay           5.69\n",
      "154  pta.eom             5.67\n",
      " 53  pta.kdj             5.63\n",
      "173  pta.eri             5.53\n",
      "164  pta.mom             5.49\n",
      " 99  pta.bbands          5.49\n",
      " 81  pta.inertia         5.45\n",
      " 84  pta.rsi             5.45\n",
      "113  pta.decay           5.45\n",
      " 51  pta.pgo             5.45\n",
      " 12  pta.coppock         5.36\n",
      " 72  pta.pgo             5.34\n",
      "135  pta.inertia         5.33\n",
      "155  pta.apo             5.32\n",
      " 13  pta.roc             5.32\n",
      " 33  pta.rvgi            5.31\n",
      "170  pta.slope           5.28\n",
      " 94  pta.aroon           5.27\n",
      " 71  pta.zscore          5.23\n",
      "133  pta.willr           5.23\n",
      " 46  pta.efi             5.22\n",
      " 45  pta.chop            5.22\n",
      " 73  pta.cti             5.17\n",
      "169  pta.mom             5.17\n",
      "161  pta.eri             5.17\n",
      "163  pta.slope           5.12\n",
      "  2  pta.pvi             5.08\n",
      " 58  pta.chop            5.06\n",
      " 83  pta.cmo             4.98\n",
      "137  pta.mfi             4.98\n",
      " 38  pta.aobv            4.96\n",
      "165  pta.qstick          4.94\n",
      "171  pta.qstick          4.91\n",
      "166  pta.squeeze         4.87\n",
      " 36  pta.aobv            4.8\n",
      " 11  pta.cg              4.79\n",
      " 95  pta.willr           4.79\n",
      "146  pta.mad             4.74\n",
      " 15  pta.coppock         4.72\n",
      "  7  pta.cfo             4.72\n",
      " 96  pta.vhf             4.68\n",
      "120  pta.median          4.63\n",
      " 77  pta.smi             4.49\n",
      " 65  pta.kvo             4.3\n",
      " 16  pta.trix            4.27\n",
      "112  pta.quantile        4.27\n",
      "  6  pta.ui              4.23\n",
      " 70  pta.pvo             4.18\n",
      " 66  pta.rsx             4.18\n",
      "123  pta.cksp            4.17\n",
      "138  pta.psl             4.08\n",
      "175  pta.variance        4.05\n",
      " 50  pta.efi             4\n",
      "109  pta.donchian        3.99\n",
      "151  pta.thermo          3.98\n",
      " 42  pta.adosc           3.97\n",
      "160  pta.dpo             3.92\n",
      "115  pta.aberration      3.9\n",
      " 67  pta.vortex          3.79\n",
      "150  pta.thermo          3.77\n",
      "139  pta.stdev           3.64\n",
      "132  pta.atr             3.61\n",
      "134  pta.atr             3.59\n",
      " 27  pta.pvo             3.59\n",
      " 56  pta.skew            3.57\n",
      " 25  pta.ppo             3.53\n",
      " 55  pta.smi             3.51\n",
      " 75  pta.tsi             3.49\n",
      " 80  pta.mfi             3.42\n",
      "118  pta.accbands        3.4\n",
      "  5  pta.nvi             3.38\n",
      "  3  pta.pvi             3.38\n",
      " 23  pta.cg              3.36\n",
      " 90  pta.vortex          3.3\n",
      "162  pta.macd            3.29\n",
      "119  pta.kc              3.27\n",
      "  4  pta.nvi             3.16\n",
      "152  pta.eom             3.13\n",
      "124  pta.cmf             3.12\n",
      "  1  pta.natr            3.12\n",
      " 87  pta.uo              3.11\n",
      "  8  pta.ui              3.1\n",
      " 52  pta.kdj             3.09\n",
      "105  pta.median          3.09\n",
      "  0  pta.natr            3.05\n",
      "127  pta.er              3.02\n",
      " 21  pta.roc             3.01\n",
      "125  pta.er              2.98\n",
      " 59  pta.massi           2.98\n",
      "128  pta.vhf             2.97\n",
      " 40  pta.skew            2.88\n",
      "148  pta.kurtosis        2.86\n",
      " 82  pta.zscore          2.82\n",
      " 86  pta.cci             2.81\n",
      " 79  pta.cci             2.79\n",
      " 18  pta.entropy         2.75\n",
      "174  pta.variance        2.74\n",
      " 48  pta.rsi             2.73\n",
      " 47  pta.cmo             2.68\n",
      "149  pta.kurtosis        2.68\n",
      " 44  pta.massi           2.66\n",
      "172  pta.dpo             2.64\n",
      "153  pta.ao              2.49\n",
      "101  pta.psar            2.36\n",
      " 30  pta.adosc           2.23\n",
      "100  pta.psar            2.21\n",
      "111  pta.hwc             0.98\n",
      " 63  pta.bop             0.94\n",
      "110  pta.hwc             0.82\n",
      " 64  pta.bop             0.6\n",
      "141  pta.pdist           0.35\n",
      "144  pta.true_range      0.34\n",
      "142  pta.pdist           0.34\n",
      " 61  pta.ad              0.32\n",
      " 39  pta.obv             0.32\n",
      "145  pta.true_range      0.32\n",
      " 60  pta.ad              0.31\n",
      " 37  pta.obv             0.31\n",
      " 35  pta.pvt             0.31\n",
      " 34  pta.pvt             0.31\n",
      " 89  pta.pvol            0.31\n",
      " 88  pta.pvol            0.31\n"
     ]
    }
   ],
   "source": [
    "tt.fit(X_train, y_train,\n",
    "        indicators=indicator_names,\n",
    "        ranges=[(4, 12), (12, 24)],\n",
    "        trials=30,\n",
    "        early_stop=5,\n",
    ")\n",
    "\n",
    "tt.fit_times()"
   ],
   "metadata": {
    "collapsed": false,
    "ExecuteTime": {
     "end_time": "2024-11-24T10:09:26.034039Z",
     "start_time": "2024-11-24T10:02:35.246286Z"
    }
   },
   "id": "9d209a1fc6d5cb00",
   "execution_count": 207
  },
  {
   "cell_type": "code",
   "outputs": [
    {
     "name": "stdout",
     "output_type": "stream",
     "text": [
      "\n",
      "Indicator Correlation to Target:\n",
      "\n",
      "                                                                                     Correlation\n",
      "---------------------------------------------------------------------------------  -------------\n",
      "pta_natr_length_16_mamode_fwma                                                          0.210127\n",
      "pta_natr_length_10_mamode_dema                                                          0.208867\n",
      "pta_pvi_length_7                                                                        0.161286\n",
      "pta_pvi_length_19                                                                       0.155742\n",
      "pta_nvi_length_19                                                                       0.149923\n",
      "pta_nvi_length_9                                                                        0.132815\n",
      "pta_ui_length_19                                                                        0.10843\n",
      "pta_cfo_length_19                                                                       0.108397\n",
      "pta_ui_length_9                                                                         0.10745\n",
      "pta_bias_length_14_mamode_trima                                                         0.101792\n",
      "pta_bias_length_10_mamode_dema                                                          0.096811\n",
      "pta_cg_length_9                                                                         0.09412\n",
      "pta_coppock_length_22_fast_17_slow_18                                                   0.093487\n",
      "pta_roc_length_19                                                                       0.092823\n",
      "pta_kst_roc1_17_roc2_15_roc3_19_roc4_13_sma1_15_sma2_16_sma3_17_sma4_22_signal_14       0.092272\n",
      "pta_coppock_length_5_fast_6_slow_7                                                      0.091895\n",
      "pta_trix_length_4_signal_11                                                             0.091876\n",
      "pta_trix_length_15_signal_20                                                            0.091834\n",
      "pta_entropy_length_19                                                                   0.09173\n",
      "pta_entropy_length_8                                                                    0.091081\n",
      "pta_kst_roc1_12_roc2_12_roc3_6_roc4_4_sma1_8_sma2_7_sma3_7_sma4_4_signal_12             0.089175\n",
      "pta_roc_length_9                                                                        0.088657\n",
      "pta_ppo_fast_10_slow_4_signal_7_mamode_swma                                             0.088343\n",
      "pta_cg_length_19                                                                        0.08439\n",
      "pta_cfo_length_9                                                                        0.080032\n",
      "pta_ppo_fast_15_slow_19_signal_13_mamode_trima                                          0.074151\n",
      "pta_qqe_length_15_smooth_18                                                             0.073728\n",
      "pta_pvo_fast_17_slow_15_signal_19                                                       0.073183\n",
      "pta_uo_fast_21_medium_19_slow_21                                                        0.071587\n",
      "pta_adx_length_5_lensig_10_mamode_trima                                                 0.069416\n",
      "pta_adosc_fast_19_slow_21                                                               0.069228\n",
      "pta_qqe_length_11_smooth_8                                                              0.069031\n",
      "pta_tsi_fast_24_slow_21_signal_21_mamode_dema                                           0.068769\n",
      "pta_rvgi_length_15_swma_length_18                                                       0.06814\n",
      "pta_pvt                                                                                 0.068127\n",
      "pta_pvt                                                                                 0.068127\n",
      "pta_aobv_fast_9_slow_5_max_lookback_6_min_lookback_7_mamode_t3                          0.068101\n",
      "pta_obv                                                                                 0.068101\n",
      "pta_aobv_fast_19_slow_13_max_lookback_15_min_lookback_16_mamode_t3                      0.068101\n",
      "pta_obv                                                                                 0.068101\n",
      "pta_skew_length_19                                                                      0.066108\n",
      "pta_rvgi_length_12_swma_length_12                                                       0.06594\n",
      "pta_adosc_fast_9_slow_10                                                                0.065575\n",
      "pta_stochrsi_length_7_rsi_length_6_k_11_d_7_mamode_pwma                                 0.065401\n",
      "pta_massi_fast_19_slow_21                                                               0.064322\n",
      "pta_chop_length_16_atr_length_24                                                        0.063222\n",
      "pta_efi_length_16_mamode_fwma                                                           0.063155\n",
      "pta_cmo_length_19                                                                       0.063079\n",
      "pta_rsi_length_19                                                                       0.063079\n",
      "pta_stc_tclength_23_fast_21_slow_22                                                     0.062955\n",
      "pta_efi_length_8_mamode_dema                                                            0.062508\n",
      "pta_pgo_length_9                                                                        0.062016\n",
      "pta_kdj_length_19_signal_21                                                             0.061997\n",
      "pta_kdj_length_4_signal_12                                                              0.060543\n",
      "pta_amat_fast_20_slow_17_lookback_13_mamode_swma                                        0.059104\n",
      "pta_smi_fast_17_slow_15_signal_19                                                       0.057512\n",
      "pta_skew_length_9                                                                       0.057156\n",
      "pta_kvo_fast_14_slow_12_signal_16_mamode_swma                                           0.056508\n",
      "pta_chop_length_7_atr_length_12                                                         0.055898\n",
      "pta_massi_fast_9_slow_10                                                                0.054966\n",
      "pta_ad                                                                                  0.054514\n",
      "pta_ad                                                                                  0.054514\n",
      "pta_cmf_length_19                                                                       0.053802\n",
      "pta_bop                                                                                 0.053519\n",
      "pta_bop                                                                                 0.053519\n",
      "pta_kvo_fast_10_slow_7_signal_5_mamode_swma                                             0.053281\n",
      "pta_rsx_length_19                                                                       0.052028\n",
      "pta_vortex_length_19                                                                    0.051603\n",
      "pta_stochrsi_length_19_rsi_length_13_k_15_d_16_mamode_t3                                0.051105\n",
      "pta_rsx_length_9                                                                        0.05097\n",
      "pta_pvo_fast_7_slow_6_signal_9                                                          0.050765\n",
      "pta_zscore_length_9                                                                     0.049725\n",
      "pta_pgo_length_19                                                                       0.049658\n",
      "pta_cti_length_19                                                                       0.049286\n",
      "pta_fisher_length_21_signal_16                                                          0.048799\n",
      "pta_tsi_fast_10_slow_7_signal_5_mamode_swma                                             0.048795\n",
      "pta_psl_length_19                                                                       0.048727\n",
      "pta_smi_fast_8_slow_11_signal_5                                                         0.048629\n",
      "pta_fisher_length_6_signal_8                                                            0.048536\n",
      "pta_cci_length_19                                                                       0.048081\n",
      "pta_mfi_length_19                                                                       0.047513\n",
      "pta_inertia_length_19_rvi_length_21                                                     0.04724\n",
      "pta_zscore_length_19                                                                    0.047097\n",
      "pta_cmo_length_9                                                                        0.045695\n",
      "pta_rsi_length_9                                                                        0.045695\n",
      "pta_aroon_length_19                                                                     0.045566\n",
      "pta_cci_length_9                                                                        0.044505\n",
      "pta_uo_fast_7_medium_6_slow_9                                                           0.044132\n",
      "pta_pvol                                                                                0.042989\n",
      "pta_pvol                                                                                0.042989\n",
      "pta_vortex_length_9                                                                     0.040534\n",
      "pta_increasing_length_16                                                                0.040158\n",
      "pta_cti_length_7                                                                        0.039882\n",
      "pta_decreasing_length_19                                                                0.039694\n",
      "pta_aroon_length_9                                                                      0.039038\n",
      "pta_willr_length_9                                                                      0.03781\n",
      "pta_vhf_length_7                                                                        0.037643\n",
      "pta_adx_length_16_lensig_13_mamode_dema                                                 0.036751\n",
      "pta_amat_fast_6_slow_9_lookback_5_mamode_trima                                          0.036258\n",
      "pta_bbands_length_14_ddof_20_mamode_fwma                                                0.035894\n",
      "pta_psar                                                                                0.035872\n",
      "pta_psar                                                                                0.035872\n",
      "pta_rvi_length_19                                                                       0.035834\n",
      "pta_bbands_length_12_ddof_8_mamode_vidya                                                0.035815\n",
      "pta_donchian_lower_length_10_upper_length_8                                             0.035726\n",
      "pta_median_length_9                                                                     0.035669\n",
      "pta_quantile_length_10_q_8                                                              0.035669\n",
      "pta_aberration_length_10_atr_length_8                                                   0.035665\n",
      "pta_accbands_length_16_mamode_swma                                                      0.03566\n",
      "pta_donchian_lower_length_15_upper_length_18                                            0.035654\n",
      "pta_hwc                                                                                 0.035607\n",
      "pta_hwc                                                                                 0.035607\n",
      "pta_quantile_length_15_q_18                                                             0.035604\n",
      "pta_decay_length_9                                                                      0.035597\n",
      "pta_decay_length_19                                                                     0.035597\n",
      "pta_aberration_length_15_atr_length_18                                                  0.035595\n",
      "pta_cksp_p_4_q_12                                                                       0.035593\n",
      "pta_supertrend_length_9                                                                 0.03557\n",
      "pta_accbands_length_10_mamode_dema                                                      0.035522\n",
      "pta_kc_length_10_mamode_dema                                                            0.03547\n",
      "pta_median_length_19                                                                    0.035466\n",
      "pta_kc_length_12_mamode_dema                                                            0.035414\n",
      "pta_supertrend_length_19                                                                0.035228\n",
      "pta_cksp_p_15_q_18                                                                      0.034915\n",
      "pta_cmf_length_9                                                                        0.034907\n",
      "pta_er_length_19                                                                        0.034405\n",
      "pta_brar_length_19                                                                      0.03375\n",
      "pta_er_length_9                                                                         0.033435\n",
      "pta_vhf_length_19                                                                       0.033382\n",
      "pta_decreasing_length_9                                                                 0.032254\n",
      "pta_stc_tclength_7_fast_6_slow_9                                                        0.030493\n",
      "pta_increasing_length_9                                                                 0.030487\n",
      "pta_atr_length_18_mamode_dema                                                           0.029128\n",
      "pta_willr_length_19                                                                     0.028818\n",
      "pta_atr_length_10_mamode_dema                                                           0.028035\n",
      "pta_inertia_length_9_rvi_length_10                                                      0.027982\n",
      "pta_brar_length_9                                                                       0.026404\n",
      "pta_mfi_length_9                                                                        0.026386\n",
      "pta_psl_length_9                                                                        0.024841\n",
      "pta_stdev_length_15_ddof_18                                                             0.024825\n",
      "pta_rvi_length_9                                                                        0.024813\n",
      "pta_pdist                                                                               0.024514\n",
      "pta_pdist                                                                               0.024514\n",
      "pta_mad_length_19                                                                       0.024416\n",
      "pta_true_range                                                                          0.024247\n",
      "pta_true_range                                                                          0.024247\n",
      "pta_mad_length_9                                                                        0.023841\n",
      "pta_stdev_length_6_ddof_8                                                               0.023697\n",
      "pta_kurtosis_length_9                                                                   0.022959\n",
      "pta_kurtosis_length_19                                                                  0.022887\n",
      "pta_thermo_length_10_long_7_short_5_mamode_swma                                         0.022699\n",
      "pta_thermo_length_20_long_17_short_13_mamode_swma                                       0.022699\n",
      "pta_eom_length_9                                                                        0.021008\n",
      "pta_ao_fast_19_slow_21                                                                  0.02049\n",
      "pta_eom_length_19                                                                       0.020073\n",
      "pta_apo_fast_22_slow_20_mamode_t3                                                       0.020072\n",
      "pta_ao_fast_9_slow_10                                                                   0.019636\n",
      "pta_squeeze_pro_bb_length_9_kc_length_5_mom_length_6_mom_smooth_7_mamode_t3             0.019576\n",
      "pta_squeeze_bb_length_9_kc_length_5_mom_length_6_mom_smooth_7_mamode_t3                 0.019576\n",
      "pta_apo_fast_9_slow_10_mamode_dema                                                      0.019434\n",
      "pta_dpo_length_9                                                                        0.018996\n",
      "pta_eri_length_9                                                                        0.018549\n",
      "pta_macd_fast_17_slow_15_signal_19                                                      0.018247\n",
      "pta_slope_length_9                                                                      0.018197\n",
      "pta_mom_length_9                                                                        0.018197\n",
      "pta_qstick_length_9                                                                     0.018182\n",
      "pta_squeeze_pro_bb_length_19_kc_length_13_mom_length_15_mom_smooth_16_mamode_t3         0.018138\n",
      "pta_squeeze_bb_length_19_kc_length_13_mom_length_15_mom_smooth_16_mamode_t3             0.018138\n",
      "pta_macd_fast_5_slow_6_signal_8                                                         0.018062\n",
      "pta_mom_length_19                                                                       0.017973\n",
      "pta_slope_length_19                                                                     0.017973\n",
      "pta_qstick_length_19                                                                    0.017907\n",
      "pta_dpo_length_19                                                                       0.017123\n",
      "pta_eri_length_19                                                                       0.017077\n",
      "pta_variance_length_19_ddof_21                                                          0.015058\n",
      "pta_variance_length_4_ddof_11                                                           0.015038\n"
     ]
    }
   ],
   "source": [
    "tt.report(target_corr=True, features_corr=False)"
   ],
   "metadata": {
    "collapsed": false,
    "ExecuteTime": {
     "end_time": "2024-11-24T10:16:22.758808Z",
     "start_time": "2024-11-24T10:16:22.683746Z"
    }
   },
   "id": "ed960131801f72f0",
   "execution_count": 208
  },
  {
   "cell_type": "code",
   "outputs": [
    {
     "name": "stderr",
     "output_type": "stream",
     "text": [
      "OMP: Info #276: omp_set_nested routine deprecated, please use omp_set_max_active_levels instead.\n",
      "OMP: Info #276: omp_set_nested routine deprecated, please use omp_set_max_active_levels instead.\n",
      "OMP: Info #276: omp_set_nested routine deprecated, please use omp_set_max_active_levels instead.\n",
      "OMP: Info #276: omp_set_nested routine deprecated, please use omp_set_max_active_levels instead.\n"
     ]
    }
   ],
   "source": [
    "tt.prune(max_inter_correlation=.8)"
   ],
   "metadata": {
    "collapsed": false,
    "ExecuteTime": {
     "end_time": "2024-11-24T10:22:42.199517Z",
     "start_time": "2024-11-24T10:16:23.812770Z"
    }
   },
   "id": "c48722480925961e",
   "execution_count": 209
  },
  {
   "cell_type": "code",
   "outputs": [
    {
     "name": "stdout",
     "output_type": "stream",
     "text": [
      "\n",
      "Indicator Correlation to Target:\n",
      "\n",
      "                                                            Correlation\n",
      "--------------------------------------------------------  -------------\n",
      "pta_natr_length_16_mamode_fwma                                 0.210127\n",
      "pta_pvi_length_7                                               0.161286\n",
      "pta_ui_length_19                                               0.10843\n",
      "pta_ui_length_9                                                0.10745\n",
      "pta_bias_length_14_mamode_trima                                0.101792\n",
      "pta_bias_length_10_mamode_dema                                 0.096811\n",
      "pta_coppock_length_22_fast_17_slow_18                          0.093487\n",
      "pta_roc_length_19                                              0.092823\n",
      "pta_entropy_length_8                                           0.091081\n",
      "pta_cfo_length_9                                               0.080032\n",
      "pta_pvo_fast_17_slow_15_signal_19                              0.073183\n",
      "pta_uo_fast_21_medium_19_slow_21                               0.071587\n",
      "pta_adx_length_5_lensig_10_mamode_trima                        0.069416\n",
      "pta_adosc_fast_19_slow_21                                      0.069228\n",
      "pta_skew_length_19                                             0.066108\n",
      "pta_stochrsi_length_7_rsi_length_6_k_11_d_7_mamode_pwma        0.065401\n",
      "pta_massi_fast_19_slow_21                                      0.064322\n",
      "pta_chop_length_16_atr_length_24                               0.063222\n",
      "pta_stc_tclength_23_fast_21_slow_22                            0.062955\n",
      "pta_efi_length_8_mamode_dema                                   0.062508\n",
      "pta_skew_length_9                                              0.057156\n",
      "pta_kvo_fast_14_slow_12_signal_16_mamode_swma                  0.056508\n",
      "pta_chop_length_7_atr_length_12                                0.055898\n",
      "pta_massi_fast_9_slow_10                                       0.054966\n",
      "pta_ad                                                         0.054514\n",
      "pta_bop                                                        0.053519\n",
      "pta_kvo_fast_10_slow_7_signal_5_mamode_swma                    0.053281\n",
      "pta_stochrsi_length_19_rsi_length_13_k_15_d_16_mamode_t3       0.051105\n",
      "pta_pvo_fast_7_slow_6_signal_9                                 0.050765\n",
      "pta_fisher_length_21_signal_16                                 0.048799\n",
      "pta_psl_length_19                                              0.048727\n",
      "pta_fisher_length_6_signal_8                                   0.048536\n",
      "pta_aroon_length_19                                            0.045566\n",
      "pta_uo_fast_7_medium_6_slow_9                                  0.044132\n",
      "pta_pvol                                                       0.042989\n",
      "pta_increasing_length_16                                       0.040158\n",
      "pta_aroon_length_9                                             0.039038\n",
      "pta_vhf_length_7                                               0.037643\n",
      "pta_adx_length_16_lensig_13_mamode_dema                        0.036751\n",
      "pta_amat_fast_6_slow_9_lookback_5_mamode_trima                 0.036258\n",
      "pta_bbands_length_14_ddof_20_mamode_fwma                       0.035894\n",
      "pta_er_length_19                                               0.034405\n",
      "pta_er_length_9                                                0.033435\n",
      "pta_decreasing_length_9                                        0.032254\n",
      "pta_stc_tclength_7_fast_6_slow_9                               0.030493\n",
      "pta_brar_length_9                                              0.026404\n",
      "pta_kurtosis_length_9                                          0.022959\n",
      "pta_kurtosis_length_19                                         0.022887\n",
      "pta_eom_length_9                                               0.021008\n",
      "pta_ao_fast_19_slow_21                                         0.02049\n",
      "pta_eom_length_19                                              0.020073\n",
      "pta_ao_fast_9_slow_10                                          0.019636\n",
      "pta_apo_fast_9_slow_10_mamode_dema                             0.019434\n",
      "pta_variance_length_4_ddof_11                                  0.015038\n",
      "\n",
      "Indicator Correlation to Each Other:\n",
      "\n",
      "                                                            pta_natr_length_16_mamode_fwma    pta_pvi_length_7    pta_ui_length_19    pta_ui_length_9    pta_bias_length_14_mamode_trima    pta_bias_length_10_mamode_dema    pta_coppock_length_22_fast_17_slow_18    pta_roc_length_19    pta_entropy_length_8    pta_cfo_length_9    pta_pvo_fast_17_slow_15_signal_19    pta_uo_fast_21_medium_19_slow_21    pta_adx_length_5_lensig_10_mamode_trima    pta_adosc_fast_19_slow_21    pta_skew_length_19    pta_stochrsi_length_7_rsi_length_6_k_11_d_7_mamode_pwma    pta_massi_fast_19_slow_21    pta_chop_length_16_atr_length_24    pta_stc_tclength_23_fast_21_slow_22    pta_efi_length_8_mamode_dema    pta_skew_length_9    pta_kvo_fast_14_slow_12_signal_16_mamode_swma    pta_chop_length_7_atr_length_12    pta_massi_fast_9_slow_10     pta_ad     pta_bop    pta_kvo_fast_10_slow_7_signal_5_mamode_swma    pta_stochrsi_length_19_rsi_length_13_k_15_d_16_mamode_t3    pta_pvo_fast_7_slow_6_signal_9    pta_fisher_length_21_signal_16    pta_psl_length_19    pta_fisher_length_6_signal_8    pta_aroon_length_19    pta_uo_fast_7_medium_6_slow_9    pta_pvol    pta_increasing_length_16    pta_aroon_length_9    pta_vhf_length_7    pta_adx_length_16_lensig_13_mamode_dema    pta_amat_fast_6_slow_9_lookback_5_mamode_trima    pta_bbands_length_14_ddof_20_mamode_fwma    pta_er_length_19    pta_er_length_9    pta_decreasing_length_9    pta_stc_tclength_7_fast_6_slow_9    pta_brar_length_9    pta_kurtosis_length_9    pta_kurtosis_length_19    pta_eom_length_9    pta_ao_fast_19_slow_21    pta_eom_length_19    pta_ao_fast_9_slow_10    pta_apo_fast_9_slow_10_mamode_dema    pta_variance_length_4_ddof_11\n",
      "--------------------------------------------------------  --------------------------------  ------------------  ------------------  -----------------  ---------------------------------  --------------------------------  ---------------------------------------  -------------------  ----------------------  ------------------  -----------------------------------  ----------------------------------  -----------------------------------------  ---------------------------  --------------------  ---------------------------------------------------------  ---------------------------  ----------------------------------  -------------------------------------  ------------------------------  -------------------  -----------------------------------------------  ---------------------------------  --------------------------  ---------  ----------  ---------------------------------------------  ----------------------------------------------------------  --------------------------------  --------------------------------  -------------------  ------------------------------  ---------------------  -------------------------------  ----------  --------------------------  --------------------  ------------------  -----------------------------------------  ------------------------------------------------  ------------------------------------------  ------------------  -----------------  -------------------------  ----------------------------------  -------------------  -----------------------  ------------------------  ------------------  ------------------------  -------------------  -----------------------  ------------------------------------  -------------------------------\n",
      "pta_natr_length_16_mamode_fwma                                                   0                   0.69536             0.560405           0.618574                           0.267626                          0.284733                                 0.238735             0.227693                0.270324            0.302847                             0.0685358                           0.136589                                  0.0379167                     0.219678              0.119972                                                  0.062567                      0.264175                            0.118582                               0.0931835                       0.176386             0.097815                                         0.180633                           0.0666376                   0.103101   0.201214   0.0443276                                       0.17941                                                    0.111237                           0.0262602                         0.126137             0.116274                        0.120336               0.0883597                        0.0634769   0.159098                    0.0862058             0.0614377           0.060666                                   0.0503118                                         0.0673201                                  0.117821            0.0951317          0.0339779                   0.0689626                           0.0523992            0.10294                 0.0395295                  0.105346            0.0600547                 0.0629575            0.0652215               0.0599217                              0.0613869                       0.0504523\n",
      "pta_pvi_length_7                                                                 0.69536             0                   0.29799            0.344443                           0.181482                          0.190354                                 0.293061             0.214887                0.206364            0.203889                             0.0402882                           0.283613                                  0.060764                      0.233751              0.162232                                                  0.0294078                     0.204319                            0.0848722                              0.242022                        0.226021             0.122576                                         0.164247                           0.0320906                   0.0640788  0.238151   0.040223                                        0.163075                                                   0.139041                           0.0259375                         0.202224             0.209852                        0.182704               0.166914                         0.132147    0.246855                    0.13939               0.103789            0.0505846                                  0.0370888                                         0.115336                                   0.0762605           0.0674761          0.0187848                   0.0873301                           0.0651518            0.0562054               0.0450405                  0.124721            0.0584287                 0.0812229            0.0623209               0.0789996                              0.0769946                       0.0616689\n",
      "pta_ui_length_19                                                                 0.560405            0.29799             0                  0.701545                           0.324793                          0.170823                                 0.600043             0.539981                0.404041            0.177812                             0.184177                            0.394907                                  0.0667643                     0.108013              0.132603                                                  0.0726607                     0.131304                            0.120825                               0.414356                        0.0784194            0.0727557                                        0.0920604                          0.0947295                   0.19004    0.109417   0.0562501                                       0.0826259                                                  0.402089                           0.119476                          0.541965             0.406822                        0.249718               0.377602                         0.15042     0.0742472                   0.394933              0.212251            0.0653637                                  0.103948                                          0.235335                                   0.0882504           0.166756           0.0879366                   0.249745                            0.275865             0.312132                0.0451719                  0.0993286           0.05388                   0.0847562            0.0686137               0.0682694                              0.0554413                       0.0508255\n",
      "pta_ui_length_9                                                                  0.618574            0.344443            0.701545           0                                  0.450468                          0.193273                                 0.320957             0.42551                 0.600974            0.285263                             0.0710612                           0.308219                                  0.171554                      0.113868              0.0649848                                                 0.380414                      0.173588                            0.21424                                0.298994                        0.112067             0.162404                                         0.11791                            0.0625655                   0.0649254  0.111408   0.0529921                                       0.108134                                                   0.306379                           0.166464                          0.500655             0.29171                         0.385266               0.389936                         0.228717    0.0685571                   0.409452              0.341207            0.0769998                                  0.122492                                          0.38538                                    0.0784782           0.158787           0.156454                    0.392863                            0.345193             0.436153                0.0360442                  0.126939            0.0618672                 0.0544072            0.0573979               0.0774747                              0.057503                        0.0412914\n",
      "pta_bias_length_14_mamode_trima                                                  0.267626            0.181482            0.324793           0.450468                           0                                 0.57038                                  0.381383             0.65485                 0.746561            0.193133                             0.268784                            0.5309                                    0.112095                      0.131607              0.293624                                                  0.389321                      0.181932                            0.314168                               0.331494                        0.315378             0.15077                                          0.137098                           0.347444                    0.168878   0.0744696  0.344582                                        0.119316                                                   0.236862                           0.245502                          0.571169             0.479628                        0.694279               0.451638                         0.710002    0.101392                    0.534617              0.621281            0.349211                                   0.271979                                          0.623285                                   0.0357024           0.23824            0.385772                    0.74047                             0.381956             0.745418                0.0506341                  0.0672046           0.0901559                 0.0405192            0.0666185               0.0748305                              0.0937302                       0.0298182\n",
      "pta_bias_length_10_mamode_dema                                                   0.284733            0.190354            0.170823           0.193273                           0.57038                           0                                        0.192654             0.167821                0.111452            0.706585                             0.151157                            0.143808                                  0.0724739                     0.0850922             0.188045                                                  0.0303267                     0.125396                            0.150258                               0.101862                        0.302487             0.254347                                         0.0847686                          0.189373                    0.098101   0.0616899  0.582083                                        0.135036                                                   0.12866                            0.17796                           0.096468             0.108514                        0.193563               0.142271                         0.506714    0.0749078                   0.0985532             0.249499            0.174923                                   0.079479                                          0.110265                                   0.0322011           0.0454696          0.0997686                   0.288311                            0.117599             0.302426                0.0948124                  0.0736132           0.0440855                 0.0264834            0.0285304               0.0216783                              0.0753463                       0.0220622\n",
      "pta_coppock_length_22_fast_17_slow_18                                            0.238735            0.293061            0.600043           0.320957                           0.381383                          0.192654                                 0                    0.794669                0.485577            0.125359                             0.211296                            0.620574                                  0.0982324                     0.207104              0.0818536                                                 0.0419113                     0.466691                            0.3895                                 0.579608                        0.13888              0.0624846                                        0.110991                           0.168058                    0.266939   0.106833   0.0792746                                       0.111788                                                   0.468191                           0.0561836                         0.74668              0.59518                         0.36957                0.597067                         0.210217    0.125504                    0.562814              0.309943            0.072787                                   0.160906                                          0.30732                                    0.0384787           0.306268           0.0944939                   0.326441                            0.329488             0.3773                  0.0221728                  0.0847988           0.0419647                 0.106172             0.0869101               0.0601348                              0.0433725                       0.0316238\n",
      "pta_roc_length_19                                                                0.227693            0.214887            0.539981           0.42551                            0.65485                           0.167821                                 0.794669             0                       0.651457            0.11552                              0.271046                            0.721424                                  0.129388                      0.182859              0.127016                                                  0.119335                      0.33706                             0.406521                               0.546391                        0.205302             0.120976                                         0.102452                           0.218906                    0.273763   0.0923758  0.224664                                        0.105303                                                   0.527694                           0.108485                          0.797111             0.673979                        0.52581                0.67643                          0.403541    0.117774                    0.718549              0.463269            0.132366                                   0.24753                                           0.443541                                   0.0365682           0.489858           0.205396                    0.517432                            0.392374             0.57858                 0.0252753                  0.0688196           0.0638828                 0.101297             0.105881                0.0717                                 0.0434165                       0.0317518\n",
      "pta_entropy_length_8                                                             0.270324            0.206364            0.404041           0.600974                           0.746561                          0.111452                                 0.485577             0.651457                0                   0.314282                             0.304262                            0.516511                                  0.242872                      0.151253              0.273159                                                  0.626233                      0.220909                            0.373745                               0.437493                        0.187114             0.0850509                                        0.133665                           0.266601                    0.241887   0.0765909  0.0660807                                       0.0866893                                                  0.361053                           0.198183                          0.734093             0.477994                        0.72705                0.569092                         0.476314    0.100702                    0.571012              0.652398            0.157334                                   0.325681                                          0.737543                                   0.0352905           0.243796           0.335138                    0.724214                            0.425127             0.72189                 0.0710413                  0.141933            0.0897039                 0.0476767            0.0694213               0.107786                               0.0705351                       0.0301134\n",
      "pta_cfo_length_9                                                                 0.302847            0.203889            0.177812           0.285263                           0.193133                          0.706585                                 0.125359             0.11552                 0.314282            0                                    0.161647                            0.0897289                                 0.106058                      0.0896986             0.0703323                                                 0.411702                      0.112768                            0.13928                                0.102934                        0.192244             0.326389                                         0.1028                             0.177645                    0.116479   0.0648506  0.584372                                        0.080829                                                   0.0863326                          0.178511                          0.187484             0.0637626                       0.20285                0.128839                         0.152072    0.071011                    0.0401711             0.21215             0.088238                                   0.0606781                                         0.306717                                   0.0331894           0.0341448          0.0455088                   0.0435291                           0.0813443            0.0503047               0.0893554                  0.0479559           0.0229965                 0.0175337            0.0223658               0.04092                                0.0164659                       0.01436\n",
      "pta_pvo_fast_17_slow_15_signal_19                                                0.0685358           0.0402882           0.184177           0.0710612                          0.268784                          0.151157                                 0.211296             0.271046                0.304262            0.161647                             0                                   0.187581                                  0.208905                      0.0445947             0.115533                                                  0.11143                       0.231809                            0.539569                               0.226324                        0.137389             0.0428525                                        0.0367013                          0.671753                    0.616069   0.021816   0.0378804                                       0.0425045                                                  0.230708                           0.619                             0.260582             0.164706                        0.165007               0.087678                         0.0535396   0.100699                    0.160618              0.0720168           0.232322                                   0.319016                                          0.135004                                   0.0430459           0.280355           0.214033                    0.120696                            0.169307             0.264889                0.044149                   0.104732            0.0548124                 0.0405951            0.0554825               0.0548808                              0.054017                        0.0504106\n",
      "pta_uo_fast_21_medium_19_slow_21                                                 0.136589            0.283613            0.394907           0.308219                           0.5309                            0.143808                                 0.620574             0.721424                0.516511            0.0897289                            0.187581                            0                                         0.070141                      0.167202              0.189431                                                  0.109343                      0.222608                            0.254072                               0.449942                        0.12846              0.168081                                         0.0272907                          0.16541                     0.189554   0.0812712  0.219302                                        0.0333684                                                  0.403293                           0.108791                          0.68621              0.613806                        0.503806               0.561563                         0.560924    0.0502949                   0.603595              0.422685            0.105683                                   0.15284                                           0.407378                                   0.017059            0.29863            0.155365                    0.476059                            0.331336             0.345481                0.0399756                  0.0413007           0.0568406                 0.0829115            0.0831815               0.0600262                              0.0370896                       0.0245378\n",
      "pta_adx_length_5_lensig_10_mamode_trima                                          0.0379167           0.060764            0.0667643          0.171554                           0.112095                          0.0724739                                0.0982324            0.129388                0.242872            0.106058                             0.208905                            0.070141                                  0                             0.0295596             0.117067                                                  0.141385                      0.0546472                           0.334242                               0.0456847                       0.0338925            0.0707021                                        0.0304945                          0.190957                    0.202933   0.0240646  0.0545977                                       0.0403287                                                  0.0634966                          0.0710367                         0.180826             0.0915117                       0.156843               0.0884849                        0.0370848   0.0210033                   0.0291186             0.0765771           0.104179                                   0.528639                                          0.0588136                                  0.00970625          0.241365           0.288869                    0.0292747                           0.061047             0.18013                 0.0730234                  0.184824            0.0313963                 0.0142988            0.0250678               0.0395295                              0.0262256                       0.0207711\n",
      "pta_adosc_fast_19_slow_21                                                        0.219678            0.233751            0.108013           0.113868                           0.131607                          0.0850922                                0.207104             0.182859                0.151253            0.0896986                            0.0445947                           0.167202                                  0.0295596                     0                     0.0633404                                                 0.0225298                     0.120774                            0.0929674                              0.107422                        0.298871             0.0397043                                        0.62452                            0.052617                    0.0675286  0.631228   0.0177993                                       0.595752                                                   0.0398175                          0.0228985                         0.118047             0.117715                        0.102682               0.10971                          0.0806881   0.244962                    0.10156               0.0734563           0.0250982                                  0.0235202                                         0.0734374                                  0.0310969           0.0311212          0.0182021                   0.0778985                           0.0573951            0.0664348               0.0163367                  0.0185073           0.022088                  0.0260736            0.0218123               0.0265292                              0.026555                        0.0157934\n",
      "pta_skew_length_19                                                               0.119972            0.162232            0.132603           0.0649848                          0.293624                          0.188045                                 0.0818536            0.127016                0.273159            0.0703323                            0.115533                            0.189431                                  0.117067                      0.0633404             0                                                         0.247664                      0.0442103                           0.10297                                0.05578                         0.120912             0.298355                                         0.0758035                          0.143784                    0.121446   0.0389902  0.0401502                                       0.0488887                                                  0.063838                           0.101141                          0.110512             0.110518                        0.235123               0.163363                         0.272195    0.0578595                   0.102892              0.215674            0.0947378                                  0.0688853                                         0.221735                                   0.0263623           0.0593767          0.0539789                   0.224792                            0.148394             0.258457                0.0693406                  0.401199            0.0567626                 0.0258374            0.0297035               0.052944                               0.0749621                       0.0379294\n",
      "pta_stochrsi_length_7_rsi_length_6_k_11_d_7_mamode_pwma                          0.062567            0.0294078           0.0726607          0.380414                           0.389321                          0.0303267                                0.0419113            0.119335                0.626233            0.411702                             0.11143                             0.109343                                  0.141385                      0.0225298             0.247664                                                  0                             0.0504373                           0.0974012                              0.122745                        0.0541871            0.185645                                         0.124951                           0.0823331                   0.0297635  0.0114021  0.0329101                                       0.0446325                                                  0.109027                           0.150991                          0.305036             0.13279                         0.514373               0.25152                          0.300734    0.0187596                   0.162255              0.500637            0.0751025                                  0.10135                                           0.592767                                   0.00642707          0.0514868          0.164155                    0.491135                            0.233977             0.461983                0.0420365                  0.0443291           0.0694482                 0.023373             0.0190456               0.0922307                              0.0746693                       0.0203292\n",
      "pta_massi_fast_19_slow_21                                                        0.264175            0.204319            0.131304           0.173588                           0.181932                          0.125396                                 0.466691             0.33706                 0.220909            0.112768                             0.231809                            0.222608                                  0.0546472                     0.120774              0.0442103                                                 0.0504373                     0                                   0.493626                               0.269809                        0.100319             0.0288592                                        0.0790127                          0.14587                     0.281571   0.0676843  0.0581874                                       0.0813234                                                  0.237573                           0.0990368                         0.312528             0.288404                        0.192477               0.240104                         0.0899125   0.0971366                   0.207395              0.178733            0.0707574                                  0.106684                                          0.145584                                   0.0409302           0.0827747          0.0330059                   0.150217                            0.0933024            0.181044                0.0262743                  0.0641406           0.0506901                 0.0912605            0.0872447               0.0619996                              0.0503059                       0.0415429\n",
      "pta_chop_length_16_atr_length_24                                                 0.118582            0.0848722           0.120825           0.21424                            0.314168                          0.150258                                 0.3895               0.406521                0.373745            0.13928                              0.539569                            0.254072                                  0.334242                      0.0929674             0.10297                                                   0.0974012                     0.493626                            0                                      0.283041                        0.132018             0.0749756                                        0.0624316                          0.526819                    0.51943    0.0391696  0.0618199                                       0.0650882                                                  0.248848                           0.173336                          0.317516             0.245013                        0.221366               0.110918                         0.11749     0.0854748                   0.1871                0.174935            0.257523                                   0.341033                                          0.144812                                   0.0234753           0.427171           0.311515                    0.145579                            0.147051             0.31723                 0.0435085                  0.110595            0.06058                   0.0626056            0.0806425               0.0658715                              0.0492519                       0.0404482\n",
      "pta_stc_tclength_23_fast_21_slow_22                                              0.0931835           0.242022            0.414356           0.298994                           0.331494                          0.101862                                 0.579608             0.546391                0.437493            0.102934                             0.226324                            0.449942                                  0.0456847                     0.107422              0.05578                                                   0.122745                      0.269809                            0.283041                               0                               0.0855551            0.0213186                                        0.0395495                          0.140338                    0.197302   0.0431572  0.0621495                                       0.0446639                                                  0.322694                           0.0939217                         0.572414             0.426471                        0.353701               0.399482                         0.214285    0.0755347                   0.442924              0.295241            0.0621445                                  0.0659209                                         0.31498                                    0.0194809           0.266798           0.111732                    0.31468                             0.308151             0.327656                0.0182923                  0.0708674           0.0557077                 0.0849808            0.0817223               0.0750705                              0.0358832                       0.0375952\n",
      "pta_efi_length_8_mamode_dema                                                     0.176386            0.226021            0.0784194          0.112067                           0.315378                          0.302487                                 0.13888              0.205302                0.187114            0.192244                             0.137389                            0.12846                                   0.0338925                     0.298871              0.120912                                                  0.0541871                     0.100319                            0.132018                               0.0855551                       0                    0.100082                                         0.230988                           0.150027                    0.0940883  0.258609   0.143643                                        0.262182                                                   0.0266286                          0.128907                          0.126219             0.114442                        0.161525               0.0944367                        0.194052    0.658588                    0.129042              0.137066            0.117715                                   0.076039                                          0.127315                                   0.305714            0.0894002          0.107652                    0.171364                            0.103524             0.228305                0.0363052                  0.0634826           0.244702                  0.267313             0.210382                0.321834                               0.437528                        0.444968\n",
      "pta_skew_length_9                                                                0.097815            0.122576            0.0727557          0.162404                           0.15077                           0.254347                                 0.0624846            0.120976                0.0850509           0.326389                             0.0428525                           0.168081                                  0.0707021                     0.0397043             0.298355                                                  0.185645                      0.0288592                           0.0749756                              0.0213186                       0.100082             0                                                0.0314001                          0.0603962                   0.0565163  0.0272325  0.109347                                        0.0560547                                                  0.0312491                          0.0753859                         0.0304077            0.113518                        0.0297408              0.118825                         0.179138    0.0411821                   0.0965512             0.122323            0.0457157                                  0.0425949                                         0.0239627                                  0.0156594           0.0347703          0.0760181                   0.0511625                           0.0681559            0.0686312               0.421146                   0.124591            0.0185006                 0.0155137            0.0151317               0.0213984                              0.0259739                       0.0220527\n",
      "pta_kvo_fast_14_slow_12_signal_16_mamode_swma                                    0.180633            0.164247            0.0920604          0.11791                            0.137098                          0.0847686                                0.110991             0.102452                0.133665            0.1028                               0.0367013                           0.0272907                                 0.0304945                     0.62452               0.0758035                                                 0.124951                      0.0790127                           0.0624316                              0.0395495                       0.230988             0.0314001                                        0                                  0.0481546                   0.0509955  0.552457   0.0133408                                       0.583226                                                   0.0304911                          0.0435502                         0.0342183            0.0446305                       0.103592               0.0531281                        0.0778805   0.189523                    0.0387952             0.0916596           0.0315346                                  0.0243619                                         0.112494                                   0.0272438           0.0162334          0.0279392                   0.094433                            0.0406214            0.104127                0.0224892                  0.021951            0.0193264                 0.0228821            0.0190822               0.0232893                              0.0233535                       0.0138199\n",
      "pta_chop_length_7_atr_length_12                                                  0.0666376           0.0320906           0.0947295          0.0625655                          0.347444                          0.189373                                 0.168058             0.218906                0.266601            0.177645                             0.671753                            0.16541                                   0.190957                      0.052617              0.143784                                                  0.0823331                     0.14587                             0.526819                               0.140338                        0.150027             0.0603962                                        0.0481546                          0                           0.480501   0.0200926  0.0414051                                       0.05418                                                    0.181509                           0.508261                          0.183983             0.147191                        0.171116               0.138285                         0.135893    0.0827216                   0.116985              0.131095            0.483604                                   0.365975                                          0.077323                                   0.0312162           0.261574           0.304399                    0.076143                            0.158099             0.280289                0.115064                   0.146764            0.0541352                 0.0299621            0.0452385               0.0450857                              0.0567022                       0.0496833\n",
      "pta_massi_fast_9_slow_10                                                         0.103101            0.0640788           0.19004            0.0649254                          0.168878                          0.098101                                 0.266939             0.273763                0.241887            0.116479                             0.616069                            0.189554                                  0.202933                      0.0675286             0.121446                                                  0.0297635                     0.281571                            0.51943                                0.197302                        0.0940883            0.0565163                                        0.0509955                          0.480501                    0          0.0332218  0.0422778                                       0.06171                                                    0.26809                            0.0989165                         0.2179               0.189359                        0.116917               0.100111                         0.0699887   0.0676328                   0.171917              0.113303            0.0553537                                  0.127914                                          0.0739132                                  0.040065            0.146454           0.0542504                   0.0897937                           0.087652             0.165757                0.0288908                  0.188089            0.0538746                 0.0488995            0.0638678               0.0625481                              0.0457317                       0.039243\n",
      "pta_ad                                                                           0.201214            0.238151            0.109417           0.111408                           0.0744696                         0.0616899                                0.106833             0.0923758               0.0765909           0.0648506                            0.021816                            0.0812712                                 0.0240646                     0.631228              0.0389902                                                 0.0114021                     0.0676843                           0.0391696                              0.0431572                       0.258609             0.0272325                                        0.552457                           0.0200926                   0.0332218  0          0.0151025                                       0.538972                                                   0.0264367                          0.0110963                         0.0853387            0.0421397                       0.176064               0.0385306                        0.0508075   0.239102                    0.0318727             0.0282126           0.0202913                                  0.0127564                                         0.023714                                   0.0332456           0.0191888          0.017174                    0.0235799                           0.0233925            0.0399513               0.0168079                  0.0331383           0.0235613                 0.0279637            0.0232704               0.0284367                              0.0284792                       0.016868\n",
      "pta_bop                                                                          0.0443276           0.040223            0.0562501          0.0529921                          0.344582                          0.582083                                 0.0792746            0.224664                0.0660807           0.584372                             0.0378804                           0.219302                                  0.0545977                     0.0177993             0.0401502                                                 0.0329101                     0.0581874                           0.0618199                              0.0621495                       0.143643             0.109347                                         0.0133408                          0.0414051                   0.0422778  0.0151025  0                                               0.0166749                                                  0.0524168                          0.0199991                         0.0749368            0.228405                        0.0686802              0.0731474                        0.317749    0.0124844                   0.198965              0.112337            0.0345736                                  0.017518                                          0.0327977                                  0.00701399          0.0271535          0.0239457                   0.21893                             0.0653188            0.221866                0.0900113                  0.0490472           0.0166417                 0.0116505            0.0166164               0.00955885                             0.0275479                       0.010014\n",
      "pta_kvo_fast_10_slow_7_signal_5_mamode_swma                                      0.17941             0.163075            0.0826259          0.108134                           0.119316                          0.135036                                 0.111788             0.105303                0.0866893           0.080829                             0.0425045                           0.0333684                                 0.0403287                     0.595752              0.0488887                                                 0.0446325                     0.0813234                           0.0650882                              0.0446639                       0.262182             0.0560547                                        0.583226                           0.05418                     0.06171    0.538972   0.0166749                                       0                                                          0.0252997                          0.0270892                         0.0242292            0.0477712                       0.0761054              0.0441291                        0.0932341   0.186645                    0.0392852             0.0597557           0.0364875                                  0.0218029                                         0.0338853                                  0.0270402           0.0210896          0.0295099                   0.0316182                           0.031881             0.0540916               0.0183976                  0.0274715           0.0191776                 0.0227117            0.0189385               0.0230729                              0.0231478                       0.0137093\n",
      "pta_stochrsi_length_19_rsi_length_13_k_15_d_16_mamode_t3                         0.111237            0.139041            0.402089           0.306379                           0.236862                          0.12866                                  0.468191             0.527694                0.361053            0.0863326                            0.230708                            0.403293                                  0.0634966                     0.0398175             0.063838                                                  0.109027                      0.237573                            0.248848                               0.322694                        0.0266286            0.0312491                                        0.0304911                          0.181509                    0.26809    0.0264367  0.0524168                                       0.0252997                                                  0                                  0.057792                          0.567849             0.437725                        0.299739               0.454543                         0.0898676   0.0125185                   0.45488               0.254138            0.0221031                                  0.116494                                          0.248225                                   0.0190544           0.159453           0.0500987                   0.248345                            0.242053             0.332377                0.0313947                  0.0881711           0.0363173                 0.0729759            0.0703028               0.0471029                              0.013452                        0.00964249\n",
      "pta_pvo_fast_7_slow_6_signal_9                                                   0.0262602           0.0259375           0.119476           0.166464                           0.245502                          0.17796                                  0.0561836            0.108485                0.198183            0.178511                             0.619                               0.108791                                  0.0710367                     0.0228985             0.101141                                                  0.150991                      0.0990368                           0.173336                               0.0939217                       0.128907             0.0753859                                        0.0435502                          0.508261                    0.0989165  0.0110963  0.0199991                                       0.0270892                                                  0.057792                           0                                 0.155204             0.0763424                       0.144594               0.130306                         0.119971    0.102055                    0.060343              0.171492            0.340671                                   0.304074                                          0.12286                                    0.030667            0.19146            0.254731                    0.0922946                           0.175741             0.221777                0.0781436                  0.178235            0.0339984                 0.0304388            0.0244023               0.0354792                              0.0447773                       0.0432797\n",
      "pta_fisher_length_21_signal_16                                                   0.126137            0.202224            0.541965           0.500655                           0.571169                          0.096468                                 0.74668              0.797111                0.734093            0.187484                             0.260582                            0.68621                                   0.180826                      0.118047              0.110512                                                  0.305036                      0.312528                            0.317516                               0.572414                        0.126219             0.0304077                                        0.0342183                          0.183983                    0.2179     0.0853387  0.0749368                                       0.0242292                                                  0.567849                           0.155204                          0                    0.656015                        0.720845               0.725409                         0.374169    0.0960947                   0.716022              0.542572            0.109646                                   0.346511                                          0.58016                                    0.0297438           0.392633           0.235468                    0.561835                            0.480771             0.598339                0.0427596                  0.0812249           0.0717336                 0.0984761            0.0952497               0.0963048                              0.047366                        0.0372689\n",
      "pta_psl_length_19                                                                0.116274            0.209852            0.406822           0.29171                            0.479628                          0.108514                                 0.59518              0.673979                0.477994            0.0637626                            0.164706                            0.613806                                  0.0915117                     0.117715              0.110518                                                  0.13279                       0.288404                            0.245013                               0.426471                        0.114442             0.113518                                         0.0446305                          0.147191                    0.189359   0.0421397  0.228405                                        0.0477712                                                  0.437725                           0.0763424                         0.656015             0                               0.480425               0.543333                         0.367767    0.0711248                   0.556804              0.406602            0.104911                                   0.230728                                          0.388435                                   0.0269812           0.258641           0.14417                     0.434353                            0.310439             0.431207                0.0376494                  0.0622204           0.0463941                 0.0776837            0.0688646               0.0653776                              0.0418982                       0.03152\n",
      "pta_fisher_length_6_signal_8                                                     0.120336            0.182704            0.249718           0.385266                           0.694279                          0.193563                                 0.36957              0.52581                 0.72705             0.20285                              0.165007                            0.503806                                  0.156843                      0.102682              0.235123                                                  0.514373                      0.192477                            0.221366                               0.353701                        0.161525             0.0297408                                        0.103592                           0.171116                    0.116917   0.176064   0.0686802                                       0.0761054                                                  0.299739                           0.144594                          0.720845             0.480425                        0                      0.483759                         0.573534    0.0845533                   0.48801               0.649015            0.193953                                   0.320466                                          0.725476                                   0.0327195           0.203436           0.307996                    0.655752                            0.382394             0.618968                0.0758395                  0.0442735           0.0926231                 0.0503491            0.068483                0.093422                               0.0918208                       0.0354521\n",
      "pta_aroon_length_19                                                              0.0883597           0.166914            0.377602           0.389936                           0.451638                          0.142271                                 0.597067             0.67643                 0.569092            0.128839                             0.087678                            0.561563                                  0.0884849                     0.10971               0.163363                                                  0.25152                       0.240104                            0.110918                               0.399482                        0.0944367            0.118825                                         0.0531281                          0.138285                    0.100111   0.0385306  0.0731474                                       0.0441291                                                  0.454543                           0.130306                          0.725409             0.543333                        0.483759               0                                0.300014    0.0664694                   0.632612              0.537048            0.107741                                   0.250945                                          0.442938                                   0.026925            0.171858           0.107974                    0.4421                              0.341362             0.451951                0.0300692                  0.0413591           0.0461038                 0.093692             0.0769505               0.0719729                              0.0417717                       0.0239448\n",
      "pta_uo_fast_7_medium_6_slow_9                                                    0.0634769           0.132147            0.15042            0.228717                           0.710002                          0.506714                                 0.210217             0.403541                0.476314            0.152072                             0.0535396                           0.560924                                  0.0370848                     0.0806881             0.272195                                                  0.300734                      0.0899125                           0.11749                                0.214285                        0.194052             0.179138                                         0.0778805                          0.135893                    0.0699887  0.0508075  0.317749                                        0.0932341                                                  0.0898676                          0.119971                          0.374169             0.367767                        0.573534               0.300014                         0           0.0239536                   0.376008              0.510334            0.259159                                   0.0897809                                         0.525513                                   0.0106663           0.0934832          0.211284                    0.583232                            0.261634             0.3642                  0.0495855                  0.0632243           0.0683701                 0.0170684            0.0416134               0.0438524                              0.0861801                       0.0174355\n",
      "pta_pvol                                                                         0.159098            0.246855            0.0742472          0.0685571                          0.101392                          0.0749078                                0.125504             0.117774                0.100702            0.071011                             0.100699                            0.0502949                                 0.0210033                     0.244962              0.0578595                                                 0.0187596                     0.0971366                           0.0854748                              0.0755347                       0.658588             0.0411821                                        0.189523                           0.0827216                   0.0676328  0.239102   0.0124844                                       0.186645                                                   0.0125185                          0.102055                          0.0960947            0.0711248                       0.0845533              0.0664694                        0.0239536   0                           0.0702417             0.0457924           0.049801                                   0.0487346                                         0.0615947                                  0.659384            0.0462601          0.0416772                   0.0537315                           0.0501092            0.0980499               0.0253969                  0.0420335           0.322684                  0.523898             0.336405                0.525241                               0.538223                        0.613372\n",
      "pta_increasing_length_16                                                         0.0862058           0.13939             0.394933           0.409452                           0.534617                          0.0985532                                0.562814             0.718549                0.571012            0.0401711                            0.160618                            0.603595                                  0.0291186                     0.10156               0.102892                                                  0.162255                      0.207395                            0.1871                                 0.442924                        0.129042             0.0965512                                        0.0387952                          0.116985                    0.171917   0.0318727  0.198965                                        0.0392852                                                  0.45488                            0.060343                          0.716022             0.556804                        0.48801                0.632612                         0.376008    0.0702417                   0                     0.441883            0.0222801                                  0.0966753                                         0.411954                                   0.0193612           0.0767324          0.0497942                   0.498161                            0.379967             0.498519                0.0152852                  0.0181514           0.0577831                 0.0724977            0.0774298               0.0736802                              0.0425839                       0.0265493\n",
      "pta_aroon_length_9                                                               0.0614377           0.103789            0.212251           0.341207                           0.621281                          0.249499                                 0.309943             0.463269                0.652398            0.21215                              0.0720168                           0.422685                                  0.0765771                     0.0734563             0.215674                                                  0.500637                      0.178733                            0.174935                               0.295241                        0.137066             0.122323                                         0.0916596                          0.131095                    0.113303   0.0282126  0.112337                                        0.0597557                                                  0.254138                           0.171492                          0.542572             0.406602                        0.649015               0.537048                         0.510334    0.0457924                   0.441883              0                   0.138222                                   0.168967                                          0.660851                                   0.0168836           0.0894751          0.149059                    0.643475                            0.309818             0.575162                0.0360954                  0.0833195           0.0769694                 0.0420118            0.0549082               0.0912442                              0.0687732                       0.0172751\n",
      "pta_vhf_length_7                                                                 0.060666            0.0505846           0.0653637          0.0769998                          0.349211                          0.174923                                 0.072787             0.132366                0.157334            0.088238                             0.232322                            0.105683                                  0.104179                      0.0250982             0.0947378                                                 0.0751025                     0.0707574                           0.257523                               0.0621445                       0.117715             0.0457157                                        0.0315346                          0.483604                    0.0553537  0.0202913  0.0345736                                       0.0364875                                                  0.0221031                          0.340671                          0.109646             0.104911                        0.193953               0.107741                         0.259159    0.049801                    0.0222801             0.138222            0                                          0.329577                                          0.0571343                                  0.0124146           0.26291            0.489805                    0.0581816                           0.140751             0.230985                0.160132                   0.132634            0.0438648                 0.0122754            0.026258                0.0332723                              0.049545                        0.033958\n",
      "pta_adx_length_16_lensig_13_mamode_dema                                          0.0503118           0.0370888           0.103948           0.122492                           0.271979                          0.079479                                 0.160906             0.24753                 0.325681            0.0606781                            0.319016                            0.15284                                   0.528639                      0.0235202             0.0688853                                                 0.10135                       0.106684                            0.341033                               0.0659209                       0.076039             0.0425949                                        0.0243619                          0.365975                    0.127914   0.0127564  0.017518                                        0.0218029                                                  0.116494                           0.304074                          0.346511             0.230728                        0.320466               0.250945                         0.0897809   0.0487346                   0.0966753             0.168967            0.329577                                   0                                                 0.0999679                                  0.0102178           0.48123            0.521206                    0.0910349                           0.156435             0.283404                0.120469                   0.140411            0.0389547                 0.0249485            0.0319946               0.034227                               0.0412911                       0.0258009\n",
      "pta_amat_fast_6_slow_9_lookback_5_mamode_trima                                   0.0673201           0.115336            0.235335           0.38538                            0.623285                          0.110265                                 0.30732              0.443541                0.737543            0.306717                             0.135004                            0.407378                                  0.0588136                     0.0734374             0.221735                                                  0.592767                      0.145584                            0.144812                               0.31498                         0.127315             0.0239627                                        0.112494                           0.077323                    0.0739132  0.023714   0.0327977                                       0.0338853                                                  0.248225                           0.12286                           0.58016              0.388435                        0.725476               0.442938                         0.525513    0.0615947                   0.411954              0.660851            0.0571343                                  0.0999679                                         0                                          0.0119224           0.0446126          0.0573334                   0.70432                             0.339534             0.588842                0.0147647                  0.0279832           0.0802835                 0.0331108            0.0481131               0.0899837                              0.0752568                       0.0265085\n",
      "pta_bbands_length_14_ddof_20_mamode_fwma                                         0.117821            0.0762605           0.0882504          0.0784782                          0.0357024                         0.0322011                                0.0384787            0.0365682               0.0352905           0.0331894                            0.0430459                           0.017059                                  0.00970625                    0.0310969             0.0263623                                                 0.00642707                    0.0409302                           0.0234753                              0.0194809                       0.305714             0.0156594                                        0.0272438                          0.0312162                   0.040065   0.0332456  0.00701399                                      0.0270402                                                  0.0190544                          0.030667                          0.0297438            0.0269812                       0.0327195              0.026925                         0.0106663   0.659384                    0.0193612             0.0168836           0.0124146                                  0.0102178                                         0.0119224                                  0                   0.00935231         0.00741337                  0.0118603                           0.0145064            0.0214367               0.0103586                  0.0253043           0.480365                  0.688361             0.486344                0.674369                               0.67993                         0.650639\n",
      "pta_er_length_19                                                                 0.0951317           0.0674761           0.166756           0.158787                           0.23824                           0.0454696                                0.306268             0.489858                0.243796            0.0341448                            0.280355                            0.29863                                   0.241365                      0.0311212             0.0593767                                                 0.0514868                     0.0827747                           0.427171                               0.266798                        0.0894002            0.0347703                                        0.0162334                          0.261574                    0.146454   0.0191888  0.0271535                                       0.0210896                                                  0.159453                           0.19146                           0.392633             0.258641                        0.203436               0.171858                         0.0934832   0.0462601                   0.0767324             0.0894751           0.26291                                    0.48123                                           0.0446126                                  0.00935231          0                  0.423142                    0.0523066                           0.195593             0.26543                 0.0265877                  0.100427            0.0386198                 0.0498092            0.0624933               0.0428123                              0.0337216                       0.0265574\n",
      "pta_er_length_9                                                                  0.0339779           0.0187848           0.0879366          0.156454                           0.385772                          0.0997686                                0.0944939            0.205396                0.335138            0.0455088                            0.214033                            0.155365                                  0.288869                      0.0182021             0.0539789                                                 0.164155                      0.0330059                           0.311515                               0.111732                        0.107652             0.0760181                                        0.0279392                          0.304399                    0.0542504  0.017174   0.0239457                                       0.0295099                                                  0.0500987                          0.254731                          0.235468             0.14417                         0.307996               0.107974                         0.211284    0.0416772                   0.0497942             0.149059            0.489805                                   0.521206                                          0.0573334                                  0.00741337          0.423142           0                           0.0551311                           0.209357             0.401018                0.0676712                  0.075753            0.0519155                 0.0136601            0.0318103               0.0399349                              0.0494235                       0.0254901\n",
      "pta_decreasing_length_9                                                          0.0689626           0.0873301           0.249745           0.392863                           0.74047                           0.288311                                 0.326441             0.517432                0.724214            0.0435291                            0.120696                            0.476059                                  0.0292747                     0.0778985             0.224792                                                  0.491135                      0.150217                            0.145579                               0.31468                         0.171364             0.0511625                                        0.094433                           0.076143                    0.0897937  0.0235799  0.21893                                         0.0316182                                                  0.248345                           0.0922946                         0.561835             0.434353                        0.655752               0.4421                           0.583232    0.0537315                   0.498161              0.643475            0.0581816                                  0.0910349                                         0.70432                                    0.0118603           0.0523066          0.0551311                   0                                   0.330597             0.678155                0.0102156                  0.0493162           0.0908983                 0.0359774            0.055257                0.0965333                              0.0796327                       0.0241629\n",
      "pta_stc_tclength_7_fast_6_slow_9                                                 0.0523992           0.0651518           0.275865           0.345193                           0.381956                          0.117599                                 0.329488             0.392374                0.425127            0.0813443                            0.169307                            0.331336                                  0.061047                      0.0573951             0.148394                                                  0.233977                      0.0933024                           0.147051                               0.308151                        0.103524             0.0681559                                        0.0406214                          0.158099                    0.087652   0.0233925  0.0653188                                       0.031881                                                   0.242053                           0.175741                          0.480771             0.310439                        0.382394               0.341362                         0.261634    0.0501092                   0.379967              0.309818            0.140751                                   0.156435                                          0.339534                                   0.0145064           0.195593           0.209357                    0.330597                            0                    0.4108                  0.044103                   0.0654475           0.0490564                 0.0382415            0.0406641               0.0590163                              0.0470847                       0.0340835\n",
      "pta_brar_length_9                                                                0.10294             0.0562054           0.312132           0.436153                           0.745418                          0.302426                                 0.3773               0.57858                 0.72189             0.0503047                            0.264889                            0.345481                                  0.18013                       0.0664348             0.258457                                                  0.461983                      0.181044                            0.31723                                0.327656                        0.228305             0.0686312                                        0.104127                           0.280289                    0.165757   0.0399513  0.221866                                        0.0540916                                                  0.332377                           0.221777                          0.598339             0.431207                        0.618968               0.451951                         0.3642      0.0980499                   0.498519              0.575162            0.230985                                   0.283404                                          0.588842                                   0.0214367           0.26543            0.401018                    0.678155                            0.4108               0                       0.0311645                  0.0740722           0.104982                  0.052315             0.0776526               0.110546                               0.0998946                       0.0468981\n",
      "pta_kurtosis_length_9                                                            0.0395295           0.0450405           0.0451719          0.0360442                          0.0506341                         0.0948124                                0.0221728            0.0252753               0.0710413           0.0893554                            0.044149                            0.0399756                                 0.0730234                     0.0163367             0.0693406                                                 0.0420365                     0.0262743                           0.0435085                              0.0182923                       0.0363052            0.421146                                         0.0224892                          0.115064                    0.0288908  0.0168079  0.0900113                                       0.0183976                                                  0.0313947                          0.0781436                         0.0427596            0.0376494                       0.0758395              0.0300692                        0.0495855   0.0253969                   0.0152852             0.0360954           0.160132                                   0.120469                                          0.0147647                                  0.0103586           0.0265877          0.0676712                   0.0102156                           0.044103             0.0311645               0                          0.228331            0.0152207                 0.0104593            0.0107095               0.0184859                              0.0153224                       0.00907407\n",
      "pta_kurtosis_length_19                                                           0.105346            0.124721            0.0993286          0.126939                           0.0672046                         0.0736132                                0.0847988            0.0688196               0.141933            0.0479559                            0.104732                            0.0413007                                 0.184824                      0.0185073             0.401199                                                  0.0443291                     0.0641406                           0.110595                               0.0708674                       0.0634826            0.124591                                         0.021951                           0.146764                    0.188089   0.0331383  0.0490472                                       0.0274715                                                  0.0881711                          0.178235                          0.0812249            0.0622204                       0.0442735              0.0413591                        0.0632243   0.0420335                   0.0181514             0.0833195           0.132634                                   0.140411                                          0.0279832                                  0.0253043           0.100427           0.075753                    0.0493162                           0.0654475            0.0740722               0.228331                   0                   0.0258635                 0.0189731            0.0227936               0.0225336                              0.0271959                       0.0297777\n",
      "pta_eom_length_9                                                                 0.0600547           0.0584287           0.05388            0.0618672                          0.0901559                         0.0440855                                0.0419647            0.0638828               0.0897039           0.0229965                            0.0548124                           0.0568406                                 0.0313963                     0.022088              0.0567626                                                 0.0694482                     0.0506901                           0.06058                                0.0557077                       0.244702             0.0185006                                        0.0193264                          0.0541352                   0.0538746  0.0235613  0.0166417                                       0.0191776                                                  0.0363173                          0.0339984                         0.0717336            0.0463941                       0.0926231              0.0461038                        0.0683701   0.322684                    0.0577831             0.0769694           0.0438648                                  0.0389547                                         0.0802835                                  0.480365            0.0386198          0.0519155                   0.0908983                           0.0490564            0.104982                0.0152207                  0.0258635           0                         0.427852             0.729165                0.638751                               0.605157                        0.433469\n",
      "pta_ao_fast_19_slow_21                                                           0.0629575           0.0812229           0.0847562          0.0544072                          0.0405192                         0.0264834                                0.106172             0.101297                0.0476767           0.0175337                            0.0405951                           0.0829115                                 0.0142988                     0.0260736             0.0258374                                                 0.023373                      0.0912605                           0.0626056                              0.0849808                       0.267313             0.0155137                                        0.0228821                          0.0299621                   0.0488995  0.0279637  0.0116505                                       0.0227117                                                  0.0729759                          0.0304388                         0.0984761            0.0776837                       0.0503491              0.093692                         0.0170684   0.523898                    0.0724977             0.0420118           0.0122754                                  0.0249485                                         0.0331108                                  0.688361            0.0498092          0.0136601                   0.0359774                           0.0382415            0.052315                0.0104593                  0.0189731           0.427852                  0                    0.654241                0.608819                               0.613297                        0.555204\n",
      "pta_eom_length_19                                                                0.0652215           0.0623209           0.0686137          0.0573979                          0.0666185                         0.0285304                                0.0869101            0.105881                0.0694213           0.0223658                            0.0554825                           0.0831815                                 0.0250678                     0.0218123             0.0297035                                                 0.0190456                     0.0872447                           0.0806425                              0.0817223                       0.210382             0.0151317                                        0.0190822                          0.0452385                   0.0638678  0.0232704  0.0166164                                       0.0189385                                                  0.0703028                          0.0244023                         0.0952497            0.0688646                       0.068483               0.0769505                        0.0416134   0.336405                    0.0774298             0.0549082           0.026258                                   0.0319946                                         0.0481131                                  0.486344            0.0624933          0.0318103                   0.055257                            0.0406641            0.0776526               0.0107095                  0.0227936           0.729165                  0.654241             0                       0.551534                               0.487924                        0.424944\n",
      "pta_ao_fast_9_slow_10                                                            0.0599217           0.0789996           0.0682694          0.0774747                          0.0748305                         0.0216783                                0.0601348            0.0717                  0.107786            0.04092                              0.0548808                           0.0600262                                 0.0395295                     0.0265292             0.052944                                                  0.0922307                     0.0619996                           0.0658715                              0.0750705                       0.321834             0.0213984                                        0.0232893                          0.0450857                   0.0625481  0.0284367  0.00955885                                      0.0230729                                                  0.0471029                          0.0354792                         0.0963048            0.0653776                       0.093422               0.0719729                        0.0438524   0.525241                    0.0736802             0.0912442           0.0332723                                  0.034227                                          0.0899837                                  0.674369            0.0428123          0.0399349                   0.0965333                           0.0590163            0.110546                0.0184859                  0.0225336           0.638751                  0.608819             0.551534                0                                      0.650695                        0.599168\n",
      "pta_apo_fast_9_slow_10_mamode_dema                                               0.0613869           0.0769946           0.0554413          0.057503                           0.0937302                         0.0753463                                0.0433725            0.0434165               0.0705351           0.0164659                            0.054017                            0.0370896                                 0.0262256                     0.026555              0.0749621                                                 0.0746693                     0.0503059                           0.0492519                              0.0358832                       0.437528             0.0259739                                        0.0233535                          0.0567022                   0.0457317  0.0284792  0.0275479                                       0.0231478                                                  0.013452                           0.0447773                         0.047366             0.0418982                       0.0918208              0.0417717                        0.0861801   0.538223                    0.0425839             0.0687732           0.049545                                   0.0412911                                         0.0752568                                  0.67993             0.0337216          0.0494235                   0.0796327                           0.0470847            0.0998946               0.0153224                  0.0271959           0.605157                  0.613297             0.487924                0.650695                               0                               0.630086\n",
      "pta_variance_length_4_ddof_11                                                    0.0504523           0.0616689           0.0508255          0.0412914                          0.0298182                         0.0220622                                0.0316238            0.0317518               0.0301134           0.01436                              0.0504106                           0.0245378                                 0.0207711                     0.0157934             0.0379294                                                 0.0203292                     0.0415429                           0.0404482                              0.0375952                       0.444968             0.0220527                                        0.0138199                          0.0496833                   0.039243   0.016868   0.010014                                        0.0137093                                                  0.00964249                         0.0432797                         0.0372689            0.03152                         0.0354521              0.0239448                        0.0174355   0.613372                    0.0265493             0.0172751           0.033958                                   0.0258009                                         0.0265085                                  0.650639            0.0265574          0.0254901                   0.0241629                           0.0340835            0.0468981               0.00907407                 0.0297777           0.433469                  0.555204             0.424944                0.599168                               0.630086                        0\n"
     ]
    }
   ],
   "source": [
    "tt.report(target_corr=True, features_corr=True)"
   ],
   "metadata": {
    "collapsed": false,
    "ExecuteTime": {
     "end_time": "2024-11-24T10:22:42.256260Z",
     "start_time": "2024-11-24T10:22:42.198951Z"
    }
   },
   "id": "593387db0953ab87",
   "execution_count": 210
  },
  {
   "cell_type": "code",
   "outputs": [
    {
     "data": {
      "text/plain": "                                                    Correlation\npta_natr_length_16_mamode_fwma                         0.210127\npta_pvi_length_7                                       0.161286\npta_ui_length_19                                       0.108430\npta_ui_length_9                                        0.107450\npta_bias_length_14_mamode_trima                        0.101792\npta_bias_length_10_mamode_dema                         0.096811\npta_coppock_length_22_fast_17_slow_18                  0.093487\npta_roc_length_19                                      0.092823\npta_entropy_length_8                                   0.091081\npta_cfo_length_9                                       0.080032\npta_pvo_fast_17_slow_15_signal_19                      0.073183\npta_uo_fast_21_medium_19_slow_21                       0.071587\npta_adx_length_5_lensig_10_mamode_trima                0.069416\npta_adosc_fast_19_slow_21                              0.069228\npta_skew_length_19                                     0.066108\npta_stochrsi_length_7_rsi_length_6_k_11_d_7_mam...     0.065401\npta_massi_fast_19_slow_21                              0.064322\npta_chop_length_16_atr_length_24                       0.063222\npta_stc_tclength_23_fast_21_slow_22                    0.062955\npta_efi_length_8_mamode_dema                           0.062508\npta_skew_length_9                                      0.057156\npta_kvo_fast_14_slow_12_signal_16_mamode_swma          0.056508\npta_chop_length_7_atr_length_12                        0.055898\npta_massi_fast_9_slow_10                               0.054966\npta_ad                                                 0.054514\npta_bop                                                0.053519\npta_kvo_fast_10_slow_7_signal_5_mamode_swma            0.053281\npta_stochrsi_length_19_rsi_length_13_k_15_d_16_...     0.051105\npta_pvo_fast_7_slow_6_signal_9                         0.050765\npta_fisher_length_21_signal_16                         0.048799\npta_psl_length_19                                      0.048727\npta_fisher_length_6_signal_8                           0.048536\npta_aroon_length_19                                    0.045566\npta_uo_fast_7_medium_6_slow_9                          0.044132\npta_pvol                                               0.042989\npta_increasing_length_16                               0.040158\npta_aroon_length_9                                     0.039038\npta_vhf_length_7                                       0.037643\npta_adx_length_16_lensig_13_mamode_dema                0.036751\npta_amat_fast_6_slow_9_lookback_5_mamode_trima         0.036258\npta_bbands_length_14_ddof_20_mamode_fwma               0.035894\npta_er_length_19                                       0.034405\npta_er_length_9                                        0.033435\npta_decreasing_length_9                                0.032254\npta_stc_tclength_7_fast_6_slow_9                       0.030493",
      "text/html": "<div>\n<style scoped>\n    .dataframe tbody tr th:only-of-type {\n        vertical-align: middle;\n    }\n\n    .dataframe tbody tr th {\n        vertical-align: top;\n    }\n\n    .dataframe thead th {\n        text-align: right;\n    }\n</style>\n<table border=\"1\" class=\"dataframe\">\n  <thead>\n    <tr style=\"text-align: right;\">\n      <th></th>\n      <th>Correlation</th>\n    </tr>\n  </thead>\n  <tbody>\n    <tr>\n      <th>pta_natr_length_16_mamode_fwma</th>\n      <td>0.210127</td>\n    </tr>\n    <tr>\n      <th>pta_pvi_length_7</th>\n      <td>0.161286</td>\n    </tr>\n    <tr>\n      <th>pta_ui_length_19</th>\n      <td>0.108430</td>\n    </tr>\n    <tr>\n      <th>pta_ui_length_9</th>\n      <td>0.107450</td>\n    </tr>\n    <tr>\n      <th>pta_bias_length_14_mamode_trima</th>\n      <td>0.101792</td>\n    </tr>\n    <tr>\n      <th>pta_bias_length_10_mamode_dema</th>\n      <td>0.096811</td>\n    </tr>\n    <tr>\n      <th>pta_coppock_length_22_fast_17_slow_18</th>\n      <td>0.093487</td>\n    </tr>\n    <tr>\n      <th>pta_roc_length_19</th>\n      <td>0.092823</td>\n    </tr>\n    <tr>\n      <th>pta_entropy_length_8</th>\n      <td>0.091081</td>\n    </tr>\n    <tr>\n      <th>pta_cfo_length_9</th>\n      <td>0.080032</td>\n    </tr>\n    <tr>\n      <th>pta_pvo_fast_17_slow_15_signal_19</th>\n      <td>0.073183</td>\n    </tr>\n    <tr>\n      <th>pta_uo_fast_21_medium_19_slow_21</th>\n      <td>0.071587</td>\n    </tr>\n    <tr>\n      <th>pta_adx_length_5_lensig_10_mamode_trima</th>\n      <td>0.069416</td>\n    </tr>\n    <tr>\n      <th>pta_adosc_fast_19_slow_21</th>\n      <td>0.069228</td>\n    </tr>\n    <tr>\n      <th>pta_skew_length_19</th>\n      <td>0.066108</td>\n    </tr>\n    <tr>\n      <th>pta_stochrsi_length_7_rsi_length_6_k_11_d_7_mamode_pwma</th>\n      <td>0.065401</td>\n    </tr>\n    <tr>\n      <th>pta_massi_fast_19_slow_21</th>\n      <td>0.064322</td>\n    </tr>\n    <tr>\n      <th>pta_chop_length_16_atr_length_24</th>\n      <td>0.063222</td>\n    </tr>\n    <tr>\n      <th>pta_stc_tclength_23_fast_21_slow_22</th>\n      <td>0.062955</td>\n    </tr>\n    <tr>\n      <th>pta_efi_length_8_mamode_dema</th>\n      <td>0.062508</td>\n    </tr>\n    <tr>\n      <th>pta_skew_length_9</th>\n      <td>0.057156</td>\n    </tr>\n    <tr>\n      <th>pta_kvo_fast_14_slow_12_signal_16_mamode_swma</th>\n      <td>0.056508</td>\n    </tr>\n    <tr>\n      <th>pta_chop_length_7_atr_length_12</th>\n      <td>0.055898</td>\n    </tr>\n    <tr>\n      <th>pta_massi_fast_9_slow_10</th>\n      <td>0.054966</td>\n    </tr>\n    <tr>\n      <th>pta_ad</th>\n      <td>0.054514</td>\n    </tr>\n    <tr>\n      <th>pta_bop</th>\n      <td>0.053519</td>\n    </tr>\n    <tr>\n      <th>pta_kvo_fast_10_slow_7_signal_5_mamode_swma</th>\n      <td>0.053281</td>\n    </tr>\n    <tr>\n      <th>pta_stochrsi_length_19_rsi_length_13_k_15_d_16_mamode_t3</th>\n      <td>0.051105</td>\n    </tr>\n    <tr>\n      <th>pta_pvo_fast_7_slow_6_signal_9</th>\n      <td>0.050765</td>\n    </tr>\n    <tr>\n      <th>pta_fisher_length_21_signal_16</th>\n      <td>0.048799</td>\n    </tr>\n    <tr>\n      <th>pta_psl_length_19</th>\n      <td>0.048727</td>\n    </tr>\n    <tr>\n      <th>pta_fisher_length_6_signal_8</th>\n      <td>0.048536</td>\n    </tr>\n    <tr>\n      <th>pta_aroon_length_19</th>\n      <td>0.045566</td>\n    </tr>\n    <tr>\n      <th>pta_uo_fast_7_medium_6_slow_9</th>\n      <td>0.044132</td>\n    </tr>\n    <tr>\n      <th>pta_pvol</th>\n      <td>0.042989</td>\n    </tr>\n    <tr>\n      <th>pta_increasing_length_16</th>\n      <td>0.040158</td>\n    </tr>\n    <tr>\n      <th>pta_aroon_length_9</th>\n      <td>0.039038</td>\n    </tr>\n    <tr>\n      <th>pta_vhf_length_7</th>\n      <td>0.037643</td>\n    </tr>\n    <tr>\n      <th>pta_adx_length_16_lensig_13_mamode_dema</th>\n      <td>0.036751</td>\n    </tr>\n    <tr>\n      <th>pta_amat_fast_6_slow_9_lookback_5_mamode_trima</th>\n      <td>0.036258</td>\n    </tr>\n    <tr>\n      <th>pta_bbands_length_14_ddof_20_mamode_fwma</th>\n      <td>0.035894</td>\n    </tr>\n    <tr>\n      <th>pta_er_length_19</th>\n      <td>0.034405</td>\n    </tr>\n    <tr>\n      <th>pta_er_length_9</th>\n      <td>0.033435</td>\n    </tr>\n    <tr>\n      <th>pta_decreasing_length_9</th>\n      <td>0.032254</td>\n    </tr>\n    <tr>\n      <th>pta_stc_tclength_7_fast_6_slow_9</th>\n      <td>0.030493</td>\n    </tr>\n  </tbody>\n</table>\n</div>"
     },
     "execution_count": 211,
     "metadata": {},
     "output_type": "execute_result"
    }
   ],
   "source": [
    "indicators_corr_df =  tt.t_corr[tt.t_corr['Correlation'] > 0.03]\n",
    "indicators_corr_df"
   ],
   "metadata": {
    "collapsed": false,
    "ExecuteTime": {
     "end_time": "2024-11-24T10:25:22.459787Z",
     "start_time": "2024-11-24T10:25:22.431893Z"
    }
   },
   "id": "e024a6f9c7315ecc",
   "execution_count": 211
  },
  {
   "cell_type": "code",
   "outputs": [
    {
     "data": {
      "text/plain": "['pta_natr_length_16_mamode_fwma',\n 'pta_pvi_length_7',\n 'pta_ui_length_19',\n 'pta_ui_length_9',\n 'pta_bias_length_14_mamode_trima',\n 'pta_bias_length_10_mamode_dema',\n 'pta_coppock_length_22_fast_17_slow_18',\n 'pta_roc_length_19',\n 'pta_entropy_length_8',\n 'pta_cfo_length_9',\n 'pta_pvo_fast_17_slow_15_signal_19',\n 'pta_uo_fast_21_medium_19_slow_21',\n 'pta_adx_length_5_lensig_10_mamode_trima',\n 'pta_adosc_fast_19_slow_21',\n 'pta_skew_length_19',\n 'pta_stochrsi_length_7_rsi_length_6_k_11_d_7_mamode_pwma',\n 'pta_massi_fast_19_slow_21',\n 'pta_chop_length_16_atr_length_24',\n 'pta_stc_tclength_23_fast_21_slow_22',\n 'pta_efi_length_8_mamode_dema',\n 'pta_skew_length_9',\n 'pta_kvo_fast_14_slow_12_signal_16_mamode_swma',\n 'pta_chop_length_7_atr_length_12',\n 'pta_massi_fast_9_slow_10',\n 'pta_ad',\n 'pta_bop',\n 'pta_kvo_fast_10_slow_7_signal_5_mamode_swma',\n 'pta_stochrsi_length_19_rsi_length_13_k_15_d_16_mamode_t3',\n 'pta_pvo_fast_7_slow_6_signal_9',\n 'pta_fisher_length_21_signal_16',\n 'pta_psl_length_19',\n 'pta_fisher_length_6_signal_8',\n 'pta_aroon_length_19',\n 'pta_uo_fast_7_medium_6_slow_9',\n 'pta_pvol',\n 'pta_increasing_length_16',\n 'pta_aroon_length_9',\n 'pta_vhf_length_7',\n 'pta_adx_length_16_lensig_13_mamode_dema',\n 'pta_amat_fast_6_slow_9_lookback_5_mamode_trima',\n 'pta_bbands_length_14_ddof_20_mamode_fwma',\n 'pta_er_length_19',\n 'pta_er_length_9',\n 'pta_decreasing_length_9',\n 'pta_stc_tclength_7_fast_6_slow_9']"
     },
     "execution_count": 212,
     "metadata": {},
     "output_type": "execute_result"
    }
   ],
   "source": [
    "indicator_with_params_list = indicators_corr_df.index.to_list()\n",
    "indicator_with_params_list"
   ],
   "metadata": {
    "collapsed": false,
    "ExecuteTime": {
     "end_time": "2024-11-24T10:25:23.225872Z",
     "start_time": "2024-11-24T10:25:23.198738Z"
    }
   },
   "id": "d5e5216a57ce7110",
   "execution_count": 212
  },
  {
   "cell_type": "code",
   "outputs": [],
   "source": [
    "def generate_function_eval_string(indicator_params_str: str) -> str:\n",
    "    indicator_params_list = indicator_params_str.split('_')\n",
    "    first_param_name = ''\n",
    "    \n",
    "    for i, v in enumerate(indicator_params_list):\n",
    "        if v.isdigit():\n",
    "            first_param_name = indicator_params_list[i-1]\n",
    "            break\n",
    "        elif v == 'mamode':\n",
    "            first_param_name = indicator_params_list[i]\n",
    "            break\n",
    "            \n",
    "    if first_param_name == '':\n",
    "        return f'ta.{indicator_params_str[4:]}()'\n",
    "            \n",
    "    indicator_name = indicator_params_str[4:indicator_params_str.index(first_param_name)-1]\n",
    "    indicator_params = indicator_params_str[indicator_params_str.index(first_param_name):]\n",
    "    \n",
    "    indicator_params_list = indicator_params.split('_')\n",
    "    indicator_params_str = ''\n",
    "    \n",
    "    for i, indicator_param in enumerate(indicator_params_list):\n",
    "        indicator_params_str += indicator_param\n",
    "        if indicator_param.isdigit():\n",
    "            indicator_params_str += ','\n",
    "        elif i < len(indicator_params_list) - 1 and indicator_params_list[i+1] in ['length', 'lookback']:\n",
    "            indicator_params_str += '_'\n",
    "        elif indicator_param not in ['mamode', 'sma1', 'sma2', 'sma3', 'sma4'] and 'ma' in indicator_param:\n",
    "            indicator_params_str += ','\n",
    "        else:\n",
    "            indicator_params_str += '='\n",
    "    indicator_params_str = indicator_params_str[:-1]\n",
    "    \n",
    "    if 'mamode=' in indicator_params_str:\n",
    "        mamode_index = indicator_params_str.index('mamode')\n",
    "        mamode_value = indicator_params_str[mamode_index+7:]\n",
    "        indicator_params_str = str.replace(indicator_params_str, mamode_value, f\"'{mamode_value}'\")\n",
    "    \n",
    "    return f'ta.{indicator_name}({indicator_params_str})'"
   ],
   "metadata": {
    "collapsed": false,
    "ExecuteTime": {
     "end_time": "2024-11-24T10:25:24.435637Z",
     "start_time": "2024-11-24T10:25:24.420547Z"
    }
   },
   "id": "69874d76bdefd6c1",
   "execution_count": 213
  },
  {
   "cell_type": "code",
   "outputs": [
    {
     "name": "stdout",
     "output_type": "stream",
     "text": [
      "ta.natr(length=16,mamode='fwma')\n",
      "ta.pvi(length=7)\n",
      "ta.ui(length=19)\n",
      "ta.ui(length=9)\n",
      "ta.bias(length=14,mamode='trima')\n",
      "ta.bias(length=10,mamode='dema')\n",
      "ta.coppock(length=22,fast=17,slow=18)\n",
      "ta.roc(length=19)\n",
      "ta.entropy(length=8)\n",
      "ta.cfo(length=9)\n",
      "ta.pvo(fast=17,slow=15,signal=19)\n",
      "ta.uo(fast=21,medium=19,slow=21)\n",
      "ta.adx(length=5,lensig=10,mamode='trima')\n",
      "ta.adosc(fast=19,slow=21)\n",
      "ta.skew(length=19)\n",
      "ta.stochrsi(length=7,rsi_length=6,k=11,d=7,mamode='pwma')\n",
      "ta.massi(fast=19,slow=21)\n",
      "ta.chop(length=16,atr_length=24)\n",
      "ta.stc(tclength=23,fast=21,slow=22)\n",
      "ta.efi(length=8,mamode='dema')\n",
      "ta.skew(length=9)\n",
      "ta.kvo(fast=14,slow=12,signal=16,mamode='swma')\n",
      "ta.chop(length=7,atr_length=12)\n",
      "ta.massi(fast=9,slow=10)\n",
      "ta.ad()\n",
      "ta.bop()\n",
      "ta.kvo(fast=10,slow=7,signal=5,mamode='swma')\n",
      "ta.stochrsi(length=19,rsi_length=13,k=15,d=16,mamode='t3')\n",
      "ta.pvo(fast=7,slow=6,signal=9)\n",
      "ta.fisher(length=21,signal=16)\n",
      "ta.psl(length=19)\n",
      "ta.fisher(length=6,signal=8)\n",
      "ta.aroon(length=19)\n",
      "ta.uo(fast=7,medium=6,slow=9)\n",
      "ta.pvol()\n",
      "ta.increasing(length=16)\n",
      "ta.aroon(length=9)\n",
      "ta.vhf(length=7)\n",
      "ta.adx(length=16,lensig=13,mamode='dema')\n",
      "ta.amat(fast=6,slow=9,lookback=5,mamode='trima')\n",
      "ta.bbands(length=14,ddof=20,mamode='fwma')\n",
      "ta.er(length=19)\n",
      "ta.er(length=9)\n",
      "ta.decreasing(length=9)\n",
      "ta.stc(tclength=7,fast=6,slow=9)\n"
     ]
    },
    {
     "data": {
      "text/plain": "{'NATR_16': 'pta_natr_length_16_mamode_fwma',\n 'PVI_7': 'pta_pvi_length_7',\n 'UI_19': 'pta_ui_length_19',\n 'UI_9': 'pta_ui_length_9',\n 'BIAS_TRIMA_14': 'pta_bias_length_14_mamode_trima',\n 'BIAS_DEMA_10': 'pta_bias_length_10_mamode_dema',\n 'COPC_17_18_22': 'pta_coppock_length_22_fast_17_slow_18',\n 'ROC_19': 'pta_roc_length_19',\n 'ENTP_8': 'pta_entropy_length_8',\n 'CFO_9': 'pta_cfo_length_9',\n 'PVO_15_17_19': 'pta_pvo_fast_17_slow_15_signal_19',\n 'PVOh_15_17_19': 'pta_pvo_fast_17_slow_15_signal_19',\n 'PVOs_15_17_19': 'pta_pvo_fast_17_slow_15_signal_19',\n 'UO_21_19_21': 'pta_uo_fast_21_medium_19_slow_21',\n 'ADX_10': 'pta_adx_length_5_lensig_10_mamode_trima',\n 'DMP_5': 'pta_adx_length_5_lensig_10_mamode_trima',\n 'DMN_5': 'pta_adx_length_5_lensig_10_mamode_trima',\n 'ADOSC_19_21': 'pta_adosc_fast_19_slow_21',\n 'SKEW_19': 'pta_skew_length_19',\n 'STOCHRSIk_7_6_11_7': 'pta_stochrsi_length_7_rsi_length_6_k_11_d_7_mamode_pwma',\n 'STOCHRSId_7_6_11_7': 'pta_stochrsi_length_7_rsi_length_6_k_11_d_7_mamode_pwma',\n 'MASSI_19_21': 'pta_massi_fast_19_slow_21',\n 'CHOP_16_24_100': 'pta_chop_length_16_atr_length_24',\n 'STC_23_21_22_0.5': 'pta_stc_tclength_23_fast_21_slow_22',\n 'STCmacd_23_21_22_0.5': 'pta_stc_tclength_23_fast_21_slow_22',\n 'STCstoch_23_21_22_0.5': 'pta_stc_tclength_23_fast_21_slow_22',\n 'EFI_8': 'pta_efi_length_8_mamode_dema',\n 'SKEW_9': 'pta_skew_length_9',\n 'KVO_14_12_16': 'pta_kvo_fast_14_slow_12_signal_16_mamode_swma',\n 'KVOs_14_12_16': 'pta_kvo_fast_14_slow_12_signal_16_mamode_swma',\n 'CHOP_7_12_100': 'pta_chop_length_7_atr_length_12',\n 'MASSI_9_10': 'pta_massi_fast_9_slow_10',\n 'AD': 'pta_ad',\n 'BOP': 'pta_bop',\n 'KVO_10_7_5': 'pta_kvo_fast_10_slow_7_signal_5_mamode_swma',\n 'KVOs_10_7_5': 'pta_kvo_fast_10_slow_7_signal_5_mamode_swma',\n 'STOCHRSIk_19_13_15_16': 'pta_stochrsi_length_19_rsi_length_13_k_15_d_16_mamode_t3',\n 'STOCHRSId_19_13_15_16': 'pta_stochrsi_length_19_rsi_length_13_k_15_d_16_mamode_t3',\n 'PVO_6_7_9': 'pta_pvo_fast_7_slow_6_signal_9',\n 'PVOh_6_7_9': 'pta_pvo_fast_7_slow_6_signal_9',\n 'PVOs_6_7_9': 'pta_pvo_fast_7_slow_6_signal_9',\n 'FISHERT_21_16': 'pta_fisher_length_21_signal_16',\n 'FISHERTs_21_16': 'pta_fisher_length_21_signal_16',\n 'PSL_19': 'pta_psl_length_19',\n 'FISHERT_6_8': 'pta_fisher_length_6_signal_8',\n 'FISHERTs_6_8': 'pta_fisher_length_6_signal_8',\n 'AROOND_19': 'pta_aroon_length_19',\n 'AROONU_19': 'pta_aroon_length_19',\n 'AROONOSC_19': 'pta_aroon_length_19',\n 'UO_7_6_9': 'pta_uo_fast_7_medium_6_slow_9',\n 'PVOL': 'pta_pvol',\n 'INC_16': 'pta_increasing_length_16',\n 'AROOND_9': 'pta_aroon_length_9',\n 'AROONU_9': 'pta_aroon_length_9',\n 'AROONOSC_9': 'pta_aroon_length_9',\n 'VHF_7': 'pta_vhf_length_7',\n 'ADX_13': 'pta_adx_length_16_lensig_13_mamode_dema',\n 'DMP_16': 'pta_adx_length_16_lensig_13_mamode_dema',\n 'DMN_16': 'pta_adx_length_16_lensig_13_mamode_dema',\n 'AMATt_LR_6_9_5': 'pta_amat_fast_6_slow_9_lookback_5_mamode_trima',\n 'AMATt_SR_6_9_5': 'pta_amat_fast_6_slow_9_lookback_5_mamode_trima',\n 'BBL_14_2.0': 'pta_bbands_length_14_ddof_20_mamode_fwma',\n 'BBM_14_2.0': 'pta_bbands_length_14_ddof_20_mamode_fwma',\n 'BBU_14_2.0': 'pta_bbands_length_14_ddof_20_mamode_fwma',\n 'BBB_14_2.0': 'pta_bbands_length_14_ddof_20_mamode_fwma',\n 'BBP_14_2.0': 'pta_bbands_length_14_ddof_20_mamode_fwma',\n 'ER_19': 'pta_er_length_19',\n 'ER_9': 'pta_er_length_9',\n 'DEC_9': 'pta_decreasing_length_9',\n 'STC_7_6_9_0.5': 'pta_stc_tclength_7_fast_6_slow_9',\n 'STCmacd_7_6_9_0.5': 'pta_stc_tclength_7_fast_6_slow_9',\n 'STCstoch_7_6_9_0.5': 'pta_stc_tclength_7_fast_6_slow_9'}"
     },
     "execution_count": 214,
     "metadata": {},
     "output_type": "execute_result"
    }
   ],
   "source": [
    "# Dynamic calculate indicators\n",
    "import pandas_ta as ta\n",
    "factors_df_dict = {}\n",
    "pta_function_factors_dict = {}\n",
    "open_df = pd.DataFrame()\n",
    "\n",
    "# indicator_with_params_list.remove('pta_tos_stdevall_length_7_ddof_7')\n",
    "\n",
    "for key, value in candles_dict.items():\n",
    "    candles = value.copy()\n",
    "    candles.reset_index(inplace=True)\n",
    "    candles.set_index(['date'], inplace=True)\n",
    "    if len(factors_df_dict.keys()) == 0:\n",
    "        open_df_temp = candles['open'].to_frame()\n",
    "        open_df_temp.columns = [key]\n",
    "        open_df = open_df_temp\n",
    "        for indicator_with_params in indicator_with_params_list:\n",
    "            eval_string = generate_function_eval_string(indicator_with_params)\n",
    "            print(eval_string)\n",
    "            eval_result = eval(f'candles.{eval_string}')\n",
    "            if type(eval_result) == pd.Series:\n",
    "                eval_result = eval_result.to_frame()\n",
    "            factors_names = eval_result.columns.tolist()\n",
    "            for factor_name in factors_names:\n",
    "                pta_function_factors_dict[factor_name] = indicator_with_params\n",
    "            for factor_name in factors_names:\n",
    "                single_factor = eval_result[factor_name].to_frame()\n",
    "                single_factor.columns = [key]\n",
    "                factors_df_dict[factor_name] = single_factor\n",
    "    else:\n",
    "        open_df_temp = candles['open'].to_frame()\n",
    "        open_df_temp.columns = [key]\n",
    "        open_df = open_df.join(open_df_temp)\n",
    "        for indicator_with_params in indicator_with_params_list:\n",
    "            eval_string = generate_function_eval_string(indicator_with_params)\n",
    "            eval_result = eval(f'candles.{eval_string}')\n",
    "            if type(eval_result) == pd.Series:\n",
    "                eval_result = eval_result.to_frame()\n",
    "            factors_names = eval_result.columns.tolist()\n",
    "            for factor_name in factors_names:\n",
    "                single_factor = eval_result[factor_name].to_frame()\n",
    "                single_factor.columns = [key]\n",
    "                factors_df_dict[factor_name] = factors_df_dict[factor_name].join(single_factor)\n",
    "                \n",
    "pta_function_factors_dict"
   ],
   "metadata": {
    "collapsed": false,
    "ExecuteTime": {
     "end_time": "2024-11-24T10:25:35.390651Z",
     "start_time": "2024-11-24T10:25:25.265365Z"
    }
   },
   "id": "14b2670410878349",
   "execution_count": 214
  },
  {
   "cell_type": "code",
   "outputs": [
    {
     "data": {
      "text/plain": "dict_keys(['NATR_16', 'PVI_7', 'UI_19', 'UI_9', 'BIAS_TRIMA_14', 'BIAS_DEMA_10', 'COPC_17_18_22', 'ROC_19', 'ENTP_8', 'CFO_9', 'PVO_15_17_19', 'PVOh_15_17_19', 'PVOs_15_17_19', 'UO_21_19_21', 'ADX_10', 'DMP_5', 'DMN_5', 'ADOSC_19_21', 'SKEW_19', 'STOCHRSIk_7_6_11_7', 'STOCHRSId_7_6_11_7', 'MASSI_19_21', 'CHOP_16_24_100', 'STC_23_21_22_0.5', 'STCmacd_23_21_22_0.5', 'STCstoch_23_21_22_0.5', 'EFI_8', 'SKEW_9', 'KVO_14_12_16', 'KVOs_14_12_16', 'CHOP_7_12_100', 'MASSI_9_10', 'AD', 'BOP', 'KVO_10_7_5', 'KVOs_10_7_5', 'STOCHRSIk_19_13_15_16', 'STOCHRSId_19_13_15_16', 'PVO_6_7_9', 'PVOh_6_7_9', 'PVOs_6_7_9', 'FISHERT_21_16', 'FISHERTs_21_16', 'PSL_19', 'FISHERT_6_8', 'FISHERTs_6_8', 'AROOND_19', 'AROONU_19', 'AROONOSC_19', 'UO_7_6_9', 'PVOL', 'INC_16', 'AROOND_9', 'AROONU_9', 'AROONOSC_9', 'VHF_7', 'ADX_13', 'DMP_16', 'DMN_16', 'AMATt_LR_6_9_5', 'AMATt_SR_6_9_5', 'BBL_14_2.0', 'BBM_14_2.0', 'BBU_14_2.0', 'BBB_14_2.0', 'BBP_14_2.0', 'ER_19', 'ER_9', 'DEC_9', 'STC_7_6_9_0.5', 'STCmacd_7_6_9_0.5', 'STCstoch_7_6_9_0.5'])"
     },
     "execution_count": 215,
     "metadata": {},
     "output_type": "execute_result"
    }
   ],
   "source": [
    "from user_data.notebooks.factor_analysis_helper import standardize\n",
    "\n",
    "# Standardize Factor\n",
    "\n",
    "standardized_factors_df_dict = {}\n",
    "for key in factors_df_dict.keys():\n",
    "    standardized_factors_df_dict[key] = standardize(factors_df_dict[key])\n",
    "\n",
    "standardized_factors_df_dict.keys()"
   ],
   "metadata": {
    "collapsed": false,
    "ExecuteTime": {
     "end_time": "2024-11-24T10:25:38.354218Z",
     "start_time": "2024-11-24T10:25:38.256482Z"
    }
   },
   "id": "a148e7fc60cd879d",
   "execution_count": 215
  },
  {
   "cell_type": "code",
   "outputs": [
    {
     "data": {
      "text/plain": "['NATR_16',\n 'BIAS_TRIMA_14',\n 'BIAS_DEMA_10',\n 'ROC_19',\n 'ENTP_8',\n 'CFO_9',\n 'DMP_5',\n 'DMN_5',\n 'EFI_8',\n 'BOP',\n 'AROONOSC_19',\n 'DMP_16',\n 'DMN_16',\n 'BBP_14_2.0']"
     },
     "execution_count": 216,
     "metadata": {},
     "output_type": "execute_result"
    }
   ],
   "source": [
    "from user_data.notebooks.factor_analysis_helper import Quick_Factor_Return_N_IC\n",
    "\n",
    "# IC IR Checking\n",
    "factor_icir_result = {}\n",
    "factors_icir_report_dict = {}\n",
    "icir_factors_list = []\n",
    "\n",
    "for key in standardized_factors_df_dict.keys():\n",
    "    factor_icir_result[key], factors_icir_report_dict[key] = Quick_Factor_Return_N_IC(standardized_factors_df_dict[key], open_df, 1, key, '1h')\n",
    "    # if 'TOS_STDEVALL' in key:\n",
    "    #     continue\n",
    "    if abs(factors_icir_report_dict[key]['IC mean']) > 0.02 or abs(factors_icir_report_dict[key]['IR']) > 0.2:\n",
    "        icir_factors_list.append(key)\n",
    "\n",
    "icir_factors_list\n",
    "        "
   ],
   "metadata": {
    "collapsed": false,
    "ExecuteTime": {
     "end_time": "2024-11-24T10:25:46.236560Z",
     "start_time": "2024-11-24T10:25:39.670390Z"
    }
   },
   "id": "ec521b4a7fe5867e",
   "execution_count": 216
  },
  {
   "cell_type": "code",
   "outputs": [
    {
     "data": {
      "text/plain": "{'NATR_16': -0.0283,\n 'BIAS_TRIMA_14': -0.0445,\n 'BIAS_DEMA_10': -0.0527,\n 'ROC_19': -0.0296,\n 'ENTP_8': -0.0202,\n 'CFO_9': -0.0485,\n 'DMP_5': -0.0219,\n 'DMN_5': 0.0249,\n 'EFI_8': -0.0422,\n 'BOP': -0.0442,\n 'AROONOSC_19': -0.0202,\n 'DMP_16': -0.0297,\n 'DMN_16': 0.0296,\n 'BBP_14_2.0': -0.0438}"
     },
     "execution_count": 217,
     "metadata": {},
     "output_type": "execute_result"
    }
   ],
   "source": [
    "factor_ic_map = {}\n",
    "for key, value in factors_icir_report_dict.items():\n",
    "    if key in icir_factors_list:\n",
    "        factor_ic_map[key] = value['IC mean']\n",
    "\n",
    "factor_ic_map"
   ],
   "metadata": {
    "collapsed": false,
    "ExecuteTime": {
     "end_time": "2024-11-24T10:25:59.911362Z",
     "start_time": "2024-11-24T10:25:59.888379Z"
    }
   },
   "id": "76635aab130f4349",
   "execution_count": 217
  },
  {
   "cell_type": "code",
   "outputs": [
    {
     "name": "stdout",
     "output_type": "stream",
     "text": [
      "---\n",
      "NATR_16\n",
      "---\n",
      " 当前：702 / 总量：704    weekly_ret  group\n",
      "G1   -0.029871      1\n",
      "G2   -0.000274      2\n",
      "G3    0.011686      3\n",
      "G4    0.007438      4\n",
      "G5    0.008529      5\n",
      "0.7\n",
      "---\n",
      "BIAS_TRIMA_14\n",
      "---\n",
      " 当前：705 / 总量：707    weekly_ret  group\n",
      "G1    0.006143      1\n",
      "G2    0.001845      2\n",
      "G3    0.005809      3\n",
      "G4   -0.011908      4\n",
      "G5   -0.004232      5\n",
      "-0.8\n",
      "---\n",
      "BIAS_DEMA_10\n",
      "---\n",
      " 当前：680 / 总量：702"
     ]
    },
    {
     "ename": "KeyboardInterrupt",
     "evalue": "",
     "output_type": "error",
     "traceback": [
      "\u001B[0;31m---------------------------------------------------------------------------\u001B[0m",
      "\u001B[0;31mKeyboardInterrupt\u001B[0m                         Traceback (most recent call last)",
      "Cell \u001B[0;32mIn[218], line 16\u001B[0m\n\u001B[1;32m     13\u001B[0m \u001B[38;5;66;03m# if key == 'TTM_TRND_9':\u001B[39;00m\n\u001B[1;32m     14\u001B[0m \u001B[38;5;66;03m#     continue\u001B[39;00m\n\u001B[1;32m     15\u001B[0m \u001B[38;5;28;01mtry\u001B[39;00m:\n\u001B[0;32m---> 16\u001B[0m     group_weekly_ret_dict[key], group_corr_dict[key] \u001B[38;5;241m=\u001B[39m Factor_Group_Analysis(standardized_factors_df_dict[key]\u001B[38;5;241m.\u001B[39mdropna(), open_df, \u001B[38;5;241m5\u001B[39m, \u001B[38;5;241m1\u001B[39m, key)\n\u001B[1;32m     17\u001B[0m \u001B[38;5;28;01mexcept\u001B[39;00m \u001B[38;5;167;01mException\u001B[39;00m \u001B[38;5;28;01mas\u001B[39;00m e:\n\u001B[1;32m     18\u001B[0m     \u001B[38;5;28;01mcontinue\u001B[39;00m\n",
      "File \u001B[0;32m~/SourceCode/freqtrade/user_data/notebooks/factor_analysis_helper.py:75\u001B[0m, in \u001B[0;36mFactor_Group_Analysis\u001B[0;34m(factor_df, open_df, group_count, change_position_period, factor_name)\u001B[0m\n\u001B[1;32m     72\u001B[0m group_return_temp \u001B[38;5;241m=\u001B[39m []\n\u001B[1;32m     73\u001B[0m \u001B[38;5;28;01mfor\u001B[39;00m j \u001B[38;5;129;01min\u001B[39;00m \u001B[38;5;28mrange\u001B[39m(\u001B[38;5;241m1\u001B[39m, group_count \u001B[38;5;241m+\u001B[39m \u001B[38;5;241m1\u001B[39m):\n\u001B[1;32m     74\u001B[0m     group_return_temp\u001B[38;5;241m.\u001B[39mappend(\n\u001B[0;32m---> 75\u001B[0m         period[period\u001B[38;5;241m.\u001B[39mpair\u001B[38;5;241m.\u001B[39misin(group_dict[j])]\u001B[38;5;241m.\u001B[39mset_index([\u001B[38;5;124m'\u001B[39m\u001B[38;5;124mdate\u001B[39m\u001B[38;5;124m'\u001B[39m, \u001B[38;5;124m'\u001B[39m\u001B[38;5;124mpair\u001B[39m\u001B[38;5;124m'\u001B[39m])\u001B[38;5;241m.\u001B[39mcurrent_return\u001B[38;5;241m.\u001B[39munstack(\u001B[38;5;124m'\u001B[39m\u001B[38;5;124mpair\u001B[39m\u001B[38;5;124m'\u001B[39m)\u001B[38;5;241m.\u001B[39mmean(\n\u001B[1;32m     76\u001B[0m             axis\u001B[38;5;241m=\u001B[39m\u001B[38;5;241m1\u001B[39m))\n\u001B[1;32m     77\u001B[0m group_return \u001B[38;5;241m=\u001B[39m pd\u001B[38;5;241m.\u001B[39mconcat([group_return, pd\u001B[38;5;241m.\u001B[39mDataFrame(group_return_temp, index\u001B[38;5;241m=\u001B[39m[\u001B[38;5;124m'\u001B[39m\u001B[38;5;124mG\u001B[39m\u001B[38;5;132;01m{}\u001B[39;00m\u001B[38;5;124m'\u001B[39m\u001B[38;5;241m.\u001B[39mformat(j) \u001B[38;5;28;01mfor\u001B[39;00m j \u001B[38;5;129;01min\u001B[39;00m \u001B[38;5;28mlist\u001B[39m(\n\u001B[1;32m     78\u001B[0m     \u001B[38;5;28mrange\u001B[39m(\u001B[38;5;241m1\u001B[39m, group_count \u001B[38;5;241m+\u001B[39m \u001B[38;5;241m1\u001B[39m))])\u001B[38;5;241m.\u001B[39mT], axis\u001B[38;5;241m=\u001B[39m\u001B[38;5;241m0\u001B[39m)\n\u001B[1;32m     79\u001B[0m \u001B[38;5;28mprint\u001B[39m(\u001B[38;5;124m'\u001B[39m\u001B[38;5;130;01m\\r\u001B[39;00m\u001B[38;5;124m 当前：\u001B[39m\u001B[38;5;132;01m{}\u001B[39;00m\u001B[38;5;124m / 总量：\u001B[39m\u001B[38;5;132;01m{}\u001B[39;00m\u001B[38;5;124m'\u001B[39m\u001B[38;5;241m.\u001B[39mformat(i, \u001B[38;5;28mlen\u001B[39m(datetime_period)), end\u001B[38;5;241m=\u001B[39m\u001B[38;5;124m'\u001B[39m\u001B[38;5;124m'\u001B[39m)\n",
      "File \u001B[0;32m~/anaconda3/lib/python3.11/site-packages/pandas/core/frame.py:4081\u001B[0m, in \u001B[0;36mDataFrame.__getitem__\u001B[0;34m(self, key)\u001B[0m\n\u001B[1;32m   4079\u001B[0m \u001B[38;5;66;03m# Do we have a (boolean) 1d indexer?\u001B[39;00m\n\u001B[1;32m   4080\u001B[0m \u001B[38;5;28;01mif\u001B[39;00m com\u001B[38;5;241m.\u001B[39mis_bool_indexer(key):\n\u001B[0;32m-> 4081\u001B[0m     \u001B[38;5;28;01mreturn\u001B[39;00m \u001B[38;5;28mself\u001B[39m\u001B[38;5;241m.\u001B[39m_getitem_bool_array(key)\n\u001B[1;32m   4083\u001B[0m \u001B[38;5;66;03m# We are left with two options: a single key, and a collection of keys,\u001B[39;00m\n\u001B[1;32m   4084\u001B[0m \u001B[38;5;66;03m# We interpret tuples as collections only for non-MultiIndex\u001B[39;00m\n\u001B[1;32m   4085\u001B[0m is_single_key \u001B[38;5;241m=\u001B[39m \u001B[38;5;28misinstance\u001B[39m(key, \u001B[38;5;28mtuple\u001B[39m) \u001B[38;5;129;01mor\u001B[39;00m \u001B[38;5;129;01mnot\u001B[39;00m is_list_like(key)\n",
      "File \u001B[0;32m~/anaconda3/lib/python3.11/site-packages/pandas/core/frame.py:4143\u001B[0m, in \u001B[0;36mDataFrame._getitem_bool_array\u001B[0;34m(self, key)\u001B[0m\n\u001B[1;32m   4140\u001B[0m     \u001B[38;5;28;01mreturn\u001B[39;00m \u001B[38;5;28mself\u001B[39m\u001B[38;5;241m.\u001B[39mcopy(deep\u001B[38;5;241m=\u001B[39m\u001B[38;5;28;01mNone\u001B[39;00m)\n\u001B[1;32m   4142\u001B[0m indexer \u001B[38;5;241m=\u001B[39m key\u001B[38;5;241m.\u001B[39mnonzero()[\u001B[38;5;241m0\u001B[39m]\n\u001B[0;32m-> 4143\u001B[0m \u001B[38;5;28;01mreturn\u001B[39;00m \u001B[38;5;28mself\u001B[39m\u001B[38;5;241m.\u001B[39m_take_with_is_copy(indexer, axis\u001B[38;5;241m=\u001B[39m\u001B[38;5;241m0\u001B[39m)\n",
      "File \u001B[0;32m~/anaconda3/lib/python3.11/site-packages/pandas/core/generic.py:4150\u001B[0m, in \u001B[0;36mNDFrame._take_with_is_copy\u001B[0;34m(self, indices, axis)\u001B[0m\n\u001B[1;32m   4139\u001B[0m \u001B[38;5;129m@final\u001B[39m\n\u001B[1;32m   4140\u001B[0m \u001B[38;5;28;01mdef\u001B[39;00m \u001B[38;5;21m_take_with_is_copy\u001B[39m(\u001B[38;5;28mself\u001B[39m, indices, axis: Axis \u001B[38;5;241m=\u001B[39m \u001B[38;5;241m0\u001B[39m) \u001B[38;5;241m-\u001B[39m\u001B[38;5;241m>\u001B[39m Self:\n\u001B[1;32m   4141\u001B[0m \u001B[38;5;250m    \u001B[39m\u001B[38;5;124;03m\"\"\"\u001B[39;00m\n\u001B[1;32m   4142\u001B[0m \u001B[38;5;124;03m    Internal version of the `take` method that sets the `_is_copy`\u001B[39;00m\n\u001B[1;32m   4143\u001B[0m \u001B[38;5;124;03m    attribute to keep track of the parent dataframe (using in indexing\u001B[39;00m\n\u001B[0;32m   (...)\u001B[0m\n\u001B[1;32m   4148\u001B[0m \u001B[38;5;124;03m    See the docstring of `take` for full explanation of the parameters.\u001B[39;00m\n\u001B[1;32m   4149\u001B[0m \u001B[38;5;124;03m    \"\"\"\u001B[39;00m\n\u001B[0;32m-> 4150\u001B[0m     result \u001B[38;5;241m=\u001B[39m \u001B[38;5;28mself\u001B[39m\u001B[38;5;241m.\u001B[39mtake(indices\u001B[38;5;241m=\u001B[39mindices, axis\u001B[38;5;241m=\u001B[39maxis)\n\u001B[1;32m   4151\u001B[0m     \u001B[38;5;66;03m# Maybe set copy if we didn't actually change the index.\u001B[39;00m\n\u001B[1;32m   4152\u001B[0m     \u001B[38;5;28;01mif\u001B[39;00m \u001B[38;5;28mself\u001B[39m\u001B[38;5;241m.\u001B[39mndim \u001B[38;5;241m==\u001B[39m \u001B[38;5;241m2\u001B[39m \u001B[38;5;129;01mand\u001B[39;00m \u001B[38;5;129;01mnot\u001B[39;00m result\u001B[38;5;241m.\u001B[39m_get_axis(axis)\u001B[38;5;241m.\u001B[39mequals(\u001B[38;5;28mself\u001B[39m\u001B[38;5;241m.\u001B[39m_get_axis(axis)):\n",
      "File \u001B[0;32m~/anaconda3/lib/python3.11/site-packages/pandas/core/generic.py:4130\u001B[0m, in \u001B[0;36mNDFrame.take\u001B[0;34m(self, indices, axis, **kwargs)\u001B[0m\n\u001B[1;32m   4125\u001B[0m     \u001B[38;5;66;03m# We can get here with a slice via DataFrame.__getitem__\u001B[39;00m\n\u001B[1;32m   4126\u001B[0m     indices \u001B[38;5;241m=\u001B[39m np\u001B[38;5;241m.\u001B[39marange(\n\u001B[1;32m   4127\u001B[0m         indices\u001B[38;5;241m.\u001B[39mstart, indices\u001B[38;5;241m.\u001B[39mstop, indices\u001B[38;5;241m.\u001B[39mstep, dtype\u001B[38;5;241m=\u001B[39mnp\u001B[38;5;241m.\u001B[39mintp\n\u001B[1;32m   4128\u001B[0m     )\n\u001B[0;32m-> 4130\u001B[0m new_data \u001B[38;5;241m=\u001B[39m \u001B[38;5;28mself\u001B[39m\u001B[38;5;241m.\u001B[39m_mgr\u001B[38;5;241m.\u001B[39mtake(\n\u001B[1;32m   4131\u001B[0m     indices,\n\u001B[1;32m   4132\u001B[0m     axis\u001B[38;5;241m=\u001B[39m\u001B[38;5;28mself\u001B[39m\u001B[38;5;241m.\u001B[39m_get_block_manager_axis(axis),\n\u001B[1;32m   4133\u001B[0m     verify\u001B[38;5;241m=\u001B[39m\u001B[38;5;28;01mTrue\u001B[39;00m,\n\u001B[1;32m   4134\u001B[0m )\n\u001B[1;32m   4135\u001B[0m \u001B[38;5;28;01mreturn\u001B[39;00m \u001B[38;5;28mself\u001B[39m\u001B[38;5;241m.\u001B[39m_constructor_from_mgr(new_data, axes\u001B[38;5;241m=\u001B[39mnew_data\u001B[38;5;241m.\u001B[39maxes)\u001B[38;5;241m.\u001B[39m__finalize__(\n\u001B[1;32m   4136\u001B[0m     \u001B[38;5;28mself\u001B[39m, method\u001B[38;5;241m=\u001B[39m\u001B[38;5;124m\"\u001B[39m\u001B[38;5;124mtake\u001B[39m\u001B[38;5;124m\"\u001B[39m\n\u001B[1;32m   4137\u001B[0m )\n",
      "File \u001B[0;32m~/anaconda3/lib/python3.11/site-packages/pandas/core/internals/managers.py:893\u001B[0m, in \u001B[0;36mBaseBlockManager.take\u001B[0;34m(self, indexer, axis, verify)\u001B[0m\n\u001B[1;32m    890\u001B[0m n \u001B[38;5;241m=\u001B[39m \u001B[38;5;28mself\u001B[39m\u001B[38;5;241m.\u001B[39mshape[axis]\n\u001B[1;32m    891\u001B[0m indexer \u001B[38;5;241m=\u001B[39m maybe_convert_indices(indexer, n, verify\u001B[38;5;241m=\u001B[39mverify)\n\u001B[0;32m--> 893\u001B[0m new_labels \u001B[38;5;241m=\u001B[39m \u001B[38;5;28mself\u001B[39m\u001B[38;5;241m.\u001B[39maxes[axis]\u001B[38;5;241m.\u001B[39mtake(indexer)\n\u001B[1;32m    894\u001B[0m \u001B[38;5;28;01mreturn\u001B[39;00m \u001B[38;5;28mself\u001B[39m\u001B[38;5;241m.\u001B[39mreindex_indexer(\n\u001B[1;32m    895\u001B[0m     new_axis\u001B[38;5;241m=\u001B[39mnew_labels,\n\u001B[1;32m    896\u001B[0m     indexer\u001B[38;5;241m=\u001B[39mindexer,\n\u001B[0;32m   (...)\u001B[0m\n\u001B[1;32m    899\u001B[0m     copy\u001B[38;5;241m=\u001B[39m\u001B[38;5;28;01mNone\u001B[39;00m,\n\u001B[1;32m    900\u001B[0m )\n",
      "File \u001B[0;32m~/anaconda3/lib/python3.11/site-packages/pandas/core/indexes/base.py:1174\u001B[0m, in \u001B[0;36mIndex.take\u001B[0;34m(self, indices, axis, allow_fill, fill_value, **kwargs)\u001B[0m\n\u001B[1;32m   1169\u001B[0m \u001B[38;5;28;01melse\u001B[39;00m:\n\u001B[1;32m   1170\u001B[0m     \u001B[38;5;66;03m# algos.take passes 'axis' keyword which not all EAs accept\u001B[39;00m\n\u001B[1;32m   1171\u001B[0m     taken \u001B[38;5;241m=\u001B[39m values\u001B[38;5;241m.\u001B[39mtake(\n\u001B[1;32m   1172\u001B[0m         indices, allow_fill\u001B[38;5;241m=\u001B[39mallow_fill, fill_value\u001B[38;5;241m=\u001B[39m\u001B[38;5;28mself\u001B[39m\u001B[38;5;241m.\u001B[39m_na_value\n\u001B[1;32m   1173\u001B[0m     )\n\u001B[0;32m-> 1174\u001B[0m \u001B[38;5;28;01mreturn\u001B[39;00m \u001B[38;5;28mself\u001B[39m\u001B[38;5;241m.\u001B[39m_constructor\u001B[38;5;241m.\u001B[39m_simple_new(taken, name\u001B[38;5;241m=\u001B[39m\u001B[38;5;28mself\u001B[39m\u001B[38;5;241m.\u001B[39mname)\n",
      "File \u001B[0;32m~/anaconda3/lib/python3.11/site-packages/pandas/core/indexes/base.py:1671\u001B[0m, in \u001B[0;36mIndex.name\u001B[0;34m(self)\u001B[0m\n\u001B[1;32m   1666\u001B[0m     \u001B[38;5;28;01mreturn\u001B[39;00m result\n\u001B[1;32m   1668\u001B[0m \u001B[38;5;66;03m# --------------------------------------------------------------------\u001B[39;00m\n\u001B[1;32m   1669\u001B[0m \u001B[38;5;66;03m# Name-Centric Methods\u001B[39;00m\n\u001B[0;32m-> 1671\u001B[0m \u001B[38;5;129m@property\u001B[39m\n\u001B[1;32m   1672\u001B[0m \u001B[38;5;28;01mdef\u001B[39;00m \u001B[38;5;21mname\u001B[39m(\u001B[38;5;28mself\u001B[39m) \u001B[38;5;241m-\u001B[39m\u001B[38;5;241m>\u001B[39m Hashable:\n\u001B[1;32m   1673\u001B[0m \u001B[38;5;250m    \u001B[39m\u001B[38;5;124;03m\"\"\"\u001B[39;00m\n\u001B[1;32m   1674\u001B[0m \u001B[38;5;124;03m    Return Index or MultiIndex name.\u001B[39;00m\n\u001B[1;32m   1675\u001B[0m \n\u001B[0;32m   (...)\u001B[0m\n\u001B[1;32m   1682\u001B[0m \u001B[38;5;124;03m    'x'\u001B[39;00m\n\u001B[1;32m   1683\u001B[0m \u001B[38;5;124;03m    \"\"\"\u001B[39;00m\n\u001B[1;32m   1684\u001B[0m     \u001B[38;5;28;01mreturn\u001B[39;00m \u001B[38;5;28mself\u001B[39m\u001B[38;5;241m.\u001B[39m_name\n",
      "\u001B[0;31mKeyboardInterrupt\u001B[0m: "
     ]
    }
   ],
   "source": [
    "# from user_data.notebooks.factor_analysis_helper import Factor_Group_Analysis\n",
    "# \n",
    "# # Group Analysis\n",
    "# group_weekly_ret_dict = {}\n",
    "# group_corr_dict = {}\n",
    "# group_factors_list = []\n",
    "# group_factors = []\n",
    "# \n",
    "# for key in icir_factors_list:\n",
    "#     print('---')\n",
    "#     print(f'{key}')\n",
    "#     print('---')\n",
    "#     # if key == 'TTM_TRND_9':\n",
    "#     #     continue\n",
    "#     try:\n",
    "#         group_weekly_ret_dict[key], group_corr_dict[key] = Factor_Group_Analysis(standardized_factors_df_dict[key].dropna(), open_df, 5, 1, key)\n",
    "#     except Exception as e:\n",
    "#         continue\n",
    "#     print(group_weekly_ret_dict[key])\n",
    "#     print(group_corr_dict[key])\n",
    "#     if abs(group_corr_dict[key]) >= 0.5:\n",
    "#         group_factors.append(key)\n",
    "#     \n",
    "# group_factors"
   ],
   "metadata": {
    "collapsed": false,
    "ExecuteTime": {
     "end_time": "2024-11-24T10:26:17.013393Z",
     "start_time": "2024-11-24T10:26:03.181295Z"
    }
   },
   "id": "587159d41373e9b6",
   "execution_count": 218
  },
  {
   "cell_type": "code",
   "outputs": [
    {
     "data": {
      "text/plain": "SAND/USDT:USDT       -35.406770\nMANA/USDT:USDT       -25.607099\nENJ/USDT:USDT        -22.337916\nLRC/USDT:USDT        -20.181583\nXTZ/USDT:USDT        -20.089511\n                        ...    \nXRP/USDT:USDT         10.854752\nETC/USDT:USDT         11.602680\n1000PEPE/USDT:USDT    11.860219\nSOL/USDT:USDT         12.058536\nDOGE/USDT:USDT        14.327546\nName: 2024-11-24 08:00:00+00:00, Length: 100, dtype: float64"
     },
     "execution_count": 219,
     "metadata": {},
     "output_type": "execute_result"
    }
   ],
   "source": [
    "# Try Combine\n",
    "combine_factor_df = pd.DataFrame()\n",
    "\n",
    "for key in icir_factors_list:\n",
    "    ic = factors_icir_report_dict[key]['IC mean']\n",
    "    if combine_factor_df.shape[0] == 0:\n",
    "        combine_factor_df = standardized_factors_df_dict[key] * (-1 if ic < 0 else 1)\n",
    "    else:\n",
    "        combine_factor_df = combine_factor_df + (standardized_factors_df_dict[key] * (-1 if ic < 0 else 1))\n",
    "\n",
    "combine_factor_df.iloc[-1].sort_values()"
   ],
   "metadata": {
    "collapsed": false,
    "ExecuteTime": {
     "end_time": "2024-11-24T10:26:29.325790Z",
     "start_time": "2024-11-24T10:26:29.298797Z"
    }
   },
   "id": "ddf8be512257a170",
   "execution_count": 219
  },
  {
   "cell_type": "code",
   "outputs": [
    {
     "data": {
      "text/plain": "{'name': 'combo',\n 'time frame': '1h',\n 'IC mean': 0.0543,\n 'IC std': 0.1641,\n 'IR': 0.3311,\n 'IC>0': 0.6521,\n 'ABS_IC>2%': 0.8981}"
     },
     "execution_count": 220,
     "metadata": {},
     "output_type": "execute_result"
    }
   ],
   "source": [
    "ic_result, report = Quick_Factor_Return_N_IC(combine_factor_df, open_df, 1, 'combo', '1h')\n",
    "\n",
    "report"
   ],
   "metadata": {
    "collapsed": false,
    "ExecuteTime": {
     "end_time": "2024-11-24T10:26:33.501282Z",
     "start_time": "2024-11-24T10:26:33.348563Z"
    }
   },
   "id": "93f6008e65239817",
   "execution_count": 220
  },
  {
   "cell_type": "code",
   "outputs": [
    {
     "data": {
      "text/plain": "<Axes: title={'center': 'CUM_IC'}, xlabel='date'>"
     },
     "execution_count": 221,
     "metadata": {},
     "output_type": "execute_result"
    },
    {
     "data": {
      "text/plain": "<Figure size 800x550 with 1 Axes>",
      "image/png": "[encoded data removed]"
     },
     "metadata": {},
     "output_type": "display_data"
    }
   ],
   "source": [
    "ic_result.cumsum().plot(title = 'CUM_IC')"
   ],
   "metadata": {
    "collapsed": false,
    "ExecuteTime": {
     "end_time": "2024-11-24T10:26:38.046002Z",
     "start_time": "2024-11-24T10:26:37.736688Z"
    }
   },
   "id": "d85cf35e01d7ffad",
   "execution_count": 221
  },
  {
   "cell_type": "code",
   "outputs": [
    {
     "data": {
      "text/plain": "<Axes: title={'center': 'IC_DAILY'}, xlabel='date'>"
     },
     "execution_count": 222,
     "metadata": {},
     "output_type": "execute_result"
    },
    {
     "data": {
      "text/plain": "<Figure size 1800x400 with 1 Axes>",
      "image/png": "[encoded data removed]"
     },
     "metadata": {},
     "output_type": "display_data"
    }
   ],
   "source": [
    "ic_day = ic_result.resample('D').mean()\n",
    "ic_day.index = ic_day.index.strftime(\"%F\")\n",
    "ic_day.plot(kind = 'bar',figsize=(18,4),title = 'IC_DAILY')"
   ],
   "metadata": {
    "collapsed": false,
    "ExecuteTime": {
     "end_time": "2024-11-24T10:26:42.032769Z",
     "start_time": "2024-11-24T10:26:41.916631Z"
    }
   },
   "id": "4fe39a14dcd20b31",
   "execution_count": 222
  },
  {
   "cell_type": "code",
   "outputs": [
    {
     "name": "stdout",
     "output_type": "stream",
     "text": [
      " 当前：687 / 总量：689"
     ]
    },
    {
     "data": {
      "text/plain": "(    weekly_ret  group\n G1   -0.025973      1\n G2   -0.011430      2\n G3    0.001406      3\n G4    0.012698      4\n G5    0.021617      5,\n 1.0)"
     },
     "execution_count": 223,
     "metadata": {},
     "output_type": "execute_result"
    }
   ],
   "source": [
    "from user_data.notebooks.factor_analysis_helper import Factor_Group_Analysis\n",
    "\n",
    "Factor_Group_Analysis(combine_factor_df.dropna(), open_df, 5, 1, '')"
   ],
   "metadata": {
    "collapsed": false,
    "ExecuteTime": {
     "end_time": "2024-11-24T10:26:50.549040Z",
     "start_time": "2024-11-24T10:26:46.552050Z"
    }
   },
   "id": "22e5bb297b32e24c",
   "execution_count": 223
  },
  {
   "cell_type": "code",
   "outputs": [
    {
     "data": {
      "text/plain": "SAND/USDT:USDT       -35.406770\nMANA/USDT:USDT       -25.607099\nENJ/USDT:USDT        -22.337916\nLRC/USDT:USDT        -20.181583\nXTZ/USDT:USDT        -20.089511\n                        ...    \nXRP/USDT:USDT         10.854752\nETC/USDT:USDT         11.602680\n1000PEPE/USDT:USDT    11.860219\nSOL/USDT:USDT         12.058536\nDOGE/USDT:USDT        14.327546\nName: 2024-11-24 08:00:00+00:00, Length: 100, dtype: float64"
     },
     "execution_count": 224,
     "metadata": {},
     "output_type": "execute_result"
    }
   ],
   "source": [
    "combine_factor_df.iloc[-1].sort_values()"
   ],
   "metadata": {
    "collapsed": false,
    "ExecuteTime": {
     "end_time": "2024-11-24T11:23:13.219511Z",
     "start_time": "2024-11-24T11:23:13.202500Z"
    }
   },
   "id": "1f828ac6ac881ed6",
   "execution_count": 224
  },
  {
   "cell_type": "code",
   "outputs": [
    {
     "data": {
      "text/plain": "{'pta_adx_length_16_lensig_13_mamode_dema',\n 'pta_adx_length_5_lensig_10_mamode_trima',\n 'pta_aroon_length_19',\n 'pta_bbands_length_14_ddof_20_mamode_fwma',\n 'pta_bias_length_10_mamode_dema',\n 'pta_bias_length_14_mamode_trima',\n 'pta_bop',\n 'pta_cfo_length_9',\n 'pta_efi_length_8_mamode_dema',\n 'pta_entropy_length_8',\n 'pta_natr_length_16_mamode_fwma',\n 'pta_roc_length_19'}"
     },
     "execution_count": 225,
     "metadata": {},
     "output_type": "execute_result"
    }
   ],
   "source": [
    "final_factors = icir_factors_list\n",
    "final_pta_indicators_with_parameters = set()\n",
    "\n",
    "# Find pta indicator parameters\n",
    "for final_factor in final_factors:\n",
    "    final_pta_indicators_with_parameters.add(pta_function_factors_dict[final_factor])\n",
    "\n",
    "final_pta_indicators_with_parameters"
   ],
   "metadata": {
    "collapsed": false,
    "ExecuteTime": {
     "end_time": "2024-11-24T11:23:13.672906Z",
     "start_time": "2024-11-24T11:23:13.666195Z"
    }
   },
   "id": "b9674d86a6b59d65",
   "execution_count": 225
  },
  {
   "cell_type": "code",
   "outputs": [
    {
     "data": {
      "text/plain": "{'NATR_16': -0.0283,\n 'BIAS_TRIMA_14': -0.0445,\n 'BIAS_DEMA_10': -0.0527,\n 'ROC_19': -0.0296,\n 'ENTP_8': -0.0202,\n 'CFO_9': -0.0485,\n 'DMP_5': -0.0219,\n 'DMN_5': 0.0249,\n 'EFI_8': -0.0422,\n 'BOP': -0.0442,\n 'AROONOSC_19': -0.0202,\n 'DMP_16': -0.0297,\n 'DMN_16': 0.0296,\n 'BBP_14_2.0': -0.0438}"
     },
     "execution_count": 227,
     "metadata": {},
     "output_type": "execute_result"
    }
   ],
   "source": [
    "factor_ic_map"
   ],
   "metadata": {
    "collapsed": false,
    "ExecuteTime": {
     "end_time": "2024-11-24T11:47:08.483485Z",
     "start_time": "2024-11-24T11:47:08.421576Z"
    }
   },
   "id": "ae8d569565a8f387",
   "execution_count": 227
  },
  {
   "cell_type": "code",
   "outputs": [],
   "source": [],
   "metadata": {
    "collapsed": false
   },
   "id": "190a29181308b424"
  }
 ],
 "metadata": {
  "kernelspec": {
   "display_name": "Python 3",
   "language": "python",
   "name": "python3"
  },
  "language_info": {
   "codemirror_mode": {
    "name": "ipython",
    "version": 2
   },
   "file_extension": ".py",
   "mimetype": "text/x-python",
   "name": "python",
   "nbconvert_exporter": "python",
   "pygments_lexer": "ipython2",
   "version": "2.7.6"
  }
 },
 "nbformat": 4,
 "nbformat_minor": 5
}
