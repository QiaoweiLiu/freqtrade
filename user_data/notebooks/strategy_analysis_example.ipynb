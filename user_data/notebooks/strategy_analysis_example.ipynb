{
 "cells": [
  {
   "cell_type": "markdown",
   "metadata": {},
   "source": [
    "# Strategy analysis example\n",
    "\n",
    "Debugging a strategy can be time-consuming. Freqtrade offers helper functions to visualize raw data.\n",
    "The following assumes you work with SampleStrategy, data for 5m timeframe from Binance and have downloaded them into the data directory in the default location.\n",
    "Please follow the [documentation](https://www.freqtrade.io/en/stable/data-download/) for more details."
   ]
  },
  {
   "cell_type": "markdown",
   "metadata": {},
   "source": [
    "## Setup\n",
    "\n",
    "### Change Working directory to repository root"
   ]
  },
  {
   "cell_type": "code",
   "execution_count": 1,
   "metadata": {
    "ExecuteTime": {
     "end_time": "2024-10-22T04:17:16.849643Z",
     "start_time": "2024-10-22T04:17:16.833117Z"
    }
   },
   "outputs": [
    {
     "name": "stdout",
     "output_type": "stream",
     "text": [
      "/Users/liuqiaowei/SourceCode/freqtrade\n"
     ]
    }
   ],
   "source": [
    "import os\n",
    "from pathlib import Path\n",
    "\n",
    "\n",
    "# Change directory\n",
    "# Modify this cell to insure that the output shows the correct path.\n",
    "# Define all paths relative to the project root shown in the cell output\n",
    "project_root = \"/Users/liuqiaowei/SourceCode/freqtrade/user_data/notebooks\"\n",
    "i = 0\n",
    "try:\n",
    "    os.chdir(project_root)\n",
    "    if not Path(\"LICENSE\").is_file():\n",
    "        i = 0\n",
    "        while i < 4 and (not Path(\"LICENSE\").is_file()):\n",
    "            os.chdir(Path(Path.cwd(), \"../\"))\n",
    "            i += 1\n",
    "        project_root = Path.cwd()\n",
    "except FileNotFoundError:\n",
    "    print(\"Please define the project root relative to the current directory\")\n",
    "print(Path.cwd())"
   ]
  },
  {
   "cell_type": "markdown",
   "metadata": {},
   "source": [
    "### Configure Freqtrade environment"
   ]
  },
  {
   "cell_type": "code",
   "execution_count": 2,
   "metadata": {
    "ExecuteTime": {
     "end_time": "2024-10-22T04:17:18.952803Z",
     "start_time": "2024-10-22T04:17:18.034751Z"
    }
   },
   "outputs": [],
   "source": [
    "from freqtrade.configuration import Configuration\n",
    "\n",
    "\n",
    "# Customize these according to your needs.\n",
    "\n",
    "# Initialize empty configuration object\n",
    "config = Configuration.from_files([\"./user_data/config.json\"])\n",
    "# Optionally (recommended), use existing configuration file\n",
    "# config = Configuration.from_files([\"user_data/config.json\"])\n",
    "\n",
    "# Define some constants\n",
    "config[\"timeframe\"] = \"5m\"\n",
    "# Name of the strategy class\n",
    "config[\"strategy\"] = \"SampleStrategy\"\n",
    "# Location of the data\n",
    "data_location = config[\"datadir\"]\n",
    "# Pair to analyze - Only use one pair here\n",
    "pair = \"BTC/USDT\""
   ]
  },
  {
   "cell_type": "code",
   "execution_count": 5,
   "metadata": {
    "ExecuteTime": {
     "end_time": "2024-10-22T04:18:26.624658Z",
     "start_time": "2024-10-22T04:18:26.570494Z"
    }
   },
   "outputs": [
    {
     "name": "stdout",
     "output_type": "stream",
     "text": [
      "Loaded 62875 rows of data for BTC/USDT from /Users/liuqiaowei/SourceCode/freqtrade/user_data/data/binance\n"
     ]
    },
    {
     "data": {
      "text/plain": "                       date      open      high       low     close     volume\n0 2024-03-17 19:35:00+00:00  68343.44  68372.00  68230.00  68236.00   66.32172\n1 2024-03-17 19:40:00+00:00  68235.99  68377.95  68235.99  68356.00   47.12606\n2 2024-03-17 19:45:00+00:00  68356.00  68475.00  68356.00  68442.12  107.60858\n3 2024-03-17 19:50:00+00:00  68442.12  68456.64  68359.30  68404.54  113.54426\n4 2024-03-17 19:55:00+00:00  68404.53  68571.10  68404.53  68536.73   84.42439\n5 2024-03-17 20:00:00+00:00  68536.72  68593.43  68436.01  68587.33  101.89502\n6 2024-03-17 20:05:00+00:00  68587.33  68616.48  68508.00  68540.00  105.93920\n7 2024-03-17 20:10:00+00:00  68540.00  68657.79  68539.99  68640.00  114.13516\n8 2024-03-17 20:15:00+00:00  68639.99  68666.00  68512.00  68512.60  134.72535\n9 2024-03-17 20:20:00+00:00  68512.59  68544.13  68473.66  68539.76   74.10380",
      "text/html": "<div>\n<style scoped>\n    .dataframe tbody tr th:only-of-type {\n        vertical-align: middle;\n    }\n\n    .dataframe tbody tr th {\n        vertical-align: top;\n    }\n\n    .dataframe thead th {\n        text-align: right;\n    }\n</style>\n<table border=\"1\" class=\"dataframe\">\n  <thead>\n    <tr style=\"text-align: right;\">\n      <th></th>\n      <th>date</th>\n      <th>open</th>\n      <th>high</th>\n      <th>low</th>\n      <th>close</th>\n      <th>volume</th>\n    </tr>\n  </thead>\n  <tbody>\n    <tr>\n      <th>0</th>\n      <td>2024-03-17 19:35:00+00:00</td>\n      <td>68343.44</td>\n      <td>68372.00</td>\n      <td>68230.00</td>\n      <td>68236.00</td>\n      <td>66.32172</td>\n    </tr>\n    <tr>\n      <th>1</th>\n      <td>2024-03-17 19:40:00+00:00</td>\n      <td>68235.99</td>\n      <td>68377.95</td>\n      <td>68235.99</td>\n      <td>68356.00</td>\n      <td>47.12606</td>\n    </tr>\n    <tr>\n      <th>2</th>\n      <td>2024-03-17 19:45:00+00:00</td>\n      <td>68356.00</td>\n      <td>68475.00</td>\n      <td>68356.00</td>\n      <td>68442.12</td>\n      <td>107.60858</td>\n    </tr>\n    <tr>\n      <th>3</th>\n      <td>2024-03-17 19:50:00+00:00</td>\n      <td>68442.12</td>\n      <td>68456.64</td>\n      <td>68359.30</td>\n      <td>68404.54</td>\n      <td>113.54426</td>\n    </tr>\n    <tr>\n      <th>4</th>\n      <td>2024-03-17 19:55:00+00:00</td>\n      <td>68404.53</td>\n      <td>68571.10</td>\n      <td>68404.53</td>\n      <td>68536.73</td>\n      <td>84.42439</td>\n    </tr>\n    <tr>\n      <th>5</th>\n      <td>2024-03-17 20:00:00+00:00</td>\n      <td>68536.72</td>\n      <td>68593.43</td>\n      <td>68436.01</td>\n      <td>68587.33</td>\n      <td>101.89502</td>\n    </tr>\n    <tr>\n      <th>6</th>\n      <td>2024-03-17 20:05:00+00:00</td>\n      <td>68587.33</td>\n      <td>68616.48</td>\n      <td>68508.00</td>\n      <td>68540.00</td>\n      <td>105.93920</td>\n    </tr>\n    <tr>\n      <th>7</th>\n      <td>2024-03-17 20:10:00+00:00</td>\n      <td>68540.00</td>\n      <td>68657.79</td>\n      <td>68539.99</td>\n      <td>68640.00</td>\n      <td>114.13516</td>\n    </tr>\n    <tr>\n      <th>8</th>\n      <td>2024-03-17 20:15:00+00:00</td>\n      <td>68639.99</td>\n      <td>68666.00</td>\n      <td>68512.00</td>\n      <td>68512.60</td>\n      <td>134.72535</td>\n    </tr>\n    <tr>\n      <th>9</th>\n      <td>2024-03-17 20:20:00+00:00</td>\n      <td>68512.59</td>\n      <td>68544.13</td>\n      <td>68473.66</td>\n      <td>68539.76</td>\n      <td>74.10380</td>\n    </tr>\n  </tbody>\n</table>\n</div>"
     },
     "execution_count": 5,
     "metadata": {},
     "output_type": "execute_result"
    }
   ],
   "source": [
    "# Load data using values set above\n",
    "from freqtrade.data.history import load_pair_history\n",
    "from freqtrade.enums import CandleType\n",
    "\n",
    "\n",
    "candles = load_pair_history(\n",
    "    datadir=data_location,\n",
    "    timeframe=config[\"timeframe\"],\n",
    "    pair=pair,\n",
    "    data_format=\"feather\",  # Make sure to update this to your data\n",
    "    candle_type=CandleType.FUTURES,\n",
    ")\n",
    "\n",
    "# Confirm success\n",
    "print(f\"Loaded {len(candles)} rows of data for {pair} from {data_location}\")\n",
    "candles.head(10)"
   ]
  },
  {
   "cell_type": "markdown",
   "metadata": {},
   "source": [
    "## Load and run strategy\n",
    "* Rerun each time the strategy file is changed"
   ]
  },
  {
   "cell_type": "code",
   "outputs": [],
   "source": [
    "config[\"strategy\"] = \"SampleStrategy\""
   ],
   "metadata": {
    "collapsed": false,
    "ExecuteTime": {
     "end_time": "2024-10-22T04:18:41.857443Z",
     "start_time": "2024-10-22T04:18:41.841221Z"
    }
   },
   "execution_count": 6
  },
  {
   "cell_type": "code",
   "execution_count": 7,
   "metadata": {
    "ExecuteTime": {
     "end_time": "2024-10-22T04:18:45.494137Z",
     "start_time": "2024-10-22T04:18:45.442780Z"
    }
   },
   "outputs": [
    {
     "ename": "OperationalException",
     "evalue": "No freqaimodel set. Please use `--freqaimodel` to specify the FreqaiModel class to use.\n",
     "output_type": "error",
     "traceback": [
      "\u001B[0;31m---------------------------------------------------------------------------\u001B[0m",
      "\u001B[0;31mOperationalException\u001B[0m                      Traceback (most recent call last)",
      "Cell \u001B[0;32mIn[7], line 8\u001B[0m\n\u001B[1;32m      6\u001B[0m strategy \u001B[38;5;241m=\u001B[39m StrategyResolver\u001B[38;5;241m.\u001B[39mload_strategy(config)\n\u001B[1;32m      7\u001B[0m strategy\u001B[38;5;241m.\u001B[39mdp \u001B[38;5;241m=\u001B[39m DataProvider(config, \u001B[38;5;28;01mNone\u001B[39;00m, \u001B[38;5;28;01mNone\u001B[39;00m)\n\u001B[0;32m----> 8\u001B[0m strategy\u001B[38;5;241m.\u001B[39mft_bot_start()\n\u001B[1;32m     10\u001B[0m \u001B[38;5;66;03m# Generate buy/sell signals using strategy\u001B[39;00m\n\u001B[1;32m     11\u001B[0m df \u001B[38;5;241m=\u001B[39m strategy\u001B[38;5;241m.\u001B[39manalyze_ticker(candles, {\u001B[38;5;124m\"\u001B[39m\u001B[38;5;124mpair\u001B[39m\u001B[38;5;124m\"\u001B[39m: pair})\n",
      "File \u001B[0;32m~/SourceCode/freqtrade/freqtrade/strategy/interface.py:212\u001B[0m, in \u001B[0;36mIStrategy.ft_bot_start\u001B[0;34m(self, **kwargs)\u001B[0m\n\u001B[1;32m    207\u001B[0m \u001B[38;5;28;01mdef\u001B[39;00m \u001B[38;5;21mft_bot_start\u001B[39m(\u001B[38;5;28mself\u001B[39m, \u001B[38;5;241m*\u001B[39m\u001B[38;5;241m*\u001B[39mkwargs) \u001B[38;5;241m-\u001B[39m\u001B[38;5;241m>\u001B[39m \u001B[38;5;28;01mNone\u001B[39;00m:\n\u001B[1;32m    208\u001B[0m \u001B[38;5;250m    \u001B[39m\u001B[38;5;124;03m\"\"\"\u001B[39;00m\n\u001B[1;32m    209\u001B[0m \u001B[38;5;124;03m    Strategy init - runs after dataprovider has been added.\u001B[39;00m\n\u001B[1;32m    210\u001B[0m \u001B[38;5;124;03m    Must call bot_start()\u001B[39;00m\n\u001B[1;32m    211\u001B[0m \u001B[38;5;124;03m    \"\"\"\u001B[39;00m\n\u001B[0;32m--> 212\u001B[0m     \u001B[38;5;28mself\u001B[39m\u001B[38;5;241m.\u001B[39mload_freqAI_model()\n\u001B[1;32m    214\u001B[0m     strategy_safe_wrapper(\u001B[38;5;28mself\u001B[39m\u001B[38;5;241m.\u001B[39mbot_start)()\n\u001B[1;32m    216\u001B[0m     \u001B[38;5;28mself\u001B[39m\u001B[38;5;241m.\u001B[39mft_load_hyper_params(\u001B[38;5;28mself\u001B[39m\u001B[38;5;241m.\u001B[39mconfig\u001B[38;5;241m.\u001B[39mget(\u001B[38;5;124m\"\u001B[39m\u001B[38;5;124mrunmode\u001B[39m\u001B[38;5;124m\"\u001B[39m) \u001B[38;5;241m==\u001B[39m RunMode\u001B[38;5;241m.\u001B[39mHYPEROPT)\n",
      "File \u001B[0;32m~/SourceCode/freqtrade/freqtrade/strategy/interface.py:182\u001B[0m, in \u001B[0;36mIStrategy.load_freqAI_model\u001B[0;34m(self)\u001B[0m\n\u001B[1;32m    179\u001B[0m \u001B[38;5;28;01mfrom\u001B[39;00m \u001B[38;5;21;01mfreqtrade\u001B[39;00m\u001B[38;5;21;01m.\u001B[39;00m\u001B[38;5;21;01mfreqai\u001B[39;00m\u001B[38;5;21;01m.\u001B[39;00m\u001B[38;5;21;01mutils\u001B[39;00m \u001B[38;5;28;01mimport\u001B[39;00m download_all_data_for_training\n\u001B[1;32m    180\u001B[0m \u001B[38;5;28;01mfrom\u001B[39;00m \u001B[38;5;21;01mfreqtrade\u001B[39;00m\u001B[38;5;21;01m.\u001B[39;00m\u001B[38;5;21;01mresolvers\u001B[39;00m\u001B[38;5;21;01m.\u001B[39;00m\u001B[38;5;21;01mfreqaimodel_resolver\u001B[39;00m \u001B[38;5;28;01mimport\u001B[39;00m FreqaiModelResolver\n\u001B[0;32m--> 182\u001B[0m \u001B[38;5;28mself\u001B[39m\u001B[38;5;241m.\u001B[39mfreqai \u001B[38;5;241m=\u001B[39m FreqaiModelResolver\u001B[38;5;241m.\u001B[39mload_freqaimodel(\u001B[38;5;28mself\u001B[39m\u001B[38;5;241m.\u001B[39mconfig)\n\u001B[1;32m    183\u001B[0m \u001B[38;5;28mself\u001B[39m\u001B[38;5;241m.\u001B[39mfreqai_info \u001B[38;5;241m=\u001B[39m \u001B[38;5;28mself\u001B[39m\u001B[38;5;241m.\u001B[39mconfig[\u001B[38;5;124m\"\u001B[39m\u001B[38;5;124mfreqai\u001B[39m\u001B[38;5;124m\"\u001B[39m]\n\u001B[1;32m    185\u001B[0m \u001B[38;5;66;03m# download the desired data in dry/live\u001B[39;00m\n",
      "File \u001B[0;32m~/SourceCode/freqtrade/freqtrade/resolvers/freqaimodel_resolver.py:42\u001B[0m, in \u001B[0;36mFreqaiModelResolver.load_freqaimodel\u001B[0;34m(config)\u001B[0m\n\u001B[1;32m     40\u001B[0m freqaimodel_name \u001B[38;5;241m=\u001B[39m config\u001B[38;5;241m.\u001B[39mget(\u001B[38;5;124m\"\u001B[39m\u001B[38;5;124mfreqaimodel\u001B[39m\u001B[38;5;124m\"\u001B[39m)\n\u001B[1;32m     41\u001B[0m \u001B[38;5;28;01mif\u001B[39;00m \u001B[38;5;129;01mnot\u001B[39;00m freqaimodel_name:\n\u001B[0;32m---> 42\u001B[0m     \u001B[38;5;28;01mraise\u001B[39;00m OperationalException(\n\u001B[1;32m     43\u001B[0m         \u001B[38;5;124m\"\u001B[39m\u001B[38;5;124mNo freqaimodel set. Please use `--freqaimodel` to \u001B[39m\u001B[38;5;124m\"\u001B[39m\n\u001B[1;32m     44\u001B[0m         \u001B[38;5;124m\"\u001B[39m\u001B[38;5;124mspecify the FreqaiModel class to use.\u001B[39m\u001B[38;5;130;01m\\n\u001B[39;00m\u001B[38;5;124m\"\u001B[39m\n\u001B[1;32m     45\u001B[0m     )\n\u001B[1;32m     46\u001B[0m \u001B[38;5;28;01mif\u001B[39;00m freqaimodel_name \u001B[38;5;129;01min\u001B[39;00m disallowed_models:\n\u001B[1;32m     47\u001B[0m     \u001B[38;5;28;01mraise\u001B[39;00m OperationalException(\n\u001B[1;32m     48\u001B[0m         \u001B[38;5;124mf\u001B[39m\u001B[38;5;124m\"\u001B[39m\u001B[38;5;132;01m{\u001B[39;00mfreqaimodel_name\u001B[38;5;132;01m}\u001B[39;00m\u001B[38;5;124m is a baseclass and cannot be used directly. Please choose \u001B[39m\u001B[38;5;124m\"\u001B[39m\n\u001B[1;32m     49\u001B[0m         \u001B[38;5;124m\"\u001B[39m\u001B[38;5;124man existing child class or inherit from this baseclass.\u001B[39m\u001B[38;5;130;01m\\n\u001B[39;00m\u001B[38;5;124m\"\u001B[39m\n\u001B[1;32m     50\u001B[0m     )\n",
      "\u001B[0;31mOperationalException\u001B[0m: No freqaimodel set. Please use `--freqaimodel` to specify the FreqaiModel class to use.\n"
     ]
    }
   ],
   "source": [
    "# Load strategy using values set above\n",
    "from freqtrade.data.dataprovider import DataProvider\n",
    "from freqtrade.resolvers import StrategyResolver\n",
    "\n",
    "\n",
    "strategy = StrategyResolver.load_strategy(config)\n",
    "strategy.dp = DataProvider(config, None, None)\n",
    "strategy.ft_bot_start()\n",
    "\n",
    "# Generate buy/sell signals using strategy\n",
    "df = strategy.analyze_ticker(candles, {\"pair\": pair})\n",
    "df.tail()"
   ]
  },
  {
   "cell_type": "markdown",
   "metadata": {},
   "source": [
    "### Display the trade details\n",
    "\n",
    "* Note that using `data.head()` would also work, however most indicators have some \"startup\" data at the top of the dataframe.\n",
    "* Some possible problems\n",
    "    * Columns with NaN values at the end of the dataframe\n",
    "    * Columns used in `crossed*()` functions with completely different units\n",
    "* Comparison with full backtest\n",
    "    * having 200 buy signals as output for one pair from `analyze_ticker()` does not necessarily mean that 200 trades will be made during backtesting.\n",
    "    * Assuming you use only one condition such as, `df['rsi'] < 30` as buy condition, this will generate multiple \"buy\" signals for each pair in sequence (until rsi returns > 29). The bot will only buy on the first of these signals (and also only if a trade-slot (\"max_open_trades\") is still available), or on one of the middle signals, as soon as a \"slot\" becomes available.  \n"
   ]
  },
  {
   "cell_type": "code",
   "execution_count": 23,
   "metadata": {
    "ExecuteTime": {
     "end_time": "2024-10-22T04:13:58.747417Z",
     "start_time": "2024-10-22T04:13:58.729638Z"
    }
   },
   "outputs": [
    {
     "ename": "NameError",
     "evalue": "name 'df' is not defined",
     "output_type": "error",
     "traceback": [
      "\u001B[0;31m---------------------------------------------------------------------------\u001B[0m",
      "\u001B[0;31mNameError\u001B[0m                                 Traceback (most recent call last)",
      "Cell \u001B[0;32mIn[23], line 2\u001B[0m\n\u001B[1;32m      1\u001B[0m \u001B[38;5;66;03m# Report results\u001B[39;00m\n\u001B[0;32m----> 2\u001B[0m \u001B[38;5;28mprint\u001B[39m(\u001B[38;5;124mf\u001B[39m\u001B[38;5;124m\"\u001B[39m\u001B[38;5;124mGenerated \u001B[39m\u001B[38;5;132;01m{\u001B[39;00mdf[\u001B[38;5;124m'\u001B[39m\u001B[38;5;124menter_long\u001B[39m\u001B[38;5;124m'\u001B[39m]\u001B[38;5;241m.\u001B[39msum()\u001B[38;5;132;01m}\u001B[39;00m\u001B[38;5;124m entry signals\u001B[39m\u001B[38;5;124m\"\u001B[39m)\n\u001B[1;32m      3\u001B[0m data \u001B[38;5;241m=\u001B[39m df\u001B[38;5;241m.\u001B[39mset_index(\u001B[38;5;124m\"\u001B[39m\u001B[38;5;124mdate\u001B[39m\u001B[38;5;124m\"\u001B[39m, drop\u001B[38;5;241m=\u001B[39m\u001B[38;5;28;01mFalse\u001B[39;00m)\n\u001B[1;32m      4\u001B[0m data\u001B[38;5;241m.\u001B[39mtail()\n",
      "\u001B[0;31mNameError\u001B[0m: name 'df' is not defined"
     ]
    }
   ],
   "source": [
    "# Report results\n",
    "print(f\"Generated {df['enter_long'].sum()} entry signals\")\n",
    "data = df.set_index(\"date\", drop=False)\n",
    "data.tail()"
   ]
  },
  {
   "cell_type": "markdown",
   "metadata": {},
   "source": [
    "## Load existing objects into a Jupyter notebook\n",
    "\n",
    "The following cells assume that you have already generated data using the cli.  \n",
    "They will allow you to drill deeper into your results, and perform analysis which otherwise would make the output very difficult to digest due to information overload."
   ]
  },
  {
   "cell_type": "markdown",
   "metadata": {},
   "source": [
    "### Load backtest results to pandas dataframe\n",
    "\n",
    "Analyze a trades dataframe (also used below for plotting)"
   ]
  },
  {
   "cell_type": "code",
   "execution_count": null,
   "metadata": {},
   "outputs": [],
   "source": [
    "from freqtrade.data.btanalysis import load_backtest_data, load_backtest_stats\n",
    "\n",
    "\n",
    "# if backtest_dir points to a directory, it'll automatically load the last backtest file.\n",
    "backtest_dir = config[\"user_data_dir\"] / \"backtest_results\"\n",
    "# backtest_dir can also point to a specific file\n",
    "# backtest_dir = (\n",
    "#   config[\"user_data_dir\"] / \"backtest_results/backtest-result-2020-07-01_20-04-22.json\"\n",
    "# )"
   ]
  },
  {
   "cell_type": "code",
   "execution_count": null,
   "metadata": {},
   "outputs": [],
   "source": [
    "# You can get the full backtest statistics by using the following command.\n",
    "# This contains all information used to generate the backtest result.\n",
    "stats = load_backtest_stats(backtest_dir)\n",
    "\n",
    "strategy = \"SampleStrategy\"\n",
    "# All statistics are available per strategy, so if `--strategy-list` was used during backtest,\n",
    "# this will be reflected here as well.\n",
    "# Example usages:\n",
    "print(stats[\"strategy\"][strategy][\"results_per_pair\"])\n",
    "# Get pairlist used for this backtest\n",
    "print(stats[\"strategy\"][strategy][\"pairlist\"])\n",
    "# Get market change (average change of all pairs from start to end of the backtest period)\n",
    "print(stats[\"strategy\"][strategy][\"market_change\"])\n",
    "# Maximum drawdown ()\n",
    "print(stats[\"strategy\"][strategy][\"max_drawdown\"])\n",
    "# Maximum drawdown start and end\n",
    "print(stats[\"strategy\"][strategy][\"drawdown_start\"])\n",
    "print(stats[\"strategy\"][strategy][\"drawdown_end\"])\n",
    "\n",
    "\n",
    "# Get strategy comparison (only relevant if multiple strategies were compared)\n",
    "print(stats[\"strategy_comparison\"])"
   ]
  },
  {
   "cell_type": "code",
   "execution_count": null,
   "metadata": {},
   "outputs": [],
   "source": [
    "# Load backtested trades as dataframe\n",
    "trades = load_backtest_data(backtest_dir)\n",
    "\n",
    "# Show value-counts per pair\n",
    "trades.groupby(\"pair\")[\"exit_reason\"].value_counts()"
   ]
  },
  {
   "cell_type": "markdown",
   "metadata": {},
   "source": [
    "## Plotting daily profit / equity line"
   ]
  },
  {
   "cell_type": "code",
   "execution_count": null,
   "metadata": {},
   "outputs": [],
   "source": [
    "# Plotting equity line (starting with 0 on day 1 and adding daily profit for each backtested day)\n",
    "\n",
    "import pandas as pd\n",
    "import plotly.express as px\n",
    "\n",
    "from freqtrade.configuration import Configuration\n",
    "from freqtrade.data.btanalysis import load_backtest_stats\n",
    "\n",
    "\n",
    "# strategy = 'SampleStrategy'\n",
    "# config = Configuration.from_files([\"user_data/config.json\"])\n",
    "# backtest_dir = config[\"user_data_dir\"] / \"backtest_results\"\n",
    "\n",
    "stats = load_backtest_stats(backtest_dir)\n",
    "strategy_stats = stats[\"strategy\"][strategy]\n",
    "\n",
    "df = pd.DataFrame(columns=[\"dates\", \"equity\"], data=strategy_stats[\"daily_profit\"])\n",
    "df[\"equity_daily\"] = df[\"equity\"].cumsum()\n",
    "\n",
    "fig = px.line(df, x=\"dates\", y=\"equity_daily\")\n",
    "fig.show()"
   ]
  },
  {
   "cell_type": "markdown",
   "metadata": {},
   "source": [
    "### Load live trading results into a pandas dataframe\n",
    "\n",
    "In case you did already some trading and want to analyze your performance"
   ]
  },
  {
   "cell_type": "code",
   "execution_count": null,
   "metadata": {},
   "outputs": [],
   "source": [
    "from freqtrade.data.btanalysis import load_trades_from_db\n",
    "\n",
    "\n",
    "# Fetch trades from database\n",
    "trades = load_trades_from_db(\"sqlite:///tradesv3.sqlite\")\n",
    "\n",
    "# Display results\n",
    "trades.groupby(\"pair\")[\"exit_reason\"].value_counts()"
   ]
  },
  {
   "cell_type": "markdown",
   "metadata": {},
   "source": [
    "## Analyze the loaded trades for trade parallelism\n",
    "This can be useful to find the best `max_open_trades` parameter, when used with backtesting in conjunction with `--disable-max-market-positions`.\n",
    "\n",
    "`analyze_trade_parallelism()` returns a timeseries dataframe with an \"open_trades\" column, specifying the number of open trades for each candle."
   ]
  },
  {
   "cell_type": "code",
   "execution_count": null,
   "metadata": {},
   "outputs": [],
   "source": [
    "from freqtrade.data.btanalysis import analyze_trade_parallelism\n",
    "\n",
    "\n",
    "# Analyze the above\n",
    "parallel_trades = analyze_trade_parallelism(trades, \"5m\")\n",
    "\n",
    "parallel_trades.plot()"
   ]
  },
  {
   "cell_type": "markdown",
   "metadata": {},
   "source": [
    "## Plot results\n",
    "\n",
    "Freqtrade offers interactive plotting capabilities based on plotly."
   ]
  },
  {
   "cell_type": "code",
   "execution_count": null,
   "metadata": {},
   "outputs": [],
   "source": [
    "from freqtrade.plot.plotting import generate_candlestick_graph\n",
    "\n",
    "\n",
    "# Limit graph period to keep plotly quick and reactive\n",
    "\n",
    "# Filter trades to one pair\n",
    "trades_red = trades.loc[trades[\"pair\"] == pair]\n",
    "\n",
    "data_red = data[\"2019-06-01\":\"2019-06-10\"]\n",
    "# Generate candlestick graph\n",
    "graph = generate_candlestick_graph(\n",
    "    pair=pair,\n",
    "    data=data_red,\n",
    "    trades=trades_red,\n",
    "    indicators1=[\"sma20\", \"ema50\", \"ema55\"],\n",
    "    indicators2=[\"rsi\", \"macd\", \"macdsignal\", \"macdhist\"],\n",
    ")"
   ]
  },
  {
   "cell_type": "code",
   "execution_count": null,
   "metadata": {},
   "outputs": [],
   "source": [
    "# Show graph inline\n",
    "# graph.show()\n",
    "\n",
    "# Render graph in a separate window\n",
    "graph.show(renderer=\"browser\")"
   ]
  },
  {
   "cell_type": "markdown",
   "metadata": {},
   "source": [
    "## Plot average profit per trade as distribution graph"
   ]
  },
  {
   "cell_type": "code",
   "execution_count": null,
   "metadata": {},
   "outputs": [],
   "source": [
    "import plotly.figure_factory as ff\n",
    "\n",
    "\n",
    "hist_data = [trades.profit_ratio]\n",
    "group_labels = [\"profit_ratio\"]  # name of the dataset\n",
    "\n",
    "fig = ff.create_distplot(hist_data, group_labels, bin_size=0.01)\n",
    "fig.show()"
   ]
  },
  {
   "cell_type": "markdown",
   "metadata": {},
   "source": [
    "Feel free to submit an issue or Pull Request enhancing this document if you would like to share ideas on how to best analyze the data."
   ]
  }
 ],
 "metadata": {
  "file_extension": ".py",
  "kernelspec": {
   "display_name": "Python 3.9.7 64-bit",
   "language": "python",
   "name": "python3"
  },
  "language_info": {
   "codemirror_mode": {
    "name": "ipython",
    "version": 3
   },
   "file_extension": ".py",
   "mimetype": "text/x-python",
   "name": "python",
   "nbconvert_exporter": "python",
   "pygments_lexer": "ipython3",
   "version": "3.11.4"
  },
  "mimetype": "text/x-python",
  "name": "python",
  "npconvert_exporter": "python",
  "pygments_lexer": "ipython3",
  "toc": {
   "base_numbering": 1,
   "nav_menu": {},
   "number_sections": true,
   "sideBar": true,
   "skip_h1_title": false,
   "title_cell": "Table of Contents",
   "title_sidebar": "Contents",
   "toc_cell": false,
   "toc_position": {},
   "toc_section_display": true,
   "toc_window_display": false
  },
  "varInspector": {
   "cols": {
    "lenName": 16,
    "lenType": 16,
    "lenVar": 40
   },
   "kernels_config": {
    "python": {
     "delete_cmd_postfix": "",
     "delete_cmd_prefix": "del ",
     "library": "var_list.py",
     "varRefreshCmd": "print(var_dic_list())"
    },
    "r": {
     "delete_cmd_postfix": ") ",
     "delete_cmd_prefix": "rm(",
     "library": "var_list.r",
     "varRefreshCmd": "cat(var_dic_list()) "
    }
   },
   "types_to_exclude": [
    "module",
    "function",
    "builtin_function_or_method",
    "instance",
    "_Feature"
   ],
   "window_display": false
  },
  "version": 3,
  "vscode": {
   "interpreter": {
    "hash": "675f32a300d6d26767470181ad0b11dd4676bcce7ed1dd2ffe2fbc370c95fc7c"
   }
  }
 },
 "nbformat": 4,
 "nbformat_minor": 4
}
